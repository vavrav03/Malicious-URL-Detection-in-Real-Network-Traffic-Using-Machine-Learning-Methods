{
 "cells": [
  {
   "cell_type": "code",
   "execution_count": 1,
   "id": "ff4e93b9",
   "metadata": {},
   "outputs": [],
   "source": [
    "# import sys\n",
    "# sys.path.append(\"../../\")"
   ]
  },
  {
   "cell_type": "code",
   "execution_count": 2,
   "id": "f56bc389",
   "metadata": {},
   "outputs": [
    {
     "name": "stderr",
     "output_type": "stream",
     "text": [
      "/Users/vlavavra/miniconda3/envs/bp/lib/python3.10/site-packages/tqdm/auto.py:21: TqdmWarning: IProgress not found. Please update jupyter and ipywidgets. See https://ipywidgets.readthedocs.io/en/stable/user_install.html\n",
      "  from .autonotebook import tqdm as notebook_tqdm\n"
     ]
    }
   ],
   "source": [
    "import json\n",
    "from types import SimpleNamespace\n",
    "import os\n",
    "import ast\n",
    "import random\n",
    "\n",
    "from transformers import BertForSequenceClassification, AutoTokenizer\n",
    "from dotenv import load_dotenv\n",
    "import numpy as np\n",
    "import pandas as pd\n",
    "import torch\n",
    "from torch.utils.data import DataLoader\n",
    "\n",
    "from utils.transformers import TransformerModelManager\n",
    "from utils.dataset import get_df_by_folds_from_args\n",
    "from utils.dataset import URLDatasetPart"
   ]
  },
  {
   "cell_type": "code",
   "execution_count": 3,
   "id": "1b47c9bc",
   "metadata": {},
   "outputs": [],
   "source": [
    "def parse_value(v: str):\n",
    "    if v == \"None\":\n",
    "        return None\n",
    "    if v in {\"True\", \"False\"}:\n",
    "        return v == \"True\"\n",
    "    try:\n",
    "        return int(v)\n",
    "    except ValueError:\n",
    "        pass\n",
    "    try:\n",
    "        return float(v)\n",
    "    except ValueError:\n",
    "        pass\n",
    "    try:\n",
    "        obj = ast.literal_eval(v)\n",
    "        if isinstance(obj, (list, tuple, dict)):\n",
    "            return obj\n",
    "    except (ValueError, SyntaxError):\n",
    "        pass\n",
    "    return v\n",
    "\n",
    "def convert_params(raw_params: dict) -> dict:\n",
    "    return {k: parse_value(v) for k, v in raw_params.items()}"
   ]
  },
  {
   "cell_type": "code",
   "execution_count": 4,
   "id": "c65c43ae",
   "metadata": {},
   "outputs": [],
   "source": [
    "def load_model_from_folder(folder_path, device=None):\n",
    "    tokenizer = AutoTokenizer.from_pretrained(folder_path)\n",
    "    model = BertForSequenceClassification.from_pretrained(folder_path)\n",
    "    \n",
    "    params_path = os.path.join(folder_path, \"parameters.json\")\n",
    "    with open(params_path, \"r\") as f:\n",
    "        raw_params = json.load(f)\n",
    "\n",
    "    params = convert_params(raw_params)\n",
    "\n",
    "    args = SimpleNamespace(**params)\n",
    "    print(params)\n",
    "    return TransformerModelManager(args, model, tokenizer, device)"
   ]
  },
  {
   "cell_type": "code",
   "execution_count": 5,
   "id": "e3996dcd",
   "metadata": {},
   "outputs": [
    {
     "name": "stdout",
     "output_type": "stream",
     "text": [
      "{'batch_size': 128, 'bert_learning_rate': 3e-05, 'classifier_learning_rate': 0.002, 'dataset_name': 'joined', 'decision_threshold': 0.5, 'dropout': 0, 'epochs_max': 4, 'eval_folds': [4], 'focal_loss_alpha': -1, 'focal_loss_gamma': 2, 'freeze_epochs': 1, 'label_count': 2, 'loss': 'focal', 'max_sequence_length': 256, 'model_checkpoint': 'google/bert_uncased_L-2_H-128_A-2', 'model_type': 'bert_tiny', 'patience': 3, 'seed': 42, 'shorten_to_eval': None, 'shorten_to_train': None, 'token_replacement': False, 'train_folds': None, 'weight_decay': 0}\n",
      "Setting focal loss -1 2 mean\n"
     ]
    }
   ],
   "source": [
    "model_manager = load_model_from_folder(\"./results/models/bert_tiny-joined_best_params_group\")\n",
    "default_args = model_manager.args"
   ]
  },
  {
   "cell_type": "code",
   "execution_count": 6,
   "id": "bd771773",
   "metadata": {},
   "outputs": [],
   "source": [
    "loaded = load_dotenv(\".env\")\n",
    "if not loaded:\n",
    "    loaded = load_dotenv(\"../../.env\")\n",
    "assert loaded is True\n",
    "np.random.seed(default_args.seed)\n",
    "torch.manual_seed(default_args.seed)\n",
    "# in case any standard library uses some random function\n",
    "random.seed(default_args.seed)\n",
    "os.environ[\"TOKENIZERS_PARALLELISM\"] = \"true\"\n",
    "os.environ[\"NCCL_SHM_DISABLE\"] = \"1\"\n",
    "\n",
    "\n",
    "# if you find those version and useless warnings annoying, uncomment\n",
    "# import warnings\n",
    "pd.set_option(\"display.max_colwidth\", 120)\n",
    "pd.set_option(\"display.max_rows\", 800)\n",
    "# warnings.filterwarnings(\"ignore\", category=FutureWarning)\n",
    "# warnings.filterwarnings(\"ignore\", category=UserWarning, module=\"_distutils_hack\")"
   ]
  },
  {
   "cell_type": "code",
   "execution_count": 7,
   "id": "0ad1cc61",
   "metadata": {},
   "outputs": [
    {
     "name": "stdout",
     "output_type": "stream",
     "text": [
      "[dataset] Using public dataset joined with path: ./data/processed/joined\n",
      "[dataset]: All folds [0, 1, 2, 3, 4]\n",
      "[0, 1, 2, 3] [0, 1, 2, 3, 4]\n",
      "[4] [0, 1, 2, 3, 4]\n",
      "[dataset] Shortening applied to df of length: 572349 by (600u)\n",
      "[dataset] New length is 600\n",
      "[dataset]: train length: 2289711, eval_length: 600\n"
     ]
    }
   ],
   "source": [
    "default_args.shorten_to_eval = \"600u\"\n",
    "df_train, df_test = get_df_by_folds_from_args(default_args, None)\n",
    "train_dataset = URLDatasetPart.from_pandas(df_train)\n",
    "eval_dataset = URLDatasetPart.from_pandas(df_test)"
   ]
  },
  {
   "cell_type": "code",
   "execution_count": 8,
   "id": "3d3eff1f",
   "metadata": {},
   "outputs": [],
   "source": [
    "eval_data_loader = DataLoader(\n",
    "    eval_dataset,\n",
    "    batch_size=default_args.batch_size,\n",
    "    shuffle=False,\n",
    "    collate_fn=model_manager.prepare_batch,\n",
    ")\n"
   ]
  },
  {
   "cell_type": "code",
   "execution_count": 9,
   "id": "f13d563e",
   "metadata": {},
   "outputs": [
    {
     "name": "stderr",
     "output_type": "stream",
     "text": [
      "100%|████████████████████| 5/5 [00:02<00:00,  1.89it/s]\n"
     ]
    },
    {
     "data": {
      "text/plain": [
       "({'0': {'precision': 0.9681528662420382,\n",
       "   'recall': 0.9848812095032398,\n",
       "   'f1-score': 0.9764453961456103,\n",
       "   'support': 463.0},\n",
       "  '1': {'precision': 0.9457364341085271,\n",
       "   'recall': 0.8905109489051095,\n",
       "   'f1-score': 0.9172932330827067,\n",
       "   'support': 137.0},\n",
       "  'accuracy': 0.9633333333333334,\n",
       "  'macro avg': {'precision': 0.9569446501752827,\n",
       "   'recall': 0.9376960792041746,\n",
       "   'f1-score': 0.9468693146141585,\n",
       "   'support': 600.0},\n",
       "  'weighted avg': {'precision': 0.9630344475715532,\n",
       "   'recall': 0.9633333333333334,\n",
       "   'f1-score': 0.9629389855795807,\n",
       "   'support': 600.0},\n",
       "  'confusion_matrix': [[456, 7], [15, 122]],\n",
       "  'tp': 122,\n",
       "  'tn': 456,\n",
       "  'fp': 7,\n",
       "  'fn': 15,\n",
       "  'fpr': 0.01511879049676026,\n",
       "  'roc_auc_score': 0.9816966467500118,\n",
       "  'best_decision_threshold': 0.4545454545454546,\n",
       "  'average_loss': 0.03051038011908531},\n",
       " {'true_labels': array([1, 0, 1, 0, 0, 0, 0, 1, 0, 0, 0, 0, 0, 0, 0, 0, 0, 0, 1, 0, 0, 0,\n",
       "         0, 0, 0, 0, 0, 1, 0, 0, 0, 1, 0, 0, 1, 1, 0, 0, 1, 0, 0, 0, 1, 0,\n",
       "         0, 0, 0, 0, 1, 0, 0, 0, 0, 0, 0, 0, 0, 0, 0, 0, 0, 0, 1, 0, 1, 0,\n",
       "         0, 0, 0, 1, 0, 0, 0, 0, 1, 0, 1, 1, 0, 0, 0, 0, 1, 0, 0, 1, 0, 0,\n",
       "         0, 1, 0, 0, 0, 0, 0, 1, 0, 1, 0, 0, 0, 1, 0, 0, 0, 0, 0, 0, 1, 0,\n",
       "         1, 1, 1, 0, 0, 0, 1, 1, 0, 1, 1, 0, 1, 0, 0, 0, 0, 0, 0, 0, 0, 0,\n",
       "         1, 0, 1, 0, 0, 1, 0, 0, 0, 0, 0, 0, 0, 0, 0, 0, 1, 0, 1, 0, 0, 0,\n",
       "         0, 1, 0, 0, 0, 0, 0, 0, 1, 1, 0, 0, 1, 0, 1, 0, 0, 0, 0, 0, 0, 0,\n",
       "         0, 0, 1, 0, 0, 0, 0, 0, 0, 0, 0, 0, 1, 1, 0, 1, 1, 0, 0, 0, 0, 1,\n",
       "         0, 0, 0, 0, 0, 0, 0, 1, 0, 0, 1, 0, 1, 0, 0, 0, 0, 0, 1, 0, 1, 0,\n",
       "         0, 1, 0, 0, 0, 1, 0, 0, 0, 0, 0, 0, 0, 1, 0, 0, 1, 0, 1, 0, 1, 0,\n",
       "         0, 0, 0, 0, 0, 0, 1, 0, 0, 0, 0, 1, 1, 0, 0, 0, 1, 0, 0, 0, 0, 1,\n",
       "         1, 0, 0, 0, 0, 0, 0, 1, 0, 0, 0, 0, 0, 0, 0, 1, 0, 0, 0, 0, 0, 0,\n",
       "         1, 0, 0, 1, 1, 0, 0, 1, 0, 1, 0, 0, 0, 0, 1, 0, 1, 0, 0, 0, 0, 1,\n",
       "         0, 1, 0, 0, 0, 0, 1, 0, 1, 0, 1, 0, 1, 0, 1, 0, 0, 0, 0, 1, 1, 0,\n",
       "         0, 0, 0, 1, 0, 0, 1, 0, 0, 0, 0, 0, 0, 1, 1, 0, 0, 0, 0, 0, 0, 0,\n",
       "         0, 0, 1, 0, 0, 0, 0, 0, 0, 0, 0, 1, 0, 0, 0, 1, 1, 1, 0, 0, 0, 0,\n",
       "         1, 0, 0, 0, 0, 0, 0, 0, 0, 1, 0, 0, 0, 1, 0, 0, 1, 0, 0, 1, 1, 0,\n",
       "         0, 0, 0, 0, 0, 0, 0, 0, 0, 1, 0, 1, 0, 1, 0, 0, 0, 1, 0, 0, 0, 0,\n",
       "         0, 0, 0, 0, 1, 0, 0, 0, 1, 0, 1, 1, 1, 0, 0, 0, 0, 0, 0, 0, 0, 0,\n",
       "         0, 0, 0, 0, 0, 1, 0, 1, 0, 0, 1, 1, 0, 0, 0, 0, 0, 0, 0, 0, 0, 0,\n",
       "         0, 0, 0, 1, 0, 0, 0, 0, 1, 0, 0, 0, 0, 0, 1, 0, 0, 0, 0, 0, 0, 0,\n",
       "         0, 0, 0, 0, 1, 0, 0, 1, 0, 0, 0, 1, 0, 0, 1, 0, 0, 0, 1, 0, 0, 0,\n",
       "         0, 0, 0, 0, 0, 1, 1, 0, 0, 0, 0, 0, 1, 0, 0, 1, 0, 0, 0, 0, 0, 0,\n",
       "         0, 0, 0, 0, 1, 0, 0, 0, 0, 0, 0, 1, 0, 0, 0, 0, 0, 0, 0, 0, 1, 0,\n",
       "         0, 0, 0, 1, 0, 0, 0, 0, 0, 0, 0, 1, 0, 0, 0, 1, 1, 0, 0, 1, 0, 0,\n",
       "         0, 1, 0, 0, 0, 0, 1, 0, 0, 0, 0, 1, 0, 0, 1, 0, 0, 0, 0, 0, 0, 0,\n",
       "         0, 1, 0, 0, 1, 0]),\n",
       "  'class_probabilities': array([[0.03123945, 0.96876055],\n",
       "         [0.9460601 , 0.0539399 ],\n",
       "         [0.0259807 , 0.97401935],\n",
       "         ...,\n",
       "         [0.76551133, 0.23448864],\n",
       "         [0.00931821, 0.99068177],\n",
       "         [0.90542114, 0.09457891]], dtype=float32),\n",
       "  'predictions': array([1, 0, 1, 0, 0, 0, 0, 1, 0, 0, 0, 0, 0, 0, 0, 0, 0, 0, 1, 0, 0, 0,\n",
       "         0, 0, 0, 0, 0, 0, 0, 0, 0, 1, 0, 0, 1, 1, 0, 0, 1, 0, 0, 0, 0, 0,\n",
       "         0, 0, 0, 0, 1, 0, 0, 0, 0, 0, 0, 0, 0, 0, 0, 0, 0, 0, 1, 0, 0, 0,\n",
       "         0, 0, 0, 1, 0, 0, 0, 0, 1, 0, 1, 1, 0, 0, 0, 0, 1, 0, 0, 1, 0, 0,\n",
       "         0, 1, 0, 0, 0, 0, 0, 1, 0, 1, 0, 0, 0, 1, 0, 0, 0, 0, 0, 0, 1, 0,\n",
       "         1, 1, 1, 0, 0, 0, 1, 1, 0, 1, 1, 0, 1, 0, 0, 0, 0, 0, 0, 0, 0, 0,\n",
       "         1, 0, 1, 0, 0, 1, 0, 0, 0, 0, 0, 1, 0, 0, 0, 0, 1, 0, 1, 0, 0, 0,\n",
       "         0, 1, 0, 0, 1, 0, 0, 0, 1, 1, 0, 0, 1, 0, 0, 0, 0, 0, 0, 0, 0, 0,\n",
       "         0, 0, 1, 0, 0, 0, 0, 0, 0, 0, 0, 0, 1, 1, 0, 1, 0, 0, 0, 0, 0, 1,\n",
       "         0, 0, 0, 0, 0, 0, 0, 1, 0, 0, 1, 0, 0, 0, 0, 0, 0, 0, 1, 0, 1, 0,\n",
       "         0, 1, 0, 0, 0, 0, 0, 0, 0, 0, 0, 0, 0, 1, 0, 0, 1, 0, 1, 0, 1, 0,\n",
       "         0, 0, 0, 0, 0, 0, 1, 0, 0, 0, 0, 1, 1, 0, 0, 0, 0, 0, 0, 0, 0, 1,\n",
       "         1, 1, 0, 0, 0, 0, 0, 1, 0, 0, 0, 0, 0, 0, 0, 1, 0, 0, 0, 0, 0, 0,\n",
       "         1, 0, 0, 1, 1, 0, 0, 1, 0, 1, 0, 0, 0, 0, 0, 0, 0, 0, 0, 0, 0, 1,\n",
       "         0, 1, 0, 0, 0, 0, 1, 0, 1, 0, 1, 0, 1, 0, 1, 0, 0, 0, 0, 1, 1, 0,\n",
       "         0, 0, 0, 1, 0, 0, 1, 0, 0, 0, 0, 0, 0, 1, 1, 0, 0, 0, 0, 0, 0, 0,\n",
       "         0, 0, 0, 0, 0, 0, 0, 0, 0, 0, 0, 1, 0, 0, 0, 1, 1, 1, 0, 0, 0, 0,\n",
       "         1, 0, 0, 0, 0, 0, 0, 0, 0, 1, 0, 0, 0, 1, 0, 0, 1, 0, 0, 0, 1, 0,\n",
       "         0, 1, 0, 0, 0, 0, 0, 0, 0, 1, 0, 0, 0, 1, 0, 0, 0, 1, 0, 0, 0, 0,\n",
       "         0, 0, 0, 0, 1, 0, 0, 0, 0, 0, 1, 1, 1, 0, 0, 0, 0, 0, 0, 0, 0, 0,\n",
       "         0, 0, 0, 0, 1, 1, 0, 1, 0, 0, 0, 1, 0, 0, 0, 0, 0, 0, 0, 0, 0, 0,\n",
       "         0, 0, 0, 1, 0, 0, 0, 0, 1, 0, 0, 0, 0, 0, 1, 0, 0, 0, 0, 0, 0, 0,\n",
       "         0, 0, 0, 0, 1, 0, 0, 1, 0, 0, 0, 1, 0, 0, 1, 0, 0, 0, 1, 0, 0, 0,\n",
       "         0, 0, 0, 0, 0, 1, 1, 0, 0, 0, 0, 0, 1, 0, 0, 1, 0, 0, 0, 0, 0, 0,\n",
       "         0, 0, 0, 0, 1, 0, 0, 0, 0, 0, 0, 1, 0, 0, 0, 0, 0, 0, 0, 0, 1, 0,\n",
       "         0, 0, 0, 1, 0, 0, 0, 0, 0, 0, 0, 1, 0, 0, 0, 1, 1, 0, 0, 1, 0, 0,\n",
       "         0, 1, 0, 0, 0, 0, 1, 0, 1, 0, 0, 1, 0, 0, 1, 0, 0, 0, 0, 0, 0, 0,\n",
       "         0, 1, 1, 0, 1, 0])},\n",
       " {'0': {'precision': 0.9763948497854077,\n",
       "   'recall': 0.9827213822894169,\n",
       "   'f1-score': 0.9795479009687836,\n",
       "   'support': 463.0},\n",
       "  '1': {'precision': 0.9402985074626866,\n",
       "   'recall': 0.9197080291970803,\n",
       "   'f1-score': 0.9298892988929889,\n",
       "   'support': 137.0},\n",
       "  'accuracy': 0.9683333333333334,\n",
       "  'macro avg': {'precision': 0.9583466786240471,\n",
       "   'recall': 0.9512147057432485,\n",
       "   'f1-score': 0.9547185999308863,\n",
       "   'support': 600.0},\n",
       "  'weighted avg': {'precision': 0.9681528516217198,\n",
       "   'recall': 0.9683333333333334,\n",
       "   'f1-score': 0.9682091868281439,\n",
       "   'support': 600.0},\n",
       "  'confusion_matrix': [[455, 8], [11, 126]],\n",
       "  'tp': 126,\n",
       "  'tn': 455,\n",
       "  'fp': 8,\n",
       "  'fn': 11,\n",
       "  'fpr': 0.017278617710583154,\n",
       "  'roc_auc_score': 0.9816966467500118})"
      ]
     },
     "execution_count": 9,
     "metadata": {},
     "output_type": "execute_result"
    }
   ],
   "source": [
    "model_manager.evaluate(eval_data_loader)"
   ]
  },
  {
   "cell_type": "code",
   "execution_count": null,
   "id": "9a3c1fc0",
   "metadata": {},
   "outputs": [],
   "source": []
  }
 ],
 "metadata": {
  "kernelspec": {
   "display_name": "bp",
   "language": "python",
   "name": "python3"
  },
  "language_info": {
   "codemirror_mode": {
    "name": "ipython",
    "version": 3
   },
   "file_extension": ".py",
   "mimetype": "text/x-python",
   "name": "python",
   "nbconvert_exporter": "python",
   "pygments_lexer": "ipython3",
   "version": "3.10.12"
  }
 },
 "nbformat": 4,
 "nbformat_minor": 5
}
