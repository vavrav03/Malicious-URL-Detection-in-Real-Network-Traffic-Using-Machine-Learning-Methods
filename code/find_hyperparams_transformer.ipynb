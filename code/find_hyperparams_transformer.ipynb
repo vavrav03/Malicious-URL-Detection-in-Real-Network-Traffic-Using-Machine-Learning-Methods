{
 "cells": [
  {
   "cell_type": "markdown",
   "metadata": {
    "application/vnd.databricks.v1+cell": {
     "cellMetadata": {
      "batchId": -8018235695023275,
      "byteLimit": 2048000,
      "rowLimit": 10000
     },
     "inputWidgets": {},
     "nuid": "2a8dcbbb-f024-4aed-a8b8-5ff6b004940d",
     "showTitle": false,
     "tableResultSettingsMap": {},
     "title": ""
    }
   },
   "source": [
    "# Hyperparameter tuning notebook\n",
    "- Use this notebook to find which hyperparameters work best for transformer model\n",
    "- Part of training set will be used as validation set. Testing set of dataset will NOT be used"
   ]
  },
  {
   "cell_type": "code",
   "execution_count": null,
   "metadata": {
    "application/vnd.databricks.v1+cell": {
     "cellMetadata": {
      "byteLimit": 2048000,
      "rowLimit": 10000
     },
     "inputWidgets": {},
     "nuid": "41b8c669-fc7e-490d-bb25-7ff3b3a6acd7",
     "showTitle": false,
     "tableResultSettingsMap": {},
     "title": ""
    }
   },
   "outputs": [],
   "source": [
    "import importlib\n",
    "import subprocess\n",
    "import sys\n",
    "from utils.environment_specific import is_local_development\n",
    "\n",
    "def install_if_missing(package_name, pip_name=None):\n",
    "    try:\n",
    "        importlib.import_module(package_name)\n",
    "    except ImportError:\n",
    "        subprocess.check_call([sys.executable, \"-m\", \"pip\", \"install\", pip_name or package_name])\n",
    "\n",
    "if not is_local_development():\n",
    "    install_if_missing(\"dotenv\", \"python-dotenv\")\n",
    "    install_if_missing(\"onnxruntime\")"
   ]
  },
  {
   "cell_type": "code",
   "execution_count": null,
   "metadata": {
    "application/vnd.databricks.v1+cell": {
     "cellMetadata": {
      "byteLimit": 2048000,
      "rowLimit": 10000
     },
     "inputWidgets": {},
     "nuid": "2e530358-c38b-4f58-8c5c-386dcac21008",
     "showTitle": false,
     "tableResultSettingsMap": {},
     "title": ""
    }
   },
   "outputs": [],
   "source": [
    "import argparse\n",
    "import copy\n",
    "import random\n",
    "import os\n",
    "\n",
    "from dotenv import load_dotenv\n",
    "import numpy as np\n",
    "import pandas as pd\n",
    "import torch\n",
    "\n",
    "from utils.dataset import get_validation_dataset_by_args\n",
    "from utils.experiments import setup_mlflow_client, get_run_name\n",
    "from utils.environment_specific import is_local_development\n",
    "from utils.transformers import TransformerModelManager"
   ]
  },
  {
   "cell_type": "markdown",
   "metadata": {
    "application/vnd.databricks.v1+cell": {
     "cellMetadata": {
      "batchId": -8018235695023275,
      "byteLimit": 2048000,
      "rowLimit": 10000
     },
     "inputWidgets": {},
     "nuid": "a0fffe7c-8656-4caf-a210-94094e1b6611",
     "showTitle": false,
     "tableResultSettingsMap": {},
     "title": ""
    }
   },
   "source": [
    "# Parameters"
   ]
  },
  {
   "cell_type": "code",
   "execution_count": null,
   "metadata": {
    "application/vnd.databricks.v1+cell": {
     "cellMetadata": {
      "byteLimit": 2048000,
      "rowLimit": 10000
     },
     "inputWidgets": {},
     "nuid": "22a5c908-b5d8-4705-9516-804253f61a24",
     "showTitle": false,
     "tableResultSettingsMap": {},
     "title": ""
    }
   },
   "outputs": [],
   "source": [
    "# fmt: off\n",
    "parser = argparse.ArgumentParser()\n",
    "parser.add_argument(\"--seed\", default=42, type=int, help=\"Random seed\")\n",
    "# Model args\n",
    "parser.add_argument(\"--model_type\", default=\"bert_tiny\", type=str, help=\"Type of BERT model to use. see 'get_model_checkpoint' method\")\n",
    "parser.add_argument(\"--dropout\", default=0, type=float, help=\"Dropout rate on final classification layer\")\n",
    "parser.add_argument(\"--bert_learning_rate\", default=3e-5, type=float, help=\"AdamW learning rate for everything in model except final classifaction layer\")\n",
    "parser.add_argument(\"--classifier_learning_rate\", default=2e-3, type=float, help=\"AdamW learning rate for classification layer of model\")\n",
    "parser.add_argument(\"--weight_decay\", default=0.01, type=float, help=\"AdamW weight decay for both parts of the model\")\n",
    "parser.add_argument(\"--decision_threshold\", default=0.5, type=float, help=\"If probability of a class 1 is higher than this, then the sample is classified as class 1\")\n",
    "parser.add_argument(\"--max_sequence_length\", default=256)\n",
    "\n",
    "# Training params\n",
    "parser.add_argument(\"--batch_size\", default=128, type=int, help=\"Batch size\")\n",
    "parser.add_argument(\"--epochs_max\", default=5, type=int, help=\"Maximum number of epochs. Can stop early, however\")\n",
    "parser.add_argument(\"--patience\", default=3, type=int, help=\"Number of epochs to wait for validation accuracy increase before stopping. If it is set to None, then early stopping is not used\")\n",
    "parser.add_argument(\"--freeze_epochs\", default=1, type=int, help=\"Number of epochs to freeze BERT non-final layers initially.\")\n",
    "parser.add_argument(\"--loss\", default=\"focal\", choices=[\"cross_entropy\", \"focal\"], type=str, help=\"Loss function used\")\n",
    "parser.add_argument(\"--focal_loss_gamma\", default=2, help=\"Pass gama parameter if focal loss is being used. Otherwise has no effect\")\n",
    "parser.add_argument(\"--focal_loss_alpha\", default=0.5, help=\"Pass alpha parameter if focal loss is being used. Otherwise has no effect\")\n",
    "\n",
    "# Dataset args\n",
    "parser.add_argument(\"--dataset_name\", default=\"joined\", choices=[\"private_data\", \"any_public_dataset_name\"])\n",
    "parser.add_argument(\"--train_folds\", default=[0,1,2], type=str, help=\"Which folds of the dataset should be used for training\")\n",
    "parser.add_argument(\"--eval_folds\", default=[3], type=str, help=\"Which folds of the dataset should be used for evaluation\")\n",
    "parser.add_argument(\"--shorten_to_train\", default=None, help=\"How much should train dataset be shortened (400u - 400 records), (10% - 10 percent of all records)\")\n",
    "parser.add_argument(\"--shorten_to_eval\", default=None, help=\"How much should test or validation set be shortened\")\n",
    "\n",
    "default_args = parser.parse_args([])\n",
    "# fmt: on"
   ]
  },
  {
   "cell_type": "code",
   "execution_count": null,
   "metadata": {
    "application/vnd.databricks.v1+cell": {
     "cellMetadata": {
      "byteLimit": 2048000,
      "rowLimit": 10000
     },
     "inputWidgets": {},
     "nuid": "05286458-95fe-4135-8251-a9ab544c26a7",
     "showTitle": false,
     "tableResultSettingsMap": {},
     "title": ""
    }
   },
   "outputs": [],
   "source": [
    "loaded = load_dotenv(\".env\")\n",
    "if not loaded:\n",
    "    loaded = load_dotenv(\"../../.env\")\n",
    "assert loaded is True"
   ]
  },
  {
   "cell_type": "code",
   "execution_count": null,
   "metadata": {
    "application/vnd.databricks.v1+cell": {
     "cellMetadata": {
      "byteLimit": 2048000,
      "rowLimit": 10000
     },
     "inputWidgets": {},
     "nuid": "1e60098c-e22e-47ff-b206-c82917e27022",
     "showTitle": false,
     "tableResultSettingsMap": {},
     "title": ""
    }
   },
   "outputs": [],
   "source": [
    "np.random.seed(default_args.seed)\n",
    "torch.manual_seed(default_args.seed)\n",
    "# in case any standard library uses some random function\n",
    "random.seed(default_args.seed)"
   ]
  },
  {
   "cell_type": "markdown",
   "metadata": {
    "application/vnd.databricks.v1+cell": {
     "cellMetadata": {
      "batchId": -8018235695023275,
      "byteLimit": 2048000,
      "rowLimit": 10000
     },
     "inputWidgets": {},
     "nuid": "d5ae2fce-c847-4638-ab4e-90c29c1c79bd",
     "showTitle": false,
     "tableResultSettingsMap": {},
     "title": ""
    }
   },
   "source": [
    "- threads, parallelism env, ..."
   ]
  },
  {
   "cell_type": "code",
   "execution_count": null,
   "metadata": {
    "application/vnd.databricks.v1+cell": {
     "cellMetadata": {
      "byteLimit": 2048000,
      "rowLimit": 10000
     },
     "inputWidgets": {},
     "nuid": "be014c48-284e-404d-bfa7-1339bc6ac95e",
     "showTitle": false,
     "tableResultSettingsMap": {},
     "title": ""
    }
   },
   "outputs": [],
   "source": [
    "os.environ[\"TOKENIZERS_PARALLELISM\"] = \"true\"\n",
    "os.environ[\"NCCL_SHM_DISABLE\"] = \"1\"\n",
    "if not is_local_development():\n",
    "    print(\"Databricks is running\")\n",
    "    assert torch.cuda.is_available(), \"GPU is not available!\"\n",
    "else:\n",
    "    print(\"Local development is running\")"
   ]
  },
  {
   "cell_type": "code",
   "execution_count": null,
   "metadata": {
    "application/vnd.databricks.v1+cell": {
     "cellMetadata": {
      "byteLimit": 2048000,
      "rowLimit": 10000
     },
     "inputWidgets": {},
     "nuid": "2460d390-0d9f-4862-bbad-6f88d09c2277",
     "showTitle": false,
     "tableResultSettingsMap": {},
     "title": ""
    }
   },
   "outputs": [],
   "source": [
    "# if you find those version and useless warnings annoying, uncomment\n",
    "# import warnings\n",
    "pd.set_option(\"display.max_colwidth\", 120)\n",
    "pd.set_option(\"display.max_rows\", 800)\n",
    "# warnings.filterwarnings(\"ignore\", category=FutureWarning)\n",
    "# warnings.filterwarnings(\"ignore\", category=UserWarning, module=\"_distutils_hack\")"
   ]
  },
  {
   "cell_type": "markdown",
   "metadata": {
    "application/vnd.databricks.v1+cell": {
     "cellMetadata": {
      "batchId": -8018235695023275,
      "byteLimit": 2048000,
      "rowLimit": 10000
     },
     "inputWidgets": {},
     "nuid": "54e18808-669d-48d9-818e-6cbc32b4ae35",
     "showTitle": false,
     "tableResultSettingsMap": {},
     "title": ""
    }
   },
   "source": [
    "# Dataset preparation"
   ]
  },
  {
   "cell_type": "code",
   "execution_count": null,
   "metadata": {
    "application/vnd.databricks.v1+cell": {
     "cellMetadata": {
      "byteLimit": 2048000,
      "rowLimit": 10000
     },
     "inputWidgets": {},
     "nuid": "21a1665b-061d-4185-af20-0434b4e4832f",
     "showTitle": false,
     "tableResultSettingsMap": {},
     "title": ""
    }
   },
   "outputs": [],
   "source": [
    "if is_local_development():\n",
    "    spark = None\n",
    "    # default_args.shorten_to_train = default_args.shorten_to_train or \"4000u\"\n",
    "    # default_args.shorten_to_eval = default_args.shorten_to_eval or \"2000u\"\n",
    "    default_args.shorten_to_train = None\n",
    "    default_args.shorten_to_eval = None\n",
    "    default_args.shorten_to_train = default_args.shorten_to_train or \"1000u\"\n",
    "    default_args.shorten_to_eval = default_args.shorten_to_eval or \"1000u\""
   ]
  },
  {
   "cell_type": "code",
   "execution_count": null,
   "metadata": {
    "application/vnd.databricks.v1+cell": {
     "cellMetadata": {
      "byteLimit": 2048000,
      "rowLimit": 10000
     },
     "inputWidgets": {},
     "nuid": "2f92d7a9-2e6e-4873-966a-9300ed849f13",
     "showTitle": false,
     "tableResultSettingsMap": {},
     "title": ""
    }
   },
   "outputs": [],
   "source": [
    "default_train_dataset, default_eval_dataset = get_validation_dataset_by_args(default_args, spark)"
   ]
  },
  {
   "cell_type": "markdown",
   "metadata": {
    "application/vnd.databricks.v1+cell": {
     "cellMetadata": {
      "batchId": -8018235695023275,
      "byteLimit": 2048000,
      "rowLimit": 10000
     },
     "inputWidgets": {},
     "nuid": "74669a0b-d88e-435f-8ded-2dd8a2970497",
     "showTitle": false,
     "tableResultSettingsMap": {},
     "title": ""
    }
   },
   "source": [
    "# Model"
   ]
  },
  {
   "cell_type": "markdown",
   "metadata": {
    "application/vnd.databricks.v1+cell": {
     "cellMetadata": {
      "batchId": -8018235695023275,
      "byteLimit": 2048000,
      "rowLimit": 10000
     },
     "inputWidgets": {},
     "nuid": "4c6ec8c1-b667-46a7-8400-4011a1cdb680",
     "showTitle": false,
     "tableResultSettingsMap": {},
     "title": ""
    }
   },
   "source": [
    "- load the model to all available GPUs"
   ]
  },
  {
   "cell_type": "code",
   "execution_count": null,
   "metadata": {
    "application/vnd.databricks.v1+cell": {
     "cellMetadata": {
      "byteLimit": 2048000,
      "rowLimit": 10000
     },
     "inputWidgets": {},
     "nuid": "95e971bf-a788-43ca-987f-3105e2902f8e",
     "showTitle": false,
     "tableResultSettingsMap": {},
     "title": ""
    }
   },
   "outputs": [],
   "source": [
    "setup_mlflow_client()"
   ]
  },
  {
   "cell_type": "code",
   "execution_count": null,
   "metadata": {
    "application/vnd.databricks.v1+cell": {
     "cellMetadata": {
      "byteLimit": 2048000,
      "rowLimit": 10000
     },
     "inputWidgets": {},
     "nuid": "707ba9ba-cf95-4a8c-ad7c-a8618540197f",
     "showTitle": false,
     "tableResultSettingsMap": {},
     "title": ""
    }
   },
   "outputs": [],
   "source": [
    "def do_transformer_parameter_tuning_run(\n",
    "    args, num_workers_train=0, num_workers_eval=0, persistent_workers=False, prefetch_factor=None, train_dataset=default_train_dataset, eval_dataset=default_eval_dataset\n",
    "):\n",
    "    # early stopping must not be enabled when using testing set\n",
    "    run_name = get_run_name(\"VAL\", args.model_type, args.dataset_name)\n",
    "    transformer_model = TransformerModelManager.from_args(args)\n",
    "    transformer_model.do_training_run(\n",
    "        args,\n",
    "        run_name=run_name,\n",
    "        train_dataset=train_dataset,\n",
    "        eval_dataset=eval_dataset,\n",
    "        num_workers_train=num_workers_train,\n",
    "        num_workers_eval=num_workers_eval,\n",
    "        persistent_workers=persistent_workers,\n",
    "        prefetch_factor=prefetch_factor,\n",
    "    )"
   ]
  },
  {
   "cell_type": "code",
   "execution_count": null,
   "metadata": {
    "application/vnd.databricks.v1+cell": {
     "cellMetadata": {
      "byteLimit": 2048000,
      "rowLimit": 10000
     },
     "inputWidgets": {},
     "nuid": "2289bb8c-a3cb-46db-8364-f4a25cf0b65f",
     "showTitle": false,
     "tableResultSettingsMap": {},
     "title": ""
    }
   },
   "outputs": [],
   "source": [
    "args = copy.deepcopy(default_args)\n",
    "args.model_type=\"bert_tiny\"\n",
    "args.dropout = None\n",
    "args.bert_learning_rate=1e-5\n",
    "args.classifier_learning_rate=1e-5\n",
    "args.weight_decay=0\n",
    "args.freeze_epochs=0\n",
    "args.focal_loss_alpha=-1\n",
    "args.loss=\"focal\"\n",
    "do_transformer_parameter_tuning_run(args)"
   ]
  },
  {
   "cell_type": "code",
   "execution_count": null,
   "metadata": {
    "application/vnd.databricks.v1+cell": {
     "cellMetadata": {
      "byteLimit": 2048000,
      "rowLimit": 10000
     },
     "inputWidgets": {},
     "nuid": "322fdcc6-9ea6-46ae-a32e-9f797f299919",
     "showTitle": false,
     "tableResultSettingsMap": {},
     "title": ""
    }
   },
   "outputs": [],
   "source": [
    "args = copy.deepcopy(default_args)\n",
    "args.model_type = \"bert_tiny\"\n",
    "args.freeze_epochs = 0\n",
    "do_transformer_parameter_tuning_run(args)"
   ]
  },
  {
   "cell_type": "code",
   "execution_count": 0,
   "metadata": {
    "application/vnd.databricks.v1+cell": {
     "cellMetadata": {
      "byteLimit": 2048000,
      "rowLimit": 10000
     },
     "inputWidgets": {},
     "nuid": "ff52e062-ac0d-44c9-a0c1-4160c13ccc19",
     "showTitle": false,
     "tableResultSettingsMap": {},
     "title": ""
    }
   },
   "outputs": [],
   "source": [
    "args = copy.deepcopy(default_args)\n",
    "args.model_type = \"bert_tiny\"\n",
    "args.focal_loss_gamma = 2\n",
    "do_transformer_parameter_tuning_run(args)"
   ]
  },
  {
   "cell_type": "code",
   "execution_count": 0,
   "metadata": {
    "application/vnd.databricks.v1+cell": {
     "cellMetadata": {
      "byteLimit": 2048000,
      "rowLimit": 10000
     },
     "inputWidgets": {},
     "nuid": "483d7b03-b291-4bb4-bb59-561f331554ae",
     "showTitle": false,
     "tableResultSettingsMap": {},
     "title": ""
    }
   },
   "outputs": [],
   "source": [
    "args = copy.deepcopy(default_args)\n",
    "args.model_type = \"bert_tiny\"\n",
    "args.focal_loss_gamma = 1\n",
    "do_transformer_parameter_tuning_run(args)"
   ]
  },
  {
   "cell_type": "code",
   "execution_count": 0,
   "metadata": {
    "application/vnd.databricks.v1+cell": {
     "cellMetadata": {
      "byteLimit": 2048000,
      "rowLimit": 10000
     },
     "inputWidgets": {},
     "nuid": "1df7cde8-d125-4f89-94be-9bfbab3220d2",
     "showTitle": false,
     "tableResultSettingsMap": {},
     "title": ""
    }
   },
   "outputs": [],
   "source": [
    "args = copy.deepcopy(default_args)\n",
    "args.model_type = \"bert_tiny\"\n",
    "args.loss = \"cross_entropy\"\n",
    "args.focal_loss_gamma = None\n",
    "args.focal_loss_alpha = None\n",
    "do_transformer_parameter_tuning_run(args)"
   ]
  },
  {
   "cell_type": "code",
   "execution_count": 0,
   "metadata": {
    "application/vnd.databricks.v1+cell": {
     "cellMetadata": {
      "byteLimit": 2048000,
      "rowLimit": 10000
     },
     "inputWidgets": {},
     "nuid": "ca0cc121-7bc3-4e86-b9ba-2d84fee3a5b9",
     "showTitle": false,
     "tableResultSettingsMap": {},
     "title": ""
    }
   },
   "outputs": [],
   "source": [
    "args = copy.deepcopy(default_args)\n",
    "args.model_type = \"bert_tiny\"\n",
    "args.bert_learning_rate = 1e-5\n",
    "do_transformer_parameter_tuning_run(args)"
   ]
  },
  {
   "cell_type": "code",
   "execution_count": 0,
   "metadata": {
    "application/vnd.databricks.v1+cell": {
     "cellMetadata": {
      "byteLimit": 2048000,
      "rowLimit": 10000
     },
     "inputWidgets": {},
     "nuid": "fdc0cd03-a638-4a99-9761-31159827bad2",
     "showTitle": false,
     "tableResultSettingsMap": {},
     "title": ""
    }
   },
   "outputs": [],
   "source": [
    "args = copy.deepcopy(default_args)\n",
    "args.model_type = \"bert_tiny\"\n",
    "args.classifier_learning_rate = 5e-3\n",
    "do_transformer_parameter_tuning_run(args)"
   ]
  },
  {
   "cell_type": "code",
   "execution_count": 0,
   "metadata": {
    "application/vnd.databricks.v1+cell": {
     "cellMetadata": {
      "byteLimit": 2048000,
      "rowLimit": 10000
     },
     "inputWidgets": {},
     "nuid": "dacc7cae-af8e-4070-b579-1910ebfbcff6",
     "showTitle": false,
     "tableResultSettingsMap": {},
     "title": ""
    }
   },
   "outputs": [],
   "source": [
    "args = copy.deepcopy(default_args)\n",
    "args.model_type = \"bert_tiny\"\n",
    "args.dropout = 0.15\n",
    "do_transformer_parameter_tuning_run(args)"
   ]
  },
  {
   "cell_type": "code",
   "execution_count": 0,
   "metadata": {
    "application/vnd.databricks.v1+cell": {
     "cellMetadata": {
      "byteLimit": 2048000,
      "rowLimit": 10000
     },
     "inputWidgets": {},
     "nuid": "3d1d2d3c-8a38-4908-9613-5fde57f76765",
     "showTitle": false,
     "tableResultSettingsMap": {},
     "title": ""
    }
   },
   "outputs": [],
   "source": [
    "args = copy.deepcopy(default_args)\n",
    "args.model_type = \"bert_tiny\"\n",
    "args.weight_decay = 0.0\n",
    "do_transformer_parameter_tuning_run(args)"
   ]
  },
  {
   "cell_type": "code",
   "execution_count": 0,
   "metadata": {
    "application/vnd.databricks.v1+cell": {
     "cellMetadata": {
      "byteLimit": 2048000,
      "rowLimit": 10000
     },
     "inputWidgets": {},
     "nuid": "74ae8759-234f-4cb9-95a7-d0a271aca667",
     "showTitle": false,
     "tableResultSettingsMap": {},
     "title": ""
    }
   },
   "outputs": [],
   "source": [
    "args = copy.deepcopy(default_args)\n",
    "args.model_type = \"bert_tiny\"\n",
    "args.max_sequence_length = 128\n",
    "do_transformer_parameter_tuning_run(args)"
   ]
  }
 ],
 "metadata": {
  "application/vnd.databricks.v1+notebook": {
   "computePreferences": null,
   "dashboards": [],
   "environmentMetadata": null,
   "inputWidgetPreferences": null,
   "language": "python",
   "notebookMetadata": {
    "pythonIndentUnit": 4
   },
   "notebookName": "find_hyperparams_transformer",
   "widgets": {}
  },
  "kernelspec": {
   "display_name": "bp-env-cpu",
   "language": "python",
   "name": "python3"
  },
  "language_info": {
   "codemirror_mode": {
    "name": "ipython",
    "version": 3
   },
   "file_extension": ".py",
   "mimetype": "text/x-python",
   "name": "python",
   "nbconvert_exporter": "python",
   "pygments_lexer": "ipython3",
   "version": "3.10.12"
  }
 },
 "nbformat": 4,
 "nbformat_minor": 0
}
