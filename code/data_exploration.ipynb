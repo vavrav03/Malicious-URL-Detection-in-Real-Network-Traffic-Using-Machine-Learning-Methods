{
 "cells": [
  {
   "cell_type": "code",
   "execution_count": 0,
   "metadata": {
    "application/vnd.databricks.v1+cell": {
     "cellMetadata": {
      "byteLimit": 2048000,
      "rowLimit": 10000
     },
     "inputWidgets": {},
     "nuid": "58526257-bd4d-491d-bd6c-1e1217669af8",
     "showTitle": false,
     "tableResultSettingsMap": {},
     "title": ""
    }
   },
   "outputs": [
    {
     "name": "stdout",
     "output_type": "stream",
     "text": [
      "Collecting random_string_detector\n",
      "  Using cached random_string_detector-1.0.3-py3-none-any.whl (24 kB)\n",
      "Installing collected packages: random_string_detector\n",
      "Successfully installed random_string_detector-1.0.3\n"
     ]
    },
    {
     "name": "stderr",
     "output_type": "stream",
     "text": [
      "\n",
      "[notice] A new release of pip available: 22.3.1 -> 25.1.1\n",
      "[notice] To update, run: pip install --upgrade pip\n"
     ]
    },
    {
     "name": "stdout",
     "output_type": "stream",
     "text": [
      "Collecting python-dotenv\n",
      "  Using cached python_dotenv-1.1.0-py3-none-any.whl (20 kB)\n",
      "Installing collected packages: python-dotenv\n",
      "Successfully installed python-dotenv-1.1.0\n"
     ]
    },
    {
     "name": "stderr",
     "output_type": "stream",
     "text": [
      "\n",
      "[notice] A new release of pip available: 22.3.1 -> 25.1.1\n",
      "[notice] To update, run: pip install --upgrade pip\n"
     ]
    },
    {
     "name": "stdout",
     "output_type": "stream",
     "text": [
      "Collecting tldextract\n",
      "  Using cached tldextract-5.3.0-py3-none-any.whl (107 kB)\n",
      "Requirement already satisfied: filelock>=3.0.8 in /databricks/python3/lib/python3.10/site-packages (from tldextract) (3.9.0)\n",
      "Requirement already satisfied: idna in /databricks/python3/lib/python3.10/site-packages (from tldextract) (3.4)\n",
      "Collecting requests-file>=1.4\n",
      "  Using cached requests_file-2.1.0-py2.py3-none-any.whl (4.2 kB)\n",
      "Requirement already satisfied: requests>=2.1.0 in /databricks/python3/lib/python3.10/site-packages (from tldextract) (2.28.1)\n",
      "Requirement already satisfied: charset-normalizer<3,>=2 in /databricks/python3/lib/python3.10/site-packages (from requests>=2.1.0->tldextract) (2.0.4)\n",
      "Requirement already satisfied: certifi>=2017.4.17 in /databricks/python3/lib/python3.10/site-packages (from requests>=2.1.0->tldextract) (2022.12.7)\n",
      "Requirement already satisfied: urllib3<1.27,>=1.21.1 in /databricks/python3/lib/python3.10/site-packages (from requests>=2.1.0->tldextract) (1.26.14)\n",
      "Installing collected packages: requests-file, tldextract\n",
      "Successfully installed requests-file-2.1.0 tldextract-5.3.0\n"
     ]
    },
    {
     "name": "stderr",
     "output_type": "stream",
     "text": [
      "\n",
      "[notice] A new release of pip available: 22.3.1 -> 25.1.1\n",
      "[notice] To update, run: pip install --upgrade pip\n"
     ]
    }
   ],
   "source": [
    "import importlib\n",
    "import subprocess\n",
    "import sys\n",
    "from utils.environment_specific import is_local_development\n",
    "\n",
    "\n",
    "def install_if_missing(package_name, pip_name=None):\n",
    "    try:\n",
    "        importlib.import_module(package_name)\n",
    "    except ImportError:\n",
    "        subprocess.check_call([sys.executable, \"-m\", \"pip\", \"install\", pip_name or package_name])\n",
    "\n",
    "if not is_local_development():\n",
    "    install_if_missing(\"dotenv\", \"python-dotenv\")\n",
    "    install_if_missing(\"tldextract\")"
   ]
  },
  {
   "cell_type": "code",
   "execution_count": 0,
   "metadata": {
    "application/vnd.databricks.v1+cell": {
     "cellMetadata": {
      "byteLimit": 2048000,
      "rowLimit": 10000
     },
     "inputWidgets": {},
     "nuid": "8c6b40d8-d3dc-4aa5-887b-614938372f80",
     "showTitle": false,
     "tableResultSettingsMap": {},
     "title": ""
    }
   },
   "outputs": [],
   "source": [
    "import pandas as pd\n",
    "import numpy as np\n",
    "import os\n",
    "import matplotlib.pyplot as plt\n",
    "\n",
    "from dotenv import load_dotenv\n",
    "\n",
    "from utils.dataset import (\n",
    "    load_public_dataset,\n",
    "    load_full_private_df,\n",
    "    split_df_by_folds,\n",
    "    NUMERIC_TO_TEXT_MAPPING,\n",
    "    NUMERIC_TO_TEXT_MAPPING_KAGGLE_MULTIPLE,\n",
    ")\n",
    "from utils.url_features import get_sld"
   ]
  },
  {
   "cell_type": "markdown",
   "metadata": {
    "application/vnd.databricks.v1+cell": {
     "cellMetadata": {
      "byteLimit": 2048000,
      "rowLimit": 10000
     },
     "inputWidgets": {},
     "nuid": "bc5a2f5c-9b84-46ea-a9bf-70a409135f7c",
     "showTitle": false,
     "tableResultSettingsMap": {},
     "title": ""
    }
   },
   "source": [
    "# Load all datasets"
   ]
  },
  {
   "cell_type": "code",
   "execution_count": 0,
   "metadata": {
    "application/vnd.databricks.v1+cell": {
     "cellMetadata": {
      "byteLimit": 2048000,
      "rowLimit": 10000
     },
     "inputWidgets": {},
     "nuid": "8318aa5d-08b0-44c9-8177-2974776fbee6",
     "showTitle": false,
     "tableResultSettingsMap": {},
     "title": ""
    }
   },
   "outputs": [],
   "source": [
    "datasets = {\n",
    "    \"grambeddings\": \"grambeddings\",\n",
    "    \"kaggle_binary\": \"kaggle_binary\",\n",
    "    \"kaggle_multiple\": \"kaggle_multiple\",\n",
    "    \"mendeley\": \"mendeley\",\n",
    "    \"joined\": \"joined\",\n",
    "}\n",
    "dataset_names = datasets.keys()\n",
    "raw_folder = \"./data/raw\"\n",
    "target_folder = \"./data/processed\""
   ]
  },
  {
   "cell_type": "code",
   "execution_count": 0,
   "metadata": {
    "application/vnd.databricks.v1+cell": {
     "cellMetadata": {
      "byteLimit": 2048000,
      "rowLimit": 10000
     },
     "inputWidgets": {},
     "nuid": "6b2132bc-3623-4123-8ec3-99936bcdd11b",
     "showTitle": false,
     "tableResultSettingsMap": {},
     "title": ""
    }
   },
   "outputs": [
    {
     "data": {
      "text/plain": [
       "True"
      ]
     },
     "execution_count": 4,
     "metadata": {},
     "output_type": "execute_result"
    }
   ],
   "source": [
    "loaded = load_dotenv(\".env\")\n",
    "if not loaded:\n",
    "    loaded = load_dotenv(\"../../.env\")\n",
    "assert loaded is True"
   ]
  },
  {
   "cell_type": "code",
   "execution_count": 0,
   "metadata": {
    "application/vnd.databricks.v1+cell": {
     "cellMetadata": {
      "byteLimit": 2048000,
      "rowLimit": 10000
     },
     "inputWidgets": {},
     "nuid": "bb822081-0e35-4952-97bf-59fea5ca4816",
     "showTitle": false,
     "tableResultSettingsMap": {},
     "title": ""
    }
   },
   "outputs": [],
   "source": [
    "if not is_local_development():\n",
    "    datasets[\"private_data\"] = \"private_data\"\n",
    "else:\n",
    "    spark = None"
   ]
  },
  {
   "cell_type": "code",
   "execution_count": 0,
   "metadata": {
    "application/vnd.databricks.v1+cell": {
     "cellMetadata": {
      "byteLimit": 2048000,
      "rowLimit": 10000
     },
     "inputWidgets": {},
     "nuid": "ac3d5893-bf23-412c-829b-49d4aad795fa",
     "showTitle": false,
     "tableResultSettingsMap": {},
     "title": ""
    }
   },
   "outputs": [],
   "source": [
    "def load_dataset(name):\n",
    "    if name != \"private_data\":\n",
    "        df_train, df_test = load_public_dataset(name)\n",
    "    else:\n",
    "        df = load_full_private_df(spark)\n",
    "        df_train, df_test = split_df_by_folds(\n",
    "            df,\n",
    "            train_folds=None,\n",
    "            eval_folds=[4],\n",
    "            shorten_string_train=None,\n",
    "            shorten_string_eval=None,\n",
    "            seed=42,\n",
    "        )\n",
    "    return {\"train\": df_train, \"test\": df_test}"
   ]
  },
  {
   "cell_type": "code",
   "execution_count": 0,
   "metadata": {
    "application/vnd.databricks.v1+cell": {
     "cellMetadata": {
      "byteLimit": 2048000,
      "rowLimit": 10000
     },
     "inputWidgets": {},
     "nuid": "03da6a39-c609-4ace-912b-b468b452c4b6",
     "showTitle": false,
     "tableResultSettingsMap": {},
     "title": ""
    }
   },
   "outputs": [
    {
     "name": "stdout",
     "output_type": "stream",
     "text": [
      "[dataset] Using public dataset grambeddings with path: /Volumes/users/vlavavra/public_datasets/grambeddings\n",
      "[dataset] Using public dataset kaggle_binary with path: /Volumes/users/vlavavra/public_datasets/kaggle_binary\n",
      "[dataset] Using public dataset kaggle_multiple with path: /Volumes/users/vlavavra/public_datasets/kaggle_multiple\n",
      "[dataset] Using public dataset mendeley with path: /Volumes/users/vlavavra/public_datasets/mendeley\n",
      "[dataset] Using public dataset joined with path: /Volumes/users/vlavavra/public_datasets/joined\n",
      "[dataset]: All folds [1.0, 2.0, 3.0, 4.0, 5.0, 6.0, 7.0, 8.0, 9.0, 10.0, nan]\n",
      "[1.0, 2.0, 3.0, 5.0, 6.0, 7.0, 8.0, 9.0, 10.0, nan] [1.0, 2.0, 3.0, 4.0, 5.0, 6.0, 7.0, 8.0, 9.0, 10.0, nan]\n",
      "[4] [1.0, 2.0, 3.0, 4.0, 5.0, 6.0, 7.0, 8.0, 9.0, 10.0, nan]\n",
      "[dataset]: train length: 2575879, eval_length: 260281\n"
     ]
    }
   ],
   "source": [
    "all_parts = []\n",
    "\n",
    "for dataset_name in dataset_names:\n",
    "    splits = load_dataset(dataset_name)\n",
    "    df_train = splits[\"train\"].copy()\n",
    "    df_test = splits[\"test\"].copy()\n",
    "\n",
    "    if dataset_name == \"kaggle_multiple\":\n",
    "        num2text = NUMERIC_TO_TEXT_MAPPING_KAGGLE_MULTIPLE\n",
    "    else:\n",
    "        num2text = NUMERIC_TO_TEXT_MAPPING\n",
    "    df_train[\"label\"] = df_train[\"label\"].map(num2text)\n",
    "    df_test[\"label\"] = df_test[\"label\"].map(num2text)\n",
    "\n",
    "    df_train[\"dataset\"] = dataset_name\n",
    "    df_train[\"set\"] = \"train\"\n",
    "\n",
    "    df_test[\"dataset\"] = dataset_name\n",
    "    df_test[\"set\"] = \"test\"\n",
    "\n",
    "    all_parts.extend([df_train, df_test])\n",
    "\n",
    "all_datasets = pd.concat(all_parts, ignore_index=True)\n",
    "del all_parts"
   ]
  },
  {
   "cell_type": "code",
   "execution_count": 0,
   "metadata": {
    "application/vnd.databricks.v1+cell": {
     "cellMetadata": {
      "byteLimit": 2048000,
      "rowLimit": 10000
     },
     "inputWidgets": {},
     "nuid": "6aeebb17-fb7a-4d5e-a3af-445eb9ba3cfb",
     "showTitle": false,
     "tableResultSettingsMap": {},
     "title": ""
    }
   },
   "outputs": [],
   "source": [
    "def get_dataset(dataset_name):\n",
    "    return all_datasets[all_datasets[\"dataset\"] == dataset_name]"
   ]
  },
  {
   "cell_type": "markdown",
   "metadata": {
    "application/vnd.databricks.v1+cell": {
     "cellMetadata": {
      "byteLimit": 2048000,
      "rowLimit": 10000
     },
     "inputWidgets": {},
     "nuid": "2bea3068-7226-4828-a70e-ac3ce3fb59e8",
     "showTitle": false,
     "tableResultSettingsMap": {},
     "title": ""
    }
   },
   "source": [
    "# High level statistics"
   ]
  },
  {
   "cell_type": "code",
   "execution_count": 0,
   "metadata": {
    "application/vnd.databricks.v1+cell": {
     "cellMetadata": {
      "byteLimit": 2048000,
      "rowLimit": 10000
     },
     "inputWidgets": {},
     "nuid": "cfc7c0b8-81a6-4538-bef9-4b2baed51491",
     "showTitle": false,
     "tableResultSettingsMap": {},
     "title": ""
    }
   },
   "outputs": [
    {
     "name": "stdout",
     "output_type": "stream",
     "text": [
      "<class 'pandas.core.frame.DataFrame'>\n",
      "RangeIndex: 9005214 entries, 0 to 9005213\n",
      "Data columns (total 5 columns):\n",
      " #   Column   Dtype  \n",
      "---  ------   -----  \n",
      " 0   url      object \n",
      " 1   label    object \n",
      " 2   fold     float64\n",
      " 3   dataset  object \n",
      " 4   set      object \n",
      "dtypes: float64(1), object(4)\n",
      "memory usage: 343.5+ MB\n"
     ]
    },
    {
     "data": {
      "text/html": [
       "<style scoped>\n",
       "  .table-result-container {\n",
       "    max-height: 300px;\n",
       "    overflow: auto;\n",
       "  }\n",
       "  table, th, td {\n",
       "    border: 1px solid black;\n",
       "    border-collapse: collapse;\n",
       "  }\n",
       "  th, td {\n",
       "    padding: 5px;\n",
       "  }\n",
       "  th {\n",
       "    text-align: left;\n",
       "  }\n",
       "</style><div class='table-result-container'><table class='table-result'><thead style='background-color: white'><tr><th>url</th><th>label</th><th>fold</th><th>dataset</th><th>set</th></tr></thead><tbody><tr><td>https://blog.sockpuppet.us/</td><td>benign</td><td>0.0</td><td>grambeddings</td><td>train</td></tr><tr><td>https://blog.apiki.com/seguranca/</td><td>benign</td><td>3.0</td><td>grambeddings</td><td>train</td></tr><tr><td>http://autoecole-lauriston.com/a/T0RVd056QXlNelF6T1RnPQ==/</td><td>malicious</td><td>2.0</td><td>grambeddings</td><td>train</td></tr><tr><td>http://chinpay.site/index.html?hgcFSE@E$Z*DFcGVhBiNnikMOJIbhVgTFDRECTFgvBH</td><td>malicious</td><td>0.0</td><td>grambeddings</td><td>train</td></tr><tr><td>http://www.firstfivenebraska.org/blog/article/covid-19-daily-digest#.XnvphYhKjIU</td><td>benign</td><td>3.0</td><td>grambeddings</td><td>train</td></tr></tbody></table></div>"
      ]
     },
     "metadata": {
      "application/vnd.databricks.v1+output": {
       "addedWidgets": {},
       "aggData": [],
       "aggError": "",
       "aggOverflow": false,
       "aggSchema": [],
       "aggSeriesLimitReached": false,
       "aggType": "",
       "arguments": {},
       "columnCustomDisplayInfos": {},
       "data": [
        [
         "https://blog.sockpuppet.us/",
         "benign",
         0,
         "grambeddings",
         "train"
        ],
        [
         "https://blog.apiki.com/seguranca/",
         "benign",
         3,
         "grambeddings",
         "train"
        ],
        [
         "http://autoecole-lauriston.com/a/T0RVd056QXlNelF6T1RnPQ==/",
         "malicious",
         2,
         "grambeddings",
         "train"
        ],
        [
         "http://chinpay.site/index.html?hgcFSE@E$Z*DFcGVhBiNnikMOJIbhVgTFDRECTFgvBH",
         "malicious",
         0,
         "grambeddings",
         "train"
        ],
        [
         "http://www.firstfivenebraska.org/blog/article/covid-19-daily-digest#.XnvphYhKjIU",
         "benign",
         3,
         "grambeddings",
         "train"
        ]
       ],
       "datasetInfos": [],
       "dbfsResultPath": null,
       "isJsonSchema": true,
       "metadata": {},
       "overflow": false,
       "plotOptions": {
        "customPlotOptions": {},
        "displayType": "table",
        "pivotAggregation": null,
        "pivotColumns": null,
        "xColumns": null,
        "yColumns": null
       },
       "removedWidgets": [],
       "schema": [
        {
         "metadata": "{}",
         "name": "url",
         "type": "\"string\""
        },
        {
         "metadata": "{}",
         "name": "label",
         "type": "\"string\""
        },
        {
         "metadata": "{}",
         "name": "fold",
         "type": "\"double\""
        },
        {
         "metadata": "{}",
         "name": "dataset",
         "type": "\"string\""
        },
        {
         "metadata": "{}",
         "name": "set",
         "type": "\"string\""
        }
       ],
       "type": "table"
      }
     },
     "output_type": "display_data"
    }
   ],
   "source": [
    "display(all_datasets.info())\n",
    "display(all_datasets.head())"
   ]
  },
  {
   "cell_type": "markdown",
   "metadata": {
    "application/vnd.databricks.v1+cell": {
     "cellMetadata": {
      "byteLimit": 2048000,
      "rowLimit": 10000
     },
     "inputWidgets": {},
     "nuid": "8b1c5e82-2891-47e3-8c13-7ff485286c87",
     "showTitle": false,
     "tableResultSettingsMap": {},
     "title": ""
    }
   },
   "source": [
    "- The next cell contains datas statistics for each dataset\n",
    "- TOTAL - all records of a dataset\n",
    "- %_dataset - how much percent of the current dataset does this class represent\n",
    "- %_joined_dataset - how much percent of all the datasets joined does this class represent"
   ]
  },
  {
   "cell_type": "code",
   "execution_count": 0,
   "metadata": {
    "application/vnd.databricks.v1+cell": {
     "cellMetadata": {
      "byteLimit": 2048000,
      "rowLimit": 10000
     },
     "inputWidgets": {},
     "nuid": "ae9c69ce-b3fe-4c3e-bd57-52a3edbcc6d8",
     "showTitle": false,
     "tableResultSettingsMap": {},
     "title": ""
    }
   },
   "outputs": [
    {
     "name": "stdout",
     "output_type": "stream",
     "text": [
      "=== Dataset: grambeddings ===\n",
      "            count  %_dataset  %_joined_dataset\n",
      "benign     399998       50.0              4.44\n",
      "malicious  399995       50.0              4.44\n",
      "TOTAL      799993      100.0              8.88\n",
      "\n",
      "=== Dataset: kaggle_binary ===\n",
      "            count  %_dataset  %_joined_dataset\n",
      "benign     316252      56.85              3.51\n",
      "malicious  240009      43.15              2.67\n",
      "TOTAL      556261     100.00              6.18\n",
      "\n",
      "=== Dataset: kaggle_multiple ===\n",
      "           count  %_dataset  %_joined_dataset\n",
      "benign    342646      78.47              3.80\n",
      "phishing   75135      17.21              0.83\n",
      "malware    18857       4.32              0.21\n",
      "TOTAL     436638     100.00              4.85\n",
      "\n",
      "=== Dataset: mendeley ===\n",
      "             count  %_dataset  %_joined_dataset\n",
      "benign     1479082      97.69             16.42\n",
      "malicious    35020       2.31              0.39\n",
      "TOTAL      1514102     100.00             16.81\n",
      "\n",
      "=== Dataset: joined ===\n",
      "             count  %_dataset  %_joined_dataset\n",
      "benign     2194899      76.69             24.37\n",
      "malicious   667161      23.31              7.41\n",
      "TOTAL      2862060     100.00             31.78\n",
      "\n",
      "=== Dataset: private_data ===\n",
      "             count  %_dataset  %_joined_dataset\n",
      "benign     2552544       90.0             28.35\n",
      "malicious   283616       10.0              3.15\n",
      "TOTAL      2836160      100.0             31.49\n",
      "\n"
     ]
    }
   ],
   "source": [
    "for name in dataset_names:\n",
    "    df_subset = all_datasets[all_datasets[\"dataset\"] == name]\n",
    "    count = df_subset[\"label\"].value_counts()\n",
    "    percent = (count / len(df_subset) * 100).round(2)\n",
    "    percent_of_all = (count / len(all_datasets) * 100).round(2)\n",
    "\n",
    "    summary = pd.DataFrame({\"count\": count, \"%_dataset\": percent, \"%_total_dataset\": percent_of_all})\n",
    "\n",
    "    total_row = pd.DataFrame(\n",
    "        {\n",
    "            \"count\": [len(df_subset)],\n",
    "            \"%_dataset\": [100.0],\n",
    "            \"%_total_dataset\": [len(df_subset) / len(all_datasets) * 100],\n",
    "        },\n",
    "        index=[\"TOTAL\"],\n",
    "    )\n",
    "\n",
    "    summary = pd.concat([summary, total_row])\n",
    "\n",
    "    print(f\"=== Dataset: {name} ===\")\n",
    "    print(summary.round(2))\n",
    "    print()"
   ]
  },
  {
   "cell_type": "markdown",
   "metadata": {
    "application/vnd.databricks.v1+cell": {
     "cellMetadata": {
      "byteLimit": 2048000,
      "rowLimit": 10000
     },
     "inputWidgets": {},
     "nuid": "fdb42509-9b1c-42f1-93cd-ffacdb9c5bb5",
     "showTitle": false,
     "tableResultSettingsMap": {},
     "title": ""
    }
   },
   "source": [
    "# Train / test split"
   ]
  },
  {
   "cell_type": "code",
   "execution_count": 0,
   "metadata": {
    "application/vnd.databricks.v1+cell": {
     "cellMetadata": {
      "byteLimit": 2048000,
      "rowLimit": 10000
     },
     "inputWidgets": {},
     "nuid": "fccde3bb-fe42-4157-bf37-e8996295fc45",
     "showTitle": false,
     "tableResultSettingsMap": {},
     "title": ""
    }
   },
   "outputs": [],
   "source": [
    "all_datasets[\"sld\"] = all_datasets[\"url\"].apply(get_sld)"
   ]
  },
  {
   "cell_type": "code",
   "execution_count": 0,
   "metadata": {
    "application/vnd.databricks.v1+cell": {
     "cellMetadata": {
      "byteLimit": 2048000,
      "rowLimit": 10000
     },
     "inputWidgets": {},
     "nuid": "cf3a00fe-4236-4770-bdd3-554a1bcab17f",
     "showTitle": false,
     "tableResultSettingsMap": {},
     "title": ""
    }
   },
   "outputs": [
    {
     "name": "stdout",
     "output_type": "stream",
     "text": [
      "===grambeddings===\n",
      "             count  % of dataset\n",
      "url_overlap      0           0.0\n",
      "sld_overlap      0           0.0\n",
      "===kaggle_binary===\n",
      "             count  % of dataset\n",
      "url_overlap      0           0.0\n",
      "sld_overlap      0           0.0\n",
      "===kaggle_multiple===\n",
      "             count  % of dataset\n",
      "url_overlap      0           0.0\n",
      "sld_overlap      0           0.0\n",
      "===mendeley===\n",
      "             count  % of dataset\n",
      "url_overlap      0           0.0\n",
      "sld_overlap      0           0.0\n",
      "===joined===\n",
      "             count  % of dataset\n",
      "url_overlap      0           0.0\n",
      "sld_overlap      0           0.0\n",
      "===private_data===\n",
      "             count  % of dataset\n",
      "url_overlap      0      0.000000\n",
      "sld_overlap   2284      0.080531\n"
     ]
    }
   ],
   "source": [
    "for name in dataset_names:\n",
    "    df_ds = all_datasets[all_datasets[\"dataset\"] == name]\n",
    "    df_train = df_ds[df_ds[\"set\"] == \"train\"]\n",
    "    df_test = df_ds[df_ds[\"set\"] == \"test\"]\n",
    "\n",
    "    shared_urls = set(df_train[\"url\"]) & set(df_test[\"url\"])\n",
    "    shared_slds = set(df_train[\"sld\"]) & set(df_test[\"sld\"])\n",
    "\n",
    "    poison_summary = pd.DataFrame(\n",
    "        {\n",
    "            \"count\": [len(shared_urls), len(shared_slds)],\n",
    "            \"% of dataset\": [(len(shared_urls) / len(df_ds) * 100), (len(shared_slds) / len(df_ds) * 100)],\n",
    "        },\n",
    "        index=[\"url_overlap\", \"sld_overlap\"],\n",
    "    )\n",
    "    print(f\"==={name}===\")\n",
    "    print(poison_summary)"
   ]
  },
  {
   "cell_type": "markdown",
   "metadata": {
    "application/vnd.databricks.v1+cell": {
     "cellMetadata": {
      "byteLimit": 2048000,
      "rowLimit": 10000
     },
     "inputWidgets": {},
     "nuid": "98d28b18-4539-4556-8e26-f9c69fd32206",
     "showTitle": false,
     "tableResultSettingsMap": {},
     "title": ""
    }
   },
   "source": [
    "# Between dataset duplication\n",
    "- We are not going to remove from these from the datasets"
   ]
  },
  {
   "cell_type": "code",
   "execution_count": 0,
   "metadata": {
    "application/vnd.databricks.v1+cell": {
     "cellMetadata": {
      "byteLimit": 2048000,
      "rowLimit": 10000
     },
     "inputWidgets": {},
     "nuid": "3173d9e1-da4d-4716-89a7-2a31484b6df2",
     "showTitle": false,
     "tableResultSettingsMap": {},
     "title": ""
    }
   },
   "outputs": [],
   "source": [
    "def display_uniqueness(column, df):\n",
    "    display(f\"Unique {column}s: {df[column].nunique()} / {df[column].count()}\")\n",
    "\n",
    "    n_unique_col = df[column].nunique()\n",
    "    display(f\"Percentage of unique {column}s: {n_unique_col / df[column].count() * 100}%\")\n",
    "    url_counts = df.groupby(column)[\"dataset\"].nunique()\n",
    "    display(url_counts.value_counts())\n",
    "    only_in_1_dataset = (url_counts == 1).sum()\n",
    "    exactly_in_2_datasets = (url_counts == 2).sum()\n",
    "    exactly_in_3_datasets = (url_counts == 3).sum()\n",
    "    exactly_in_4_datasets = (url_counts == 4).sum()\n",
    "\n",
    "    url_distribution = pd.DataFrame(\n",
    "        {\n",
    "            \"Category\": [\n",
    "                \"Exactly 1 dataset\",\n",
    "                \"Exactly in 2 datasets\",\n",
    "                \"Exactly in 3 datasets\",\n",
    "                \"Exactly in 4 datasets\",\n",
    "            ],\n",
    "            \"Count\": [only_in_1_dataset, exactly_in_2_datasets, exactly_in_3_datasets, exactly_in_4_datasets],\n",
    "            f\"Percentage of unique {column}s(%)\": [\n",
    "                only_in_1_dataset / n_unique_col * 100,\n",
    "                exactly_in_2_datasets / n_unique_col * 100,\n",
    "                exactly_in_3_datasets / n_unique_col * 100,\n",
    "                exactly_in_4_datasets / n_unique_col * 100,\n",
    "            ],\n",
    "        }\n",
    "    )\n",
    "\n",
    "    display(url_distribution)"
   ]
  },
  {
   "cell_type": "markdown",
   "metadata": {
    "application/vnd.databricks.v1+cell": {
     "cellMetadata": {
      "byteLimit": 2048000,
      "rowLimit": 10000
     },
     "inputWidgets": {},
     "nuid": "67db7c69-75a2-4c79-b841-6486355a1a2a",
     "showTitle": false,
     "tableResultSettingsMap": {},
     "title": ""
    }
   },
   "source": [
    "- Kaggle Multiple and Kaggle Binary datasets contain similar data because they were created from similar sources. Let's only consider binary dataset."
   ]
  },
  {
   "cell_type": "code",
   "execution_count": 0,
   "metadata": {
    "application/vnd.databricks.v1+cell": {
     "cellMetadata": {
      "byteLimit": 2048000,
      "rowLimit": 10000
     },
     "inputWidgets": {},
     "nuid": "4c45ddb7-ff69-4861-8527-271478b42e76",
     "showTitle": false,
     "tableResultSettingsMap": {},
     "title": ""
    }
   },
   "outputs": [
    {
     "data": {
      "text/plain": [
       "'Unique urls: 5693572 / 5706516'"
      ]
     },
     "metadata": {},
     "output_type": "display_data"
    },
    {
     "data": {
      "text/plain": [
       "'Percentage of unique urls: 99.77317158139924%'"
      ]
     },
     "metadata": {},
     "output_type": "display_data"
    },
    {
     "data": {
      "text/plain": [
       "1    5685274\n",
       "2       8298\n",
       "Name: dataset, dtype: int64"
      ]
     },
     "metadata": {},
     "output_type": "display_data"
    },
    {
     "data": {
      "text/html": [
       "<style scoped>\n",
       "  .table-result-container {\n",
       "    max-height: 300px;\n",
       "    overflow: auto;\n",
       "  }\n",
       "  table, th, td {\n",
       "    border: 1px solid black;\n",
       "    border-collapse: collapse;\n",
       "  }\n",
       "  th, td {\n",
       "    padding: 5px;\n",
       "  }\n",
       "  th {\n",
       "    text-align: left;\n",
       "  }\n",
       "</style><div class='table-result-container'><table class='table-result'><thead style='background-color: white'><tr><th>Category</th><th>Count</th><th>Percentage of unique urls(%)</th></tr></thead><tbody><tr><td>Exactly 1 dataset</td><td>5685274</td><td>99.85425669509405</td></tr><tr><td>Exactly in 2 datasets</td><td>8298</td><td>0.14574330490595358</td></tr><tr><td>Exactly in 3 datasets</td><td>0</td><td>0.0</td></tr><tr><td>Exactly in 4 datasets</td><td>0</td><td>0.0</td></tr></tbody></table></div>"
      ]
     },
     "metadata": {
      "application/vnd.databricks.v1+output": {
       "addedWidgets": {},
       "aggData": [],
       "aggError": "",
       "aggOverflow": false,
       "aggSchema": [],
       "aggSeriesLimitReached": false,
       "aggType": "",
       "arguments": {},
       "columnCustomDisplayInfos": {},
       "data": [
        [
         "Exactly 1 dataset",
         5685274,
         99.85425669509405
        ],
        [
         "Exactly in 2 datasets",
         8298,
         0.14574330490595358
        ],
        [
         "Exactly in 3 datasets",
         0,
         0
        ],
        [
         "Exactly in 4 datasets",
         0,
         0
        ]
       ],
       "datasetInfos": [],
       "dbfsResultPath": null,
       "isJsonSchema": true,
       "metadata": {},
       "overflow": false,
       "plotOptions": {
        "customPlotOptions": {},
        "displayType": "table",
        "pivotAggregation": null,
        "pivotColumns": null,
        "xColumns": null,
        "yColumns": null
       },
       "removedWidgets": [],
       "schema": [
        {
         "metadata": "{}",
         "name": "Category",
         "type": "\"string\""
        },
        {
         "metadata": "{}",
         "name": "Count",
         "type": "\"long\""
        },
        {
         "metadata": "{}",
         "name": "Percentage of unique urls(%)",
         "type": "\"double\""
        }
       ],
       "type": "table"
      }
     },
     "output_type": "display_data"
    }
   ],
   "source": [
    "all_original_datasets = all_datasets[~all_datasets[\"dataset\"].isin([datasets[\"kaggle_multiple\"], \"joined\"])]\n",
    "display_uniqueness(\"url\", all_original_datasets)"
   ]
  },
  {
   "cell_type": "markdown",
   "metadata": {
    "application/vnd.databricks.v1+cell": {
     "cellMetadata": {
      "byteLimit": 2048000,
      "rowLimit": 10000
     },
     "inputWidgets": {},
     "nuid": "3f0d6cdf-8098-4e50-ae4a-2d4c4147912c",
     "showTitle": false,
     "tableResultSettingsMap": {},
     "title": ""
    }
   },
   "source": [
    "# Data description"
   ]
  },
  {
   "cell_type": "markdown",
   "metadata": {
    "application/vnd.databricks.v1+cell": {
     "cellMetadata": {
      "byteLimit": 2048000,
      "rowLimit": 10000
     },
     "inputWidgets": {},
     "nuid": "6a12e826-ca2c-4cde-8ad1-fe9c6fec02c8",
     "showTitle": false,
     "tableResultSettingsMap": {},
     "title": ""
    }
   },
   "source": [
    "## TLD\n",
    "- This summary highlights the most common TLDs across each dataset, providing insights into registration trends and potential regional or regulatory influences."
   ]
  },
  {
   "cell_type": "code",
   "execution_count": 0,
   "metadata": {
    "application/vnd.databricks.v1+cell": {
     "cellMetadata": {
      "byteLimit": 2048000,
      "rowLimit": 10000
     },
     "inputWidgets": {},
     "nuid": "558ca808-3ec0-41d1-be91-5b51a61ce63a",
     "showTitle": false,
     "tableResultSettingsMap": {},
     "title": ""
    }
   },
   "outputs": [],
   "source": [
    "import pandas as pd\n",
    "import tldextract\n",
    "\n",
    "\n",
    "def extract_tld(url):\n",
    "    return tldextract.extract(url).suffix\n",
    "\n",
    "\n",
    "def is_cctld(tld):\n",
    "    return len(tld) == 2 and tld.isalpha()\n",
    "\n",
    "\n",
    "special_domains = [\"com\", \"net\", \"org\", \"edu\"]\n",
    "\n",
    "\n",
    "def assign_category(tld):\n",
    "    if tld in special_domains:\n",
    "        return tld\n",
    "    elif is_cctld(tld):\n",
    "        return \"ccTLD\"\n",
    "    else:\n",
    "        return \"other\"\n",
    "\n",
    "\n",
    "def compute_tld_summary_for_dataset(df):\n",
    "    categories = special_domains + [\"ccTLD\", \"other\"]\n",
    "    tld_series = df[\"url\"].apply(extract_tld)\n",
    "    assigned = tld_series.apply(assign_category)\n",
    "    counts = assigned.value_counts()\n",
    "    row = {}\n",
    "    for cat in categories:\n",
    "        perc = (counts.get(cat, 0) / len(df) * 100) if len(df) > 0 else 0\n",
    "        row[cat] = f\"{perc:.2f}%\"\n",
    "    other_tlds = tld_series[~tld_series.isin(special_domains) & (~tld_series.apply(is_cctld))]\n",
    "    top_n = 3\n",
    "    other_counts = other_tlds.value_counts().head(top_n)\n",
    "    top_n_list = []\n",
    "    for tld, count in other_counts.items():\n",
    "        perc = (count / len(df) * 100) if len(df) > 0 else 0\n",
    "        if tld == \"\":\n",
    "            tld = \"NaN\"\n",
    "        top_n_list.append(f\"{tld}: ({perc:.2f}%)\")\n",
    "    row[f\"other_top_{top_n}\"] = \", \".join(top_n_list)\n",
    "    return row\n",
    "\n",
    "\n",
    "def compute_tld_summary(display_name, df):\n",
    "    rows = []\n",
    "    for ds in df[\"dataset\"].unique():\n",
    "        row = compute_tld_summary_for_dataset(df[df[\"dataset\"] == ds])\n",
    "        row[\"dataset\"] = ds\n",
    "        rows.append(row)\n",
    "    result_df = pd.DataFrame(rows).set_index(\"dataset\")\n",
    "    display(f\"=== {display_name} ===\")\n",
    "    display(result_df)"
   ]
  },
  {
   "cell_type": "code",
   "execution_count": 0,
   "metadata": {
    "application/vnd.databricks.v1+cell": {
     "cellMetadata": {
      "byteLimit": 2048000,
      "rowLimit": 10000
     },
     "inputWidgets": {},
     "nuid": "52ef0f54-1556-45e1-a162-8dcdd0398837",
     "showTitle": false,
     "tableResultSettingsMap": {},
     "title": ""
    }
   },
   "outputs": [
    {
     "data": {
      "text/plain": [
       "'=== Everything ==='"
      ]
     },
     "metadata": {},
     "output_type": "display_data"
    },
    {
     "data": {
      "text/html": [
       "<style scoped>\n",
       "  .table-result-container {\n",
       "    max-height: 300px;\n",
       "    overflow: auto;\n",
       "  }\n",
       "  table, th, td {\n",
       "    border: 1px solid black;\n",
       "    border-collapse: collapse;\n",
       "  }\n",
       "  th, td {\n",
       "    padding: 5px;\n",
       "  }\n",
       "  th {\n",
       "    text-align: left;\n",
       "  }\n",
       "</style><div class='table-result-container'><table class='table-result'><thead style='background-color: white'><tr><th>com</th><th>net</th><th>org</th><th>edu</th><th>ccTLD</th><th>other</th><th>other_top_3</th></tr></thead><tbody><tr><td>51.16%</td><td>3.61%</td><td>5.53%</td><td>0.50%</td><td>23.43%</td><td>15.76%</td><td>xyz: (1.49%), co.uk: (1.41%), NaN: (1.14%)</td></tr><tr><td>63.89%</td><td>3.96%</td><td>8.00%</td><td>1.68%</td><td>10.89%</td><td>11.58%</td><td>NaN: (2.96%), co.uk: (1.42%), com.br: (0.98%)</td></tr><tr><td>66.84%</td><td>4.53%</td><td>8.64%</td><td>1.87%</td><td>9.03%</td><td>9.09%</td><td>NaN: (2.23%), co.uk: (1.30%), com.br: (0.57%)</td></tr><tr><td>61.24%</td><td>4.63%</td><td>12.11%</td><td>5.16%</td><td>6.39%</td><td>10.48%</td><td>co.uk: (3.98%), com.au: (0.90%), org.uk: (0.75%)</td></tr><tr><td>58.95%</td><td>4.21%</td><td>9.50%</td><td>3.19%</td><td>11.99%</td><td>12.15%</td><td>co.uk: (2.77%), NaN: (0.89%), com.au: (0.78%)</td></tr><tr><td>48.32%</td><td>5.62%</td><td>3.00%</td><td>0.02%</td><td>16.87%</td><td>26.17%</td><td>NaN: (8.21%), co.il: (2.17%), com.br: (1.62%)</td></tr></tbody></table></div>"
      ]
     },
     "metadata": {
      "application/vnd.databricks.v1+output": {
       "addedWidgets": {},
       "aggData": [],
       "aggError": "",
       "aggOverflow": false,
       "aggSchema": [],
       "aggSeriesLimitReached": false,
       "aggType": "",
       "arguments": {},
       "columnCustomDisplayInfos": {},
       "data": [
        [
         "51.16%",
         "3.61%",
         "5.53%",
         "0.50%",
         "23.43%",
         "15.76%",
         "xyz: (1.49%), co.uk: (1.41%), NaN: (1.14%)"
        ],
        [
         "63.89%",
         "3.96%",
         "8.00%",
         "1.68%",
         "10.89%",
         "11.58%",
         "NaN: (2.96%), co.uk: (1.42%), com.br: (0.98%)"
        ],
        [
         "66.84%",
         "4.53%",
         "8.64%",
         "1.87%",
         "9.03%",
         "9.09%",
         "NaN: (2.23%), co.uk: (1.30%), com.br: (0.57%)"
        ],
        [
         "61.24%",
         "4.63%",
         "12.11%",
         "5.16%",
         "6.39%",
         "10.48%",
         "co.uk: (3.98%), com.au: (0.90%), org.uk: (0.75%)"
        ],
        [
         "58.95%",
         "4.21%",
         "9.50%",
         "3.19%",
         "11.99%",
         "12.15%",
         "co.uk: (2.77%), NaN: (0.89%), com.au: (0.78%)"
        ],
        [
         "48.32%",
         "5.62%",
         "3.00%",
         "0.02%",
         "16.87%",
         "26.17%",
         "NaN: (8.21%), co.il: (2.17%), com.br: (1.62%)"
        ]
       ],
       "datasetInfos": [],
       "dbfsResultPath": null,
       "isJsonSchema": true,
       "metadata": {},
       "overflow": false,
       "plotOptions": {
        "customPlotOptions": {},
        "displayType": "table",
        "pivotAggregation": null,
        "pivotColumns": null,
        "xColumns": null,
        "yColumns": null
       },
       "removedWidgets": [],
       "schema": [
        {
         "metadata": "{}",
         "name": "com",
         "type": "\"string\""
        },
        {
         "metadata": "{}",
         "name": "net",
         "type": "\"string\""
        },
        {
         "metadata": "{}",
         "name": "org",
         "type": "\"string\""
        },
        {
         "metadata": "{}",
         "name": "edu",
         "type": "\"string\""
        },
        {
         "metadata": "{}",
         "name": "ccTLD",
         "type": "\"string\""
        },
        {
         "metadata": "{}",
         "name": "other",
         "type": "\"string\""
        },
        {
         "metadata": "{}",
         "name": "other_top_3",
         "type": "\"string\""
        }
       ],
       "type": "table"
      }
     },
     "output_type": "display_data"
    }
   ],
   "source": [
    "compute_tld_summary(\"Everything\", all_datasets)"
   ]
  },
  {
   "cell_type": "code",
   "execution_count": 0,
   "metadata": {
    "application/vnd.databricks.v1+cell": {
     "cellMetadata": {
      "byteLimit": 2048000,
      "rowLimit": 10000
     },
     "inputWidgets": {},
     "nuid": "da6a8758-9357-4a48-b7ad-700efc612c6c",
     "showTitle": false,
     "tableResultSettingsMap": {},
     "title": ""
    }
   },
   "outputs": [
    {
     "data": {
      "text/plain": [
       "'=== Benign ==='"
      ]
     },
     "metadata": {},
     "output_type": "display_data"
    },
    {
     "data": {
      "text/html": [
       "<style scoped>\n",
       "  .table-result-container {\n",
       "    max-height: 300px;\n",
       "    overflow: auto;\n",
       "  }\n",
       "  table, th, td {\n",
       "    border: 1px solid black;\n",
       "    border-collapse: collapse;\n",
       "  }\n",
       "  th, td {\n",
       "    padding: 5px;\n",
       "  }\n",
       "  th {\n",
       "    text-align: left;\n",
       "  }\n",
       "</style><div class='table-result-container'><table class='table-result'><thead style='background-color: white'><tr><th>com</th><th>net</th><th>org</th><th>edu</th><th>ccTLD</th><th>other</th><th>other_top_3</th></tr></thead><tbody><tr><td>49.80%</td><td>3.46%</td><td>8.09%</td><td>0.99%</td><td>26.47%</td><td>11.19%</td><td>co.uk: (1.80%), info: (0.63%), com.br: (0.56%)</td></tr><tr><td>77.06%</td><td>3.32%</td><td>9.68%</td><td>1.96%</td><td>3.94%</td><td>4.04%</td><td>co.uk: (1.21%), gov: (0.75%), info: (0.34%)</td></tr><tr><td>72.25%</td><td>4.44%</td><td>8.75%</td><td>1.64%</td><td>7.48%</td><td>5.44%</td><td>co.uk: (1.14%), gov: (0.61%), com.br: (0.44%)</td></tr><tr><td>60.98%</td><td>4.58%</td><td>12.33%</td><td>5.29%</td><td>6.22%</td><td>10.60%</td><td>co.uk: (4.03%), com.au: (0.91%), org.uk: (0.77%)</td></tr><tr><td>61.26%</td><td>4.20%</td><td>11.18%</td><td>4.02%</td><td>9.58%</td><td>9.77%</td><td>co.uk: (3.22%), com.au: (0.75%), gov: (0.62%)</td></tr><tr><td>48.48%</td><td>5.73%</td><td>3.23%</td><td>0.02%</td><td>16.52%</td><td>26.02%</td><td>NaN: (8.66%), co.il: (2.40%), com.br: (1.72%)</td></tr></tbody></table></div>"
      ]
     },
     "metadata": {
      "application/vnd.databricks.v1+output": {
       "addedWidgets": {},
       "aggData": [],
       "aggError": "",
       "aggOverflow": false,
       "aggSchema": [],
       "aggSeriesLimitReached": false,
       "aggType": "",
       "arguments": {},
       "columnCustomDisplayInfos": {},
       "data": [
        [
         "49.80%",
         "3.46%",
         "8.09%",
         "0.99%",
         "26.47%",
         "11.19%",
         "co.uk: (1.80%), info: (0.63%), com.br: (0.56%)"
        ],
        [
         "77.06%",
         "3.32%",
         "9.68%",
         "1.96%",
         "3.94%",
         "4.04%",
         "co.uk: (1.21%), gov: (0.75%), info: (0.34%)"
        ],
        [
         "72.25%",
         "4.44%",
         "8.75%",
         "1.64%",
         "7.48%",
         "5.44%",
         "co.uk: (1.14%), gov: (0.61%), com.br: (0.44%)"
        ],
        [
         "60.98%",
         "4.58%",
         "12.33%",
         "5.29%",
         "6.22%",
         "10.60%",
         "co.uk: (4.03%), com.au: (0.91%), org.uk: (0.77%)"
        ],
        [
         "61.26%",
         "4.20%",
         "11.18%",
         "4.02%",
         "9.58%",
         "9.77%",
         "co.uk: (3.22%), com.au: (0.75%), gov: (0.62%)"
        ],
        [
         "48.48%",
         "5.73%",
         "3.23%",
         "0.02%",
         "16.52%",
         "26.02%",
         "NaN: (8.66%), co.il: (2.40%), com.br: (1.72%)"
        ]
       ],
       "datasetInfos": [],
       "dbfsResultPath": null,
       "isJsonSchema": true,
       "metadata": {},
       "overflow": false,
       "plotOptions": {
        "customPlotOptions": {},
        "displayType": "table",
        "pivotAggregation": null,
        "pivotColumns": null,
        "xColumns": null,
        "yColumns": null
       },
       "removedWidgets": [],
       "schema": [
        {
         "metadata": "{}",
         "name": "com",
         "type": "\"string\""
        },
        {
         "metadata": "{}",
         "name": "net",
         "type": "\"string\""
        },
        {
         "metadata": "{}",
         "name": "org",
         "type": "\"string\""
        },
        {
         "metadata": "{}",
         "name": "edu",
         "type": "\"string\""
        },
        {
         "metadata": "{}",
         "name": "ccTLD",
         "type": "\"string\""
        },
        {
         "metadata": "{}",
         "name": "other",
         "type": "\"string\""
        },
        {
         "metadata": "{}",
         "name": "other_top_3",
         "type": "\"string\""
        }
       ],
       "type": "table"
      }
     },
     "output_type": "display_data"
    },
    {
     "data": {
      "text/plain": [
       "'=== Malicious ==='"
      ]
     },
     "metadata": {},
     "output_type": "display_data"
    },
    {
     "data": {
      "text/html": [
       "<style scoped>\n",
       "  .table-result-container {\n",
       "    max-height: 300px;\n",
       "    overflow: auto;\n",
       "  }\n",
       "  table, th, td {\n",
       "    border: 1px solid black;\n",
       "    border-collapse: collapse;\n",
       "  }\n",
       "  th, td {\n",
       "    padding: 5px;\n",
       "  }\n",
       "  th {\n",
       "    text-align: left;\n",
       "  }\n",
       "</style><div class='table-result-container'><table class='table-result'><thead style='background-color: white'><tr><th>com</th><th>net</th><th>org</th><th>edu</th><th>ccTLD</th><th>other</th><th>other_top_3</th></tr></thead><tbody><tr><td>52.52%</td><td>3.77%</td><td>2.97%</td><td>0.01%</td><td>20.39%</td><td>20.34%</td><td>xyz: (2.87%), NaN: (2.27%), com.br: (1.50%)</td></tr><tr><td>46.54%</td><td>4.80%</td><td>5.79%</td><td>1.32%</td><td>20.05%</td><td>21.50%</td><td>NaN: (6.86%), com.br: (2.26%), co.uk: (1.71%)</td></tr><tr><td>47.12%</td><td>4.86%</td><td>8.22%</td><td>2.70%</td><td>14.70%</td><td>22.40%</td><td>NaN: (10.31%), co.uk: (1.89%), com.br: (1.03%)</td></tr><tr><td>71.94%</td><td>6.58%</td><td>2.65%</td><td>0.03%</td><td>13.75%</td><td>5.05%</td><td>co.uk: (1.70%), co.jp: (0.64%), biz: (0.46%)</td></tr><tr><td>51.33%</td><td>4.28%</td><td>3.97%</td><td>0.48%</td><td>19.94%</td><td>20.01%</td><td>NaN: (3.81%), xyz: (1.85%), com.br: (1.70%)</td></tr><tr><td>46.91%</td><td>4.61%</td><td>0.96%</td><td>0.01%</td><td>19.94%</td><td>27.57%</td><td>dev: (5.11%), NaN: (4.07%), info: (3.18%)</td></tr></tbody></table></div>"
      ]
     },
     "metadata": {
      "application/vnd.databricks.v1+output": {
       "addedWidgets": {},
       "aggData": [],
       "aggError": "",
       "aggOverflow": false,
       "aggSchema": [],
       "aggSeriesLimitReached": false,
       "aggType": "",
       "arguments": {},
       "columnCustomDisplayInfos": {},
       "data": [
        [
         "52.52%",
         "3.77%",
         "2.97%",
         "0.01%",
         "20.39%",
         "20.34%",
         "xyz: (2.87%), NaN: (2.27%), com.br: (1.50%)"
        ],
        [
         "46.54%",
         "4.80%",
         "5.79%",
         "1.32%",
         "20.05%",
         "21.50%",
         "NaN: (6.86%), com.br: (2.26%), co.uk: (1.71%)"
        ],
        [
         "47.12%",
         "4.86%",
         "8.22%",
         "2.70%",
         "14.70%",
         "22.40%",
         "NaN: (10.31%), co.uk: (1.89%), com.br: (1.03%)"
        ],
        [
         "71.94%",
         "6.58%",
         "2.65%",
         "0.03%",
         "13.75%",
         "5.05%",
         "co.uk: (1.70%), co.jp: (0.64%), biz: (0.46%)"
        ],
        [
         "51.33%",
         "4.28%",
         "3.97%",
         "0.48%",
         "19.94%",
         "20.01%",
         "NaN: (3.81%), xyz: (1.85%), com.br: (1.70%)"
        ],
        [
         "46.91%",
         "4.61%",
         "0.96%",
         "0.01%",
         "19.94%",
         "27.57%",
         "dev: (5.11%), NaN: (4.07%), info: (3.18%)"
        ]
       ],
       "datasetInfos": [],
       "dbfsResultPath": null,
       "isJsonSchema": true,
       "metadata": {},
       "overflow": false,
       "plotOptions": {
        "customPlotOptions": {},
        "displayType": "table",
        "pivotAggregation": null,
        "pivotColumns": null,
        "xColumns": null,
        "yColumns": null
       },
       "removedWidgets": [],
       "schema": [
        {
         "metadata": "{}",
         "name": "com",
         "type": "\"string\""
        },
        {
         "metadata": "{}",
         "name": "net",
         "type": "\"string\""
        },
        {
         "metadata": "{}",
         "name": "org",
         "type": "\"string\""
        },
        {
         "metadata": "{}",
         "name": "edu",
         "type": "\"string\""
        },
        {
         "metadata": "{}",
         "name": "ccTLD",
         "type": "\"string\""
        },
        {
         "metadata": "{}",
         "name": "other",
         "type": "\"string\""
        },
        {
         "metadata": "{}",
         "name": "other_top_3",
         "type": "\"string\""
        }
       ],
       "type": "table"
      }
     },
     "output_type": "display_data"
    }
   ],
   "source": [
    "compute_tld_summary(\"Benign\", all_datasets[all_datasets[\"label\"] == \"benign\"])\n",
    "compute_tld_summary(\"Malicious\", all_datasets[(all_datasets[\"label\"] != \"benign\")])"
   ]
  },
  {
   "cell_type": "markdown",
   "metadata": {
    "application/vnd.databricks.v1+cell": {
     "cellMetadata": {
      "byteLimit": 2048000,
      "rowLimit": 10000
     },
     "inputWidgets": {},
     "nuid": "92be944c-cf8a-47e3-8a10-1a75af114fab",
     "showTitle": false,
     "tableResultSettingsMap": {},
     "title": ""
    }
   },
   "source": [
    "### Absence of TLD"
   ]
  },
  {
   "cell_type": "markdown",
   "metadata": {
    "application/vnd.databricks.v1+cell": {
     "cellMetadata": {
      "byteLimit": 2048000,
      "rowLimit": 10000
     },
     "inputWidgets": {},
     "nuid": "419fa409-867e-48fb-af05-46633b514679",
     "showTitle": false,
     "tableResultSettingsMap": {},
     "title": ""
    }
   },
   "source": [
    "- We now examine why there are some missing TLDs\n",
    "- The key reasons are examined are: localhost, ip address instead of DNS, malformed TLD\n",
    "- We can see that for public datasets IP address is almost always labeled as malicious and malformed TLD url is almost always malicious too\n",
    "    - We also see that around 3.76 of all malicious cases can be detected just by attributed to IP address being present\n",
    "- IP address is dominant reason there is not a valid TLD, followed by other category. There are only 2 records with localhost in them"
   ]
  },
  {
   "cell_type": "code",
   "execution_count": 0,
   "metadata": {
    "application/vnd.databricks.v1+cell": {
     "cellMetadata": {
      "byteLimit": 2048000,
      "rowLimit": 10000
     },
     "inputWidgets": {},
     "nuid": "cabc4049-cf5f-47c4-9caf-eb71cdf8ccf7",
     "showTitle": false,
     "tableResultSettingsMap": {},
     "title": ""
    }
   },
   "outputs": [
    {
     "data": {
      "text/plain": [
       "'Total URLs without TLD: 293532'"
      ]
     },
     "metadata": {},
     "output_type": "display_data"
    },
    {
     "data": {
      "text/plain": [
       "'Localhost URLs: 148 (0.05%)'"
      ]
     },
     "metadata": {},
     "output_type": "display_data"
    },
    {
     "data": {
      "text/plain": [
       "'IP Addresses: 187523 (63.89%)'"
      ]
     },
     "metadata": {},
     "output_type": "display_data"
    },
    {
     "data": {
      "text/plain": [
       "'Total IP Addresses in dataset: 247039, that means that method selected 75.91% of all IP addresses'"
      ]
     },
     "metadata": {},
     "output_type": "display_data"
    },
    {
     "data": {
      "text/plain": [
       "'Other: 105884 (36.07%)'"
      ]
     },
     "metadata": {},
     "output_type": "display_data"
    },
    {
     "data": {
      "text/plain": [
       "'Category: localhost'"
      ]
     },
     "metadata": {},
     "output_type": "display_data"
    },
    {
     "data": {
      "text/html": [
       "<style scoped>\n",
       "  .table-result-container {\n",
       "    max-height: 300px;\n",
       "    overflow: auto;\n",
       "  }\n",
       "  table, th, td {\n",
       "    border: 1px solid black;\n",
       "    border-collapse: collapse;\n",
       "  }\n",
       "  th, td {\n",
       "    padding: 5px;\n",
       "  }\n",
       "  th {\n",
       "    text-align: left;\n",
       "  }\n",
       "</style><div class='table-result-container'><table class='table-result'><thead style='background-color: white'><tr><th>url</th><th>label</th><th>fold</th><th>dataset</th><th>set</th><th>sld</th></tr></thead><tbody><tr><td>http://www.valofi.localhost/vos-projets/defiscalisation/</td><td>benign</td><td>4.0</td><td>grambeddings</td><td>test</td><td>localhost</td></tr><tr><td>http://localhost:82/tcp.exe</td><td>malicious</td><td>1.0</td><td>kaggle_binary</td><td>train</td><td>localhost</td></tr><tr><td>http://www.valofi.localhost/vos-projets/defiscalisation/</td><td>benign</td><td>0.0</td><td>joined</td><td>train</td><td>localhost</td></tr><tr><td>http://localhost:82/tcp.exe</td><td>malicious</td><td>0.0</td><td>joined</td><td>train</td><td>localhost</td></tr></tbody></table></div>"
      ]
     },
     "metadata": {
      "application/vnd.databricks.v1+output": {
       "addedWidgets": {},
       "aggData": [],
       "aggError": "",
       "aggOverflow": false,
       "aggSchema": [],
       "aggSeriesLimitReached": false,
       "aggType": "",
       "arguments": {},
       "columnCustomDisplayInfos": {},
       "data": [
        [
         "http://www.valofi.localhost/vos-projets/defiscalisation/",
         "benign",
         4,
         "grambeddings",
         "test",
         "localhost"
        ],
        [
         "http://localhost:82/tcp.exe",
         "malicious",
         1,
         "kaggle_binary",
         "train",
         "localhost"
        ],
        [
         "http://www.valofi.localhost/vos-projets/defiscalisation/",
         "benign",
         0,
         "joined",
         "train",
         "localhost"
        ],
        [
         "http://localhost:82/tcp.exe",
         "malicious",
         0,
         "joined",
         "train",
         "localhost"
        ],
        [
         "localhost.localdomain:8000/app/cisco_cdr/@go?sid=scheduler__admin_Y2lzY29fY2Ry__RMD562ba99f0b0c8dce2_at_1724904000_47160",
         "benign",
         9,
         "private_data",
         "train",
         "localdomain"
        ],
        [
         "localhost.localdomain:8000/app/cisco_cdr/@go?sid=scheduler__admin_Y2lzY29fY2Ry__RMD562ba99f0b0c8dce2_at_1724317200_45355",
         "benign",
         9,
         "private_data",
         "train",
         "localdomain"
        ],
        [
         "localhost.localdomain:8000/app/search/search?q=%7Cloadjob%20rt_scheduler__admin__search__RMD5a7e1ba15ad7592a0_at_1724950440_91739.35%20%7C%20head%203%20%7C%20tail%201&earliest=0&latest=now",
         "benign",
         9,
         "private_data",
         "train",
         "localdomain"
        ],
        [
         "localhost.localdomain:8000/app/cisco_cdr/@go?sid=scheduler__admin_Y2lzY29fY2Ry__RMD562ba99f0b0c8dce2_at_1724889600_47116",
         "benign",
         9,
         "private_data",
         "train",
         "localdomain"
        ],
        [
         "localhost.localdomain:8000/app/cisco_cdr/@go?sid=scheduler__admin_Y2lzY29fY2Ry__RMD562ba99f0b0c8dce2_at_1725440400_48811",
         "benign",
         9,
         "private_data",
         "train",
         "localdomain"
        ],
        [
         "localhost.localdomain:8000/app/search/search?q=%7Cloadjob%20rt_scheduler__admin__search__RMD5a7e1ba15ad7592a0_at_1724950440_91739.72%20%7C%20head%206%20%7C%20tail%201&amp;earliest=0&amp;latest=now",
         "benign",
         9,
         "private_data",
         "train",
         "localdomain"
        ]
       ],
       "datasetInfos": [],
       "dbfsResultPath": null,
       "isJsonSchema": true,
       "metadata": {},
       "overflow": false,
       "plotOptions": {
        "customPlotOptions": {},
        "displayType": "table",
        "pivotAggregation": null,
        "pivotColumns": null,
        "xColumns": null,
        "yColumns": null
       },
       "removedWidgets": [],
       "schema": [
        {
         "metadata": "{}",
         "name": "url",
         "type": "\"string\""
        },
        {
         "metadata": "{}",
         "name": "label",
         "type": "\"string\""
        },
        {
         "metadata": "{}",
         "name": "fold",
         "type": "\"double\""
        },
        {
         "metadata": "{}",
         "name": "dataset",
         "type": "\"string\""
        },
        {
         "metadata": "{}",
         "name": "set",
         "type": "\"string\""
        },
        {
         "metadata": "{}",
         "name": "sld",
         "type": "\"string\""
        }
       ],
       "type": "table"
      }
     },
     "output_type": "display_data"
    },
    {
     "data": {
      "text/plain": [
       "'Category: ip'"
      ]
     },
     "metadata": {},
     "output_type": "display_data"
    },
    {
     "data": {
      "text/html": [
       "<style scoped>\n",
       "  .table-result-container {\n",
       "    max-height: 300px;\n",
       "    overflow: auto;\n",
       "  }\n",
       "  table, th, td {\n",
       "    border: 1px solid black;\n",
       "    border-collapse: collapse;\n",
       "  }\n",
       "  th, td {\n",
       "    padding: 5px;\n",
       "  }\n",
       "  th {\n",
       "    text-align: left;\n",
       "  }\n",
       "</style><div class='table-result-container'><table class='table-result'><thead style='background-color: white'><tr><th>url</th><th>label</th><th>fold</th><th>dataset</th><th>set</th><th>sld</th></tr></thead><tbody><tr><td>http://206.189.87.184/online/ATB/e72b077015b2741124d26d06f5fd7a30/</td><td>malicious</td><td>0.0</td><td>grambeddings</td><td>train</td><td>206.189.87.184</td></tr><tr><td>https://173.82.16.76/</td><td>malicious</td><td>0.0</td><td>grambeddings</td><td>train</td><td>173.82.16.76</td></tr><tr><td>http://185.61.148.33/banks/cibc/ebm-mobile-app/index.html</td><td>malicious</td><td>1.0</td><td>grambeddings</td><td>train</td><td>185.61.148.33</td></tr><tr><td>http://192.241.153.144/directing/www.atbonline.com/ATB/processing.php</td><td>malicious</td><td>0.0</td><td>grambeddings</td><td>train</td><td>192.241.153.144</td></tr><tr><td>http://68.183.72.218/transf/directing/www.cibc.mobi/ebm-mobile-anp/ebm-mobile-app/index.html</td><td>malicious</td><td>2.0</td><td>grambeddings</td><td>train</td><td>68.183.72.218</td></tr><tr><td>http://142.11.205.74/Finance/desj</td><td>malicious</td><td>3.0</td><td>grambeddings</td><td>train</td><td>142.11.205.74</td></tr><tr><td>http://159.203.19.105/onlina/CIBC/ee54fb56991f54704ce9e2ad974f7f04/online/index.html</td><td>malicious</td><td>2.0</td><td>grambeddings</td><td>train</td><td>159.203.19.105</td></tr><tr><td>http://65.52.59.158/app/~~/router_t2.php...............</td><td>malicious</td><td>0.0</td><td>grambeddings</td><td>train</td><td>65.52.59.158</td></tr><tr><td>http://139.59.200.212/banks/National/f41d03bb2666e9f4211c044965c486e3/</td><td>malicious</td><td>1.0</td><td>grambeddings</td><td>train</td><td>139.59.200.212</td></tr><tr><td>http://35.188.107.3/pf/</td><td>malicious</td><td>3.0</td><td>grambeddings</td><td>train</td><td>35.188.107.3</td></tr></tbody></table></div>"
      ]
     },
     "metadata": {
      "application/vnd.databricks.v1+output": {
       "addedWidgets": {},
       "aggData": [],
       "aggError": "",
       "aggOverflow": false,
       "aggSchema": [],
       "aggSeriesLimitReached": false,
       "aggType": "",
       "arguments": {},
       "columnCustomDisplayInfos": {},
       "data": [
        [
         "http://206.189.87.184/online/ATB/e72b077015b2741124d26d06f5fd7a30/",
         "malicious",
         0,
         "grambeddings",
         "train",
         "206.189.87.184"
        ],
        [
         "https://173.82.16.76/",
         "malicious",
         0,
         "grambeddings",
         "train",
         "173.82.16.76"
        ],
        [
         "http://185.61.148.33/banks/cibc/ebm-mobile-app/index.html",
         "malicious",
         1,
         "grambeddings",
         "train",
         "185.61.148.33"
        ],
        [
         "http://192.241.153.144/directing/www.atbonline.com/ATB/processing.php",
         "malicious",
         0,
         "grambeddings",
         "train",
         "192.241.153.144"
        ],
        [
         "http://68.183.72.218/transf/directing/www.cibc.mobi/ebm-mobile-anp/ebm-mobile-app/index.html",
         "malicious",
         2,
         "grambeddings",
         "train",
         "68.183.72.218"
        ],
        [
         "http://142.11.205.74/Finance/desj",
         "malicious",
         3,
         "grambeddings",
         "train",
         "142.11.205.74"
        ],
        [
         "http://159.203.19.105/onlina/CIBC/ee54fb56991f54704ce9e2ad974f7f04/online/index.html",
         "malicious",
         2,
         "grambeddings",
         "train",
         "159.203.19.105"
        ],
        [
         "http://65.52.59.158/app/~~/router_t2.php...............",
         "malicious",
         0,
         "grambeddings",
         "train",
         "65.52.59.158"
        ],
        [
         "http://139.59.200.212/banks/National/f41d03bb2666e9f4211c044965c486e3/",
         "malicious",
         1,
         "grambeddings",
         "train",
         "139.59.200.212"
        ],
        [
         "http://35.188.107.3/pf/",
         "malicious",
         3,
         "grambeddings",
         "train",
         "35.188.107.3"
        ]
       ],
       "datasetInfos": [],
       "dbfsResultPath": null,
       "isJsonSchema": true,
       "metadata": {},
       "overflow": false,
       "plotOptions": {
        "customPlotOptions": {},
        "displayType": "table",
        "pivotAggregation": null,
        "pivotColumns": null,
        "xColumns": null,
        "yColumns": null
       },
       "removedWidgets": [],
       "schema": [
        {
         "metadata": "{}",
         "name": "url",
         "type": "\"string\""
        },
        {
         "metadata": "{}",
         "name": "label",
         "type": "\"string\""
        },
        {
         "metadata": "{}",
         "name": "fold",
         "type": "\"double\""
        },
        {
         "metadata": "{}",
         "name": "dataset",
         "type": "\"string\""
        },
        {
         "metadata": "{}",
         "name": "set",
         "type": "\"string\""
        },
        {
         "metadata": "{}",
         "name": "sld",
         "type": "\"string\""
        }
       ],
       "type": "table"
      }
     },
     "output_type": "display_data"
    },
    {
     "data": {
      "text/plain": [
       "'Category: other'"
      ]
     },
     "metadata": {},
     "output_type": "display_data"
    },
    {
     "data": {
      "text/html": [
       "<style scoped>\n",
       "  .table-result-container {\n",
       "    max-height: 300px;\n",
       "    overflow: auto;\n",
       "  }\n",
       "  table, th, td {\n",
       "    border: 1px solid black;\n",
       "    border-collapse: collapse;\n",
       "  }\n",
       "  th, td {\n",
       "    padding: 5px;\n",
       "  }\n",
       "  th {\n",
       "    text-align: left;\n",
       "  }\n",
       "</style><div class='table-result-container'><table class='table-result'><thead style='background-color: white'><tr><th>url</th><th>label</th><th>fold</th><th>dataset</th><th>set</th><th>sld</th></tr></thead><tbody><tr><td>http://revivepros.local/services/</td><td>benign</td><td>1.0</td><td>grambeddings</td><td>train</td><td>local</td></tr><tr><td>http://0x2e116892/auth</td><td>malicious</td><td>2.0</td><td>grambeddings</td><td>train</td><td>0x2e116892</td></tr><tr><td>http://uskonnen.oy</td><td>benign</td><td>2.0</td><td>grambeddings</td><td>train</td><td>oy</td></tr><tr><td>https://happydays.test/dk/koer-selv-ferie</td><td>benign</td><td>1.0</td><td>grambeddings</td><td>train</td><td>test</td></tr><tr><td>http://www.thirdeaglemedia.c</td><td>benign</td><td>2.0</td><td>grambeddings</td><td>train</td><td>c</td></tr><tr><td>https://www.heavymetalrose.comundefined</td><td>benign</td><td>2.0</td><td>grambeddings</td><td>train</td><td>comundefined</td></tr><tr><td>www.sd173.html</td><td>benign</td><td>1.0</td><td>grambeddings</td><td>train</td><td>html</td></tr><tr><td>http://liveradiofm.inadom-fm-106-3-fm</td><td>benign</td><td>2.0</td><td>grambeddings</td><td>train</td><td>inadom-fm-106-3-fm</td></tr><tr><td>http://umaroy.comcontact</td><td>benign</td><td>3.0</td><td>grambeddings</td><td>train</td><td>comcontact</td></tr><tr><td>http://www.theboardupcompany.con</td><td>benign</td><td>3.0</td><td>grambeddings</td><td>train</td><td>con</td></tr></tbody></table></div>"
      ]
     },
     "metadata": {
      "application/vnd.databricks.v1+output": {
       "addedWidgets": {},
       "aggData": [],
       "aggError": "",
       "aggOverflow": false,
       "aggSchema": [],
       "aggSeriesLimitReached": false,
       "aggType": "",
       "arguments": {},
       "columnCustomDisplayInfos": {},
       "data": [
        [
         "http://revivepros.local/services/",
         "benign",
         1,
         "grambeddings",
         "train",
         "local"
        ],
        [
         "http://0x2e116892/auth",
         "malicious",
         2,
         "grambeddings",
         "train",
         "0x2e116892"
        ],
        [
         "http://uskonnen.oy",
         "benign",
         2,
         "grambeddings",
         "train",
         "oy"
        ],
        [
         "https://happydays.test/dk/koer-selv-ferie",
         "benign",
         1,
         "grambeddings",
         "train",
         "test"
        ],
        [
         "http://www.thirdeaglemedia.c",
         "benign",
         2,
         "grambeddings",
         "train",
         "c"
        ],
        [
         "https://www.heavymetalrose.comundefined",
         "benign",
         2,
         "grambeddings",
         "train",
         "comundefined"
        ],
        [
         "www.sd173.html",
         "benign",
         1,
         "grambeddings",
         "train",
         "html"
        ],
        [
         "http://liveradiofm.inadom-fm-106-3-fm",
         "benign",
         2,
         "grambeddings",
         "train",
         "inadom-fm-106-3-fm"
        ],
        [
         "http://umaroy.comcontact",
         "benign",
         3,
         "grambeddings",
         "train",
         "comcontact"
        ],
        [
         "http://www.theboardupcompany.con",
         "benign",
         3,
         "grambeddings",
         "train",
         "con"
        ]
       ],
       "datasetInfos": [],
       "dbfsResultPath": null,
       "isJsonSchema": true,
       "metadata": {},
       "overflow": false,
       "plotOptions": {
        "customPlotOptions": {},
        "displayType": "table",
        "pivotAggregation": null,
        "pivotColumns": null,
        "xColumns": null,
        "yColumns": null
       },
       "removedWidgets": [],
       "schema": [
        {
         "metadata": "{}",
         "name": "url",
         "type": "\"string\""
        },
        {
         "metadata": "{}",
         "name": "label",
         "type": "\"string\""
        },
        {
         "metadata": "{}",
         "name": "fold",
         "type": "\"double\""
        },
        {
         "metadata": "{}",
         "name": "dataset",
         "type": "\"string\""
        },
        {
         "metadata": "{}",
         "name": "set",
         "type": "\"string\""
        },
        {
         "metadata": "{}",
         "name": "sld",
         "type": "\"string\""
        }
       ],
       "type": "table"
      }
     },
     "output_type": "display_data"
    },
    {
     "data": {
      "text/html": [
       "<style scoped>\n",
       "  .table-result-container {\n",
       "    max-height: 300px;\n",
       "    overflow: auto;\n",
       "  }\n",
       "  table, th, td {\n",
       "    border: 1px solid black;\n",
       "    border-collapse: collapse;\n",
       "  }\n",
       "  th, td {\n",
       "    padding: 5px;\n",
       "  }\n",
       "  th {\n",
       "    text-align: left;\n",
       "  }\n",
       "</style><div class='table-result-container'><table class='table-result'><thead style='background-color: white'><tr><th>benign %</th><th>malicious %</th><th>% of total malicious</th></tr></thead><tbody><tr><td>98.64864864864865</td><td>1.3513513513513513</td><td>1.162930655026506E-4</td></tr><tr><td>61.98706292028178</td><td>38.01293707971822</td><td>4.144859294112722</td></tr><tr><td>99.16134637905633</td><td>0.8386536209436742</td><td>0.05163412108317687</td></tr></tbody></table></div>"
      ]
     },
     "metadata": {
      "application/vnd.databricks.v1+output": {
       "addedWidgets": {},
       "aggData": [],
       "aggError": "",
       "aggOverflow": false,
       "aggSchema": [],
       "aggSeriesLimitReached": false,
       "aggType": "",
       "arguments": {},
       "columnCustomDisplayInfos": {},
       "data": [
        [
         98.64864864864865,
         1.3513513513513513,
         0.0001162930655026506
        ],
        [
         61.98706292028178,
         38.01293707971822,
         4.144859294112722
        ],
        [
         99.16134637905633,
         0.8386536209436742,
         0.05163412108317687
        ]
       ],
       "datasetInfos": [],
       "dbfsResultPath": null,
       "isJsonSchema": true,
       "metadata": {},
       "overflow": false,
       "plotOptions": {
        "customPlotOptions": {},
        "displayType": "table",
        "pivotAggregation": null,
        "pivotColumns": null,
        "xColumns": null,
        "yColumns": null
       },
       "removedWidgets": [],
       "schema": [
        {
         "metadata": "{}",
         "name": "benign %",
         "type": "\"double\""
        },
        {
         "metadata": "{}",
         "name": "malicious %",
         "type": "\"double\""
        },
        {
         "metadata": "{}",
         "name": "% of total malicious",
         "type": "\"double\""
        }
       ],
       "type": "table"
      }
     },
     "output_type": "display_data"
    }
   ],
   "source": [
    "from utils.url_features import has_ip_address\n",
    "\n",
    "\n",
    "def is_local_address(url):\n",
    "    return \"localhost\" in url.lower() or url == \"localhost\"\n",
    "\n",
    "\n",
    "def create_summary_for_missing_tld(df):\n",
    "    no_tlds = df[df[\"url\"].apply(lambda url: extract_tld(url) == \"\")]\n",
    "    total_malicious = len(df[df[\"label\"] != \"benign\"])\n",
    "\n",
    "    local_addresses = no_tlds[no_tlds[\"url\"].apply(is_local_address)]\n",
    "    ip_addresses = no_tlds[no_tlds[\"url\"].apply(has_ip_address)]\n",
    "    total_ip_addresses = df[df[\"url\"].apply(has_ip_address)]\n",
    "    other_addresses = no_tlds[\n",
    "        (~no_tlds[\"url\"].isin(local_addresses[\"url\"])) & (~no_tlds[\"url\"].isin(ip_addresses[\"url\"]))\n",
    "    ]\n",
    "\n",
    "    if len(no_tlds):\n",
    "        display(f\"Total URLs without TLD: {len(no_tlds)}\")\n",
    "        display(f\"Localhost URLs: {len(local_addresses)} ({len(local_addresses) / len(no_tlds) * 100:.2f}%)\")\n",
    "        display(f\"IP Addresses: {len(ip_addresses)} ({len(ip_addresses) / len(no_tlds) * 100:.2f}%)\")\n",
    "        display(\n",
    "            f\"Total IP Addresses in dataset: {len(total_ip_addresses)}, that means that method selected {len(ip_addresses) / len(total_ip_addresses) * 100:.2f}% of all IP addresses\"\n",
    "        )\n",
    "        display(f\"Other: {len(other_addresses)} ({len(other_addresses) / len(no_tlds) * 100:.2f}%)\")\n",
    "\n",
    "        df = pd.DataFrame(\n",
    "            index=[\"localhost\", \"ip\", \"other\"], columns=[\"benign %\", \"malicious %\", \"% of total malicious\"]\n",
    "        )\n",
    "        for category, category_df in [(\"localhost\", local_addresses), (\"ip\", ip_addresses), (\"other\", other_addresses)]:\n",
    "            benign = len(category_df[category_df[\"label\"] == \"benign\"])\n",
    "            malicious = len(category_df[category_df[\"label\"] != \"benign\"])\n",
    "            display(f\"Category: {category}\")\n",
    "            display(category_df.head(4))\n",
    "            df.loc[category] = [\n",
    "                benign / len(category_df) * 100,\n",
    "                malicious / len(category_df) * 100,\n",
    "                malicious / total_malicious * 100,\n",
    "            ]\n",
    "        display(df)\n",
    "    else:\n",
    "        display(\"No URLs without TLD found\")\n",
    "\n",
    "\n",
    "create_summary_for_missing_tld(all_datasets)"
   ]
  },
  {
   "cell_type": "markdown",
   "metadata": {
    "application/vnd.databricks.v1+cell": {
     "cellMetadata": {
      "byteLimit": 2048000,
      "rowLimit": 10000
     },
     "inputWidgets": {},
     "nuid": "32c2b22b-103a-40c9-b438-fd2551669712",
     "showTitle": false,
     "tableResultSettingsMap": {},
     "title": ""
    }
   },
   "source": [
    "## IP address furher investigation\n",
    "- we can see that Mendeley dataset has much lower % of IP addresses than other datasets (see thesis pdf why)"
   ]
  },
  {
   "cell_type": "code",
   "execution_count": 0,
   "metadata": {
    "application/vnd.databricks.v1+cell": {
     "cellMetadata": {
      "byteLimit": 2048000,
      "rowLimit": 10000
     },
     "inputWidgets": {},
     "nuid": "6b79e850-e45c-4cb4-9b23-e62a7cd4e638",
     "showTitle": false,
     "tableResultSettingsMap": {},
     "title": ""
    }
   },
   "outputs": [
    {
     "data": {
      "text/html": [
       "<style scoped>\n",
       "  .table-result-container {\n",
       "    max-height: 300px;\n",
       "    overflow: auto;\n",
       "  }\n",
       "  table, th, td {\n",
       "    border: 1px solid black;\n",
       "    border-collapse: collapse;\n",
       "  }\n",
       "  th, td {\n",
       "    padding: 5px;\n",
       "  }\n",
       "  th {\n",
       "    text-align: left;\n",
       "  }\n",
       "</style><div class='table-result-container'><table class='table-result'><thead style='background-color: white'><tr><th>% of records being ip address</th></tr></thead><tbody><tr><td>1.705389922161819</td></tr><tr><td>3.297372995769971</td></tr><tr><td>2.3573303285559204</td></tr><tr><td>0.024502972719143094</td></tr><tr><td>1.1255529234187962</td></tr><tr><td>6.070743540561886</td></tr></tbody></table></div>"
      ]
     },
     "metadata": {
      "application/vnd.databricks.v1+output": {
       "addedWidgets": {},
       "aggData": [],
       "aggError": "",
       "aggOverflow": false,
       "aggSchema": [],
       "aggSeriesLimitReached": false,
       "aggType": "",
       "arguments": {},
       "columnCustomDisplayInfos": {},
       "data": [
        [
         1.705389922161819
        ],
        [
         3.297372995769971
        ],
        [
         2.3573303285559204
        ],
        [
         0.024502972719143094
        ],
        [
         1.1255529234187962
        ],
        [
         6.070743540561886
        ]
       ],
       "datasetInfos": [],
       "dbfsResultPath": null,
       "isJsonSchema": true,
       "metadata": {},
       "overflow": false,
       "plotOptions": {
        "customPlotOptions": {},
        "displayType": "table",
        "pivotAggregation": null,
        "pivotColumns": null,
        "xColumns": null,
        "yColumns": null
       },
       "removedWidgets": [],
       "schema": [
        {
         "metadata": "{}",
         "name": "% of records being ip address",
         "type": "\"double\""
        }
       ],
       "type": "table"
      }
     },
     "output_type": "display_data"
    }
   ],
   "source": [
    "df = pd.DataFrame(index=all_datasets[\"dataset\"].unique(), columns=[\"% of records being ip address\"])\n",
    "total_ip_addresses = all_datasets[all_datasets[\"url\"].apply(has_ip_address)]\n",
    "for dataset in df.index:\n",
    "    df.loc[dataset] = (\n",
    "        len(total_ip_addresses[total_ip_addresses[\"dataset\"] == dataset])\n",
    "        / len(all_datasets[all_datasets[\"dataset\"] == dataset])\n",
    "        * 100\n",
    "    )\n",
    "display(df)"
   ]
  },
  {
   "cell_type": "markdown",
   "metadata": {
    "application/vnd.databricks.v1+cell": {
     "cellMetadata": {
      "byteLimit": 2048000,
      "rowLimit": 10000
     },
     "inputWidgets": {},
     "nuid": "ca0db62d-6ce9-40e7-845d-6adf77e9b26e",
     "showTitle": false,
     "tableResultSettingsMap": {},
     "title": ""
    }
   },
   "source": [
    "# SLD - second level domain"
   ]
  },
  {
   "cell_type": "code",
   "execution_count": 0,
   "metadata": {
    "application/vnd.databricks.v1+cell": {
     "cellMetadata": {
      "byteLimit": 2048000,
      "rowLimit": 10000
     },
     "inputWidgets": {},
     "nuid": "1633b166-53c4-4ca8-9b4d-9c89107b837b",
     "showTitle": false,
     "tableResultSettingsMap": {},
     "title": ""
    }
   },
   "outputs": [
    {
     "data": {
      "text/html": [
       "<div>\n",
       "<style scoped>\n",
       "    .dataframe tbody tr th:only-of-type {\n",
       "        vertical-align: middle;\n",
       "    }\n",
       "\n",
       "    .dataframe tbody tr th {\n",
       "        vertical-align: top;\n",
       "    }\n",
       "\n",
       "    .dataframe thead th {\n",
       "        text-align: right;\n",
       "    }\n",
       "</style>\n",
       "<table border=\"1\" class=\"dataframe\">\n",
       "  <thead>\n",
       "    <tr style=\"text-align: right;\">\n",
       "      <th></th>\n",
       "      <th>url</th>\n",
       "      <th>label</th>\n",
       "      <th>fold</th>\n",
       "      <th>dataset</th>\n",
       "      <th>set</th>\n",
       "      <th>sld</th>\n",
       "    </tr>\n",
       "  </thead>\n",
       "  <tbody>\n",
       "    <tr>\n",
       "      <th>0</th>\n",
       "      <td>https://blog.sockpuppet.us/</td>\n",
       "      <td>benign</td>\n",
       "      <td>0.0</td>\n",
       "      <td>grambeddings</td>\n",
       "      <td>train</td>\n",
       "      <td>sockpuppet</td>\n",
       "    </tr>\n",
       "    <tr>\n",
       "      <th>1</th>\n",
       "      <td>https://blog.apiki.com/seguranca/</td>\n",
       "      <td>benign</td>\n",
       "      <td>3.0</td>\n",
       "      <td>grambeddings</td>\n",
       "      <td>train</td>\n",
       "      <td>apiki</td>\n",
       "    </tr>\n",
       "    <tr>\n",
       "      <th>2</th>\n",
       "      <td>http://autoecole-lauriston.com/a/T0RVd056QXlNe...</td>\n",
       "      <td>malicious</td>\n",
       "      <td>2.0</td>\n",
       "      <td>grambeddings</td>\n",
       "      <td>train</td>\n",
       "      <td>autoecole-lauriston</td>\n",
       "    </tr>\n",
       "    <tr>\n",
       "      <th>3</th>\n",
       "      <td>http://chinpay.site/index.html?hgcFSE@E$Z*DFcG...</td>\n",
       "      <td>malicious</td>\n",
       "      <td>0.0</td>\n",
       "      <td>grambeddings</td>\n",
       "      <td>train</td>\n",
       "      <td>chinpay</td>\n",
       "    </tr>\n",
       "    <tr>\n",
       "      <th>4</th>\n",
       "      <td>http://www.firstfivenebraska.org/blog/article/...</td>\n",
       "      <td>benign</td>\n",
       "      <td>3.0</td>\n",
       "      <td>grambeddings</td>\n",
       "      <td>train</td>\n",
       "      <td>firstfivenebraska</td>\n",
       "    </tr>\n",
       "  </tbody>\n",
       "</table>\n",
       "</div>"
      ],
      "text/plain": [
       "                                                 url  ...                  sld\n",
       "0                        https://blog.sockpuppet.us/  ...           sockpuppet\n",
       "1                  https://blog.apiki.com/seguranca/  ...                apiki\n",
       "2  http://autoecole-lauriston.com/a/T0RVd056QXlNe...  ...  autoecole-lauriston\n",
       "3  http://chinpay.site/index.html?hgcFSE@E$Z*DFcG...  ...              chinpay\n",
       "4  http://www.firstfivenebraska.org/blog/article/...  ...    firstfivenebraska\n",
       "\n",
       "[5 rows x 6 columns]"
      ]
     },
     "execution_count": 20,
     "metadata": {},
     "output_type": "execute_result"
    }
   ],
   "source": [
    "all_datasets.head()"
   ]
  },
  {
   "cell_type": "code",
   "execution_count": 0,
   "metadata": {
    "application/vnd.databricks.v1+cell": {
     "cellMetadata": {
      "byteLimit": 2048000,
      "rowLimit": 10000
     },
     "inputWidgets": {},
     "nuid": "600e35fc-3ae8-4a06-91f5-5ef3681124b3",
     "showTitle": false,
     "tableResultSettingsMap": {},
     "title": ""
    }
   },
   "outputs": [],
   "source": [
    "def get_common_slds(df, top_n=5):\n",
    "    total = len(df)\n",
    "    top_n_slds = df[\"sld\"].value_counts().head(top_n)\n",
    "    summary = pd.DataFrame(\n",
    "        {\n",
    "            \"SLD\": top_n_slds.index,\n",
    "            \"count\": top_n_slds.values,\n",
    "            \"%\": [f\"{(cnt/total*100):.2f}%\" for cnt in top_n_slds.values],\n",
    "        }\n",
    "    )\n",
    "    return summary\n",
    "\n",
    "\n",
    "def compute_sld_summary_all_datasets(df, top_n=5):\n",
    "    result_list = []\n",
    "    for ds in df[\"dataset\"].unique():\n",
    "        subset = df[df[\"dataset\"] == ds]\n",
    "        sld_summary = get_common_slds(subset, top_n)\n",
    "        sld_summary[\"dataset\"] = ds\n",
    "        result_list.append(sld_summary)\n",
    "    final_df = pd.concat(result_list, ignore_index=True)\n",
    "    final_df = final_df[[\"dataset\", \"SLD\", \"count\", \"%\"]]\n",
    "    return final_df"
   ]
  },
  {
   "cell_type": "markdown",
   "metadata": {
    "application/vnd.databricks.v1+cell": {
     "cellMetadata": {
      "byteLimit": 2048000,
      "rowLimit": 10000
     },
     "inputWidgets": {},
     "nuid": "82a7eefa-49f5-4599-b1ae-b5e4b8fbc3de",
     "showTitle": false,
     "tableResultSettingsMap": {},
     "title": ""
    }
   },
   "source": [
    "## Most common SLDs"
   ]
  },
  {
   "cell_type": "markdown",
   "metadata": {
    "application/vnd.databricks.v1+cell": {
     "cellMetadata": {
      "byteLimit": 2048000,
      "rowLimit": 10000
     },
     "inputWidgets": {},
     "nuid": "9bf1121a-0d5b-4f70-852f-98773479a3e7",
     "showTitle": false,
     "tableResultSettingsMap": {},
     "title": ""
    }
   },
   "source": [
    "- Print most common second level domain for each dataset"
   ]
  },
  {
   "cell_type": "code",
   "execution_count": 0,
   "metadata": {
    "application/vnd.databricks.v1+cell": {
     "cellMetadata": {
      "byteLimit": 2048000,
      "rowLimit": 10000
     },
     "inputWidgets": {},
     "nuid": "9b9d5d69-2fea-42ef-b8e7-7543bcbc4ed2",
     "showTitle": false,
     "tableResultSettingsMap": {},
     "title": ""
    }
   },
   "outputs": [
    {
     "data": {
      "text/html": [
       "<style scoped>\n",
       "  .table-result-container {\n",
       "    max-height: 300px;\n",
       "    overflow: auto;\n",
       "  }\n",
       "  table, th, td {\n",
       "    border: 1px solid black;\n",
       "    border-collapse: collapse;\n",
       "  }\n",
       "  th, td {\n",
       "    padding: 5px;\n",
       "  }\n",
       "  th {\n",
       "    text-align: left;\n",
       "  }\n",
       "</style><div class='table-result-container'><table class='table-result'><thead style='background-color: white'><tr><th>dataset</th><th>SLD</th><th>count</th><th>%</th></tr></thead><tbody><tr><td>grambeddings</td><td>000webhostapp</td><td>19355</td><td>2.42%</td></tr><tr><td>grambeddings</td><td>appspot</td><td>10051</td><td>1.26%</td></tr><tr><td>grambeddings</td><td>alibaba</td><td>8487</td><td>1.06%</td></tr><tr><td>grambeddings</td><td>blogspot</td><td>4497</td><td>0.56%</td></tr><tr><td>grambeddings</td><td>buap</td><td>2869</td><td>0.36%</td></tr><tr><td>kaggle_binary</td><td>wikipedia</td><td>11587</td><td>2.08%</td></tr><tr><td>kaggle_binary</td><td>youtube</td><td>8640</td><td>1.55%</td></tr><tr><td>kaggle_binary</td><td>facebook</td><td>7814</td><td>1.40%</td></tr><tr><td>kaggle_binary</td><td>blogspot</td><td>6239</td><td>1.12%</td></tr><tr><td>kaggle_binary</td><td>amazon</td><td>5150</td><td>0.93%</td></tr><tr><td>kaggle_multiple</td><td>wikipedia</td><td>10821</td><td>2.48%</td></tr><tr><td>kaggle_multiple</td><td>youtube</td><td>6869</td><td>1.57%</td></tr><tr><td>kaggle_multiple</td><td>blogspot</td><td>6753</td><td>1.55%</td></tr><tr><td>kaggle_multiple</td><td>facebook</td><td>6675</td><td>1.53%</td></tr><tr><td>kaggle_multiple</td><td>yahoo</td><td>4618</td><td>1.06%</td></tr><tr><td>mendeley</td><td>geocities</td><td>53124</td><td>3.51%</td></tr><tr><td>mendeley</td><td>tripod</td><td>21698</td><td>1.43%</td></tr><tr><td>mendeley</td><td>angelfire</td><td>20552</td><td>1.36%</td></tr><tr><td>mendeley</td><td>newadvent</td><td>11669</td><td>0.77%</td></tr><tr><td>mendeley</td><td>imdb</td><td>9957</td><td>0.66%</td></tr><tr><td>joined</td><td>geocities</td><td>53143</td><td>1.86%</td></tr><tr><td>joined</td><td>tripod</td><td>23183</td><td>0.81%</td></tr><tr><td>joined</td><td>angelfire</td><td>22117</td><td>0.77%</td></tr><tr><td>joined</td><td>000webhostapp</td><td>21411</td><td>0.75%</td></tr><tr><td>joined</td><td>wikipedia</td><td>17836</td><td>0.62%</td></tr><tr><td>private_data</td><td>google</td><td>41240</td><td>1.45%</td></tr><tr><td>private_data</td><td>gstatic</td><td>26070</td><td>0.92%</td></tr><tr><td>private_data</td><td>ravsend1</td><td>24338</td><td>0.86%</td></tr><tr><td>private_data</td><td>amazonaws</td><td>22607</td><td>0.80%</td></tr><tr><td>private_data</td><td>googleapis</td><td>17977</td><td>0.63%</td></tr></tbody></table></div>"
      ]
     },
     "metadata": {
      "application/vnd.databricks.v1+output": {
       "addedWidgets": {},
       "aggData": [],
       "aggError": "",
       "aggOverflow": false,
       "aggSchema": [],
       "aggSeriesLimitReached": false,
       "aggType": "",
       "arguments": {},
       "columnCustomDisplayInfos": {},
       "data": [
        [
         "grambeddings",
         "000webhostapp",
         19355,
         "2.42%"
        ],
        [
         "grambeddings",
         "appspot",
         10051,
         "1.26%"
        ],
        [
         "grambeddings",
         "alibaba",
         8487,
         "1.06%"
        ],
        [
         "grambeddings",
         "blogspot",
         4497,
         "0.56%"
        ],
        [
         "grambeddings",
         "buap",
         2869,
         "0.36%"
        ],
        [
         "kaggle_binary",
         "wikipedia",
         11587,
         "2.08%"
        ],
        [
         "kaggle_binary",
         "youtube",
         8640,
         "1.55%"
        ],
        [
         "kaggle_binary",
         "facebook",
         7814,
         "1.40%"
        ],
        [
         "kaggle_binary",
         "blogspot",
         6239,
         "1.12%"
        ],
        [
         "kaggle_binary",
         "amazon",
         5150,
         "0.93%"
        ],
        [
         "kaggle_multiple",
         "wikipedia",
         10821,
         "2.48%"
        ],
        [
         "kaggle_multiple",
         "youtube",
         6869,
         "1.57%"
        ],
        [
         "kaggle_multiple",
         "blogspot",
         6753,
         "1.55%"
        ],
        [
         "kaggle_multiple",
         "facebook",
         6675,
         "1.53%"
        ],
        [
         "kaggle_multiple",
         "yahoo",
         4618,
         "1.06%"
        ],
        [
         "mendeley",
         "geocities",
         53124,
         "3.51%"
        ],
        [
         "mendeley",
         "tripod",
         21698,
         "1.43%"
        ],
        [
         "mendeley",
         "angelfire",
         20552,
         "1.36%"
        ],
        [
         "mendeley",
         "newadvent",
         11669,
         "0.77%"
        ],
        [
         "mendeley",
         "imdb",
         9957,
         "0.66%"
        ],
        [
         "joined",
         "geocities",
         53143,
         "1.86%"
        ],
        [
         "joined",
         "tripod",
         23183,
         "0.81%"
        ],
        [
         "joined",
         "angelfire",
         22117,
         "0.77%"
        ],
        [
         "joined",
         "000webhostapp",
         21411,
         "0.75%"
        ],
        [
         "joined",
         "wikipedia",
         17836,
         "0.62%"
        ],
        [
         "private_data",
         "google",
         41240,
         "1.45%"
        ],
        [
         "private_data",
         "gstatic",
         26070,
         "0.92%"
        ],
        [
         "private_data",
         "ravsend1",
         24338,
         "0.86%"
        ],
        [
         "private_data",
         "amazonaws",
         22607,
         "0.80%"
        ],
        [
         "private_data",
         "googleapis",
         17977,
         "0.63%"
        ]
       ],
       "datasetInfos": [],
       "dbfsResultPath": null,
       "isJsonSchema": true,
       "metadata": {},
       "overflow": false,
       "plotOptions": {
        "customPlotOptions": {},
        "displayType": "table",
        "pivotAggregation": null,
        "pivotColumns": null,
        "xColumns": null,
        "yColumns": null
       },
       "removedWidgets": [],
       "schema": [
        {
         "metadata": "{}",
         "name": "dataset",
         "type": "\"string\""
        },
        {
         "metadata": "{}",
         "name": "SLD",
         "type": "\"string\""
        },
        {
         "metadata": "{}",
         "name": "count",
         "type": "\"long\""
        },
        {
         "metadata": "{}",
         "name": "%",
         "type": "\"string\""
        }
       ],
       "type": "table"
      }
     },
     "output_type": "display_data"
    }
   ],
   "source": [
    "display(compute_sld_summary_all_datasets(all_datasets, top_n=5))"
   ]
  },
  {
   "cell_type": "markdown",
   "metadata": {
    "application/vnd.databricks.v1+cell": {
     "cellMetadata": {
      "byteLimit": 2048000,
      "rowLimit": 10000
     },
     "inputWidgets": {},
     "nuid": "0f96f85e-8ae5-403f-85bc-b655bbff7ff9",
     "showTitle": false,
     "tableResultSettingsMap": {},
     "title": ""
    }
   },
   "source": [
    "- most common benign malicious domains"
   ]
  },
  {
   "cell_type": "code",
   "execution_count": 0,
   "metadata": {
    "application/vnd.databricks.v1+cell": {
     "cellMetadata": {
      "byteLimit": 2048000,
      "rowLimit": 10000
     },
     "inputWidgets": {},
     "nuid": "d6a7d30d-deea-4fd3-97af-9103b1fb7ce1",
     "showTitle": false,
     "tableResultSettingsMap": {},
     "title": ""
    }
   },
   "outputs": [
    {
     "data": {
      "text/html": [
       "<style scoped>\n",
       "  .table-result-container {\n",
       "    max-height: 300px;\n",
       "    overflow: auto;\n",
       "  }\n",
       "  table, th, td {\n",
       "    border: 1px solid black;\n",
       "    border-collapse: collapse;\n",
       "  }\n",
       "  th, td {\n",
       "    padding: 5px;\n",
       "  }\n",
       "  th {\n",
       "    text-align: left;\n",
       "  }\n",
       "</style><div class='table-result-container'><table class='table-result'><thead style='background-color: white'><tr><th>dataset</th><th>SLD</th><th>count</th><th>%</th></tr></thead><tbody><tr><td>grambeddings</td><td>000webhostapp</td><td>19353</td><td>4.84%</td></tr><tr><td>grambeddings</td><td>appspot</td><td>10043</td><td>2.51%</td></tr><tr><td>grambeddings</td><td>buap</td><td>2866</td><td>0.72%</td></tr><tr><td>grambeddings</td><td>webcindario</td><td>2685</td><td>0.67%</td></tr><tr><td>grambeddings</td><td>duckdns</td><td>1929</td><td>0.48%</td></tr><tr><td>kaggle_binary</td><td>ietf</td><td>3212</td><td>1.34%</td></tr><tr><td>kaggle_binary</td><td>mixh</td><td>2889</td><td>1.20%</td></tr><tr><td>kaggle_binary</td><td>google</td><td>2210</td><td>0.92%</td></tr><tr><td>kaggle_binary</td><td>000webhostapp</td><td>2168</td><td>0.90%</td></tr><tr><td>kaggle_binary</td><td>angelfire</td><td>1355</td><td>0.56%</td></tr><tr><td>kaggle_multiple</td><td>ietf</td><td>2573</td><td>2.74%</td></tr><tr><td>kaggle_multiple</td><td>mixh</td><td>2314</td><td>2.46%</td></tr><tr><td>kaggle_multiple</td><td>angelfire</td><td>1035</td><td>1.10%</td></tr><tr><td>kaggle_multiple</td><td>000webhostapp</td><td>955</td><td>1.02%</td></tr><tr><td>kaggle_multiple</td><td>apbfiber</td><td>910</td><td>0.97%</td></tr><tr><td>mendeley</td><td>geocities</td><td>662</td><td>1.89%</td></tr><tr><td>mendeley</td><td>yahoo</td><td>409</td><td>1.17%</td></tr><tr><td>mendeley</td><td>tripod</td><td>214</td><td>0.61%</td></tr><tr><td>mendeley</td><td>blogspot</td><td>186</td><td>0.53%</td></tr><tr><td>mendeley</td><td>angelfire</td><td>173</td><td>0.49%</td></tr><tr><td>joined</td><td>000webhostapp</td><td>21409</td><td>3.21%</td></tr><tr><td>joined</td><td>appspot</td><td>10070</td><td>1.51%</td></tr><tr><td>joined</td><td>ietf</td><td>3212</td><td>0.48%</td></tr><tr><td>joined</td><td>mixh</td><td>2949</td><td>0.44%</td></tr><tr><td>joined</td><td>buap</td><td>2866</td><td>0.43%</td></tr><tr><td>private_data</td><td>ru</td><td>9541</td><td>3.36%</td></tr><tr><td>private_data</td><td>ipfs</td><td>8012</td><td>2.82%</td></tr><tr><td>private_data</td><td>u</td><td>7899</td><td>2.79%</td></tr><tr><td>private_data</td><td>mcwethyssportsbar</td><td>6221</td><td>2.19%</td></tr><tr><td>private_data</td><td>de-index</td><td>6193</td><td>2.18%</td></tr></tbody></table></div>"
      ]
     },
     "metadata": {
      "application/vnd.databricks.v1+output": {
       "addedWidgets": {},
       "aggData": [],
       "aggError": "",
       "aggOverflow": false,
       "aggSchema": [],
       "aggSeriesLimitReached": false,
       "aggType": "",
       "arguments": {},
       "columnCustomDisplayInfos": {},
       "data": [
        [
         "grambeddings",
         "000webhostapp",
         19353,
         "4.84%"
        ],
        [
         "grambeddings",
         "appspot",
         10043,
         "2.51%"
        ],
        [
         "grambeddings",
         "buap",
         2866,
         "0.72%"
        ],
        [
         "grambeddings",
         "webcindario",
         2685,
         "0.67%"
        ],
        [
         "grambeddings",
         "duckdns",
         1929,
         "0.48%"
        ],
        [
         "kaggle_binary",
         "ietf",
         3212,
         "1.34%"
        ],
        [
         "kaggle_binary",
         "mixh",
         2889,
         "1.20%"
        ],
        [
         "kaggle_binary",
         "google",
         2210,
         "0.92%"
        ],
        [
         "kaggle_binary",
         "000webhostapp",
         2168,
         "0.90%"
        ],
        [
         "kaggle_binary",
         "angelfire",
         1355,
         "0.56%"
        ],
        [
         "kaggle_multiple",
         "ietf",
         2573,
         "2.74%"
        ],
        [
         "kaggle_multiple",
         "mixh",
         2314,
         "2.46%"
        ],
        [
         "kaggle_multiple",
         "angelfire",
         1035,
         "1.10%"
        ],
        [
         "kaggle_multiple",
         "000webhostapp",
         955,
         "1.02%"
        ],
        [
         "kaggle_multiple",
         "apbfiber",
         910,
         "0.97%"
        ],
        [
         "mendeley",
         "geocities",
         662,
         "1.89%"
        ],
        [
         "mendeley",
         "yahoo",
         409,
         "1.17%"
        ],
        [
         "mendeley",
         "tripod",
         214,
         "0.61%"
        ],
        [
         "mendeley",
         "blogspot",
         186,
         "0.53%"
        ],
        [
         "mendeley",
         "angelfire",
         173,
         "0.49%"
        ],
        [
         "joined",
         "000webhostapp",
         21409,
         "3.21%"
        ],
        [
         "joined",
         "appspot",
         10070,
         "1.51%"
        ],
        [
         "joined",
         "ietf",
         3212,
         "0.48%"
        ],
        [
         "joined",
         "mixh",
         2949,
         "0.44%"
        ],
        [
         "joined",
         "buap",
         2866,
         "0.43%"
        ],
        [
         "private_data",
         "ru",
         9541,
         "3.36%"
        ],
        [
         "private_data",
         "ipfs",
         8012,
         "2.82%"
        ],
        [
         "private_data",
         "u",
         7899,
         "2.79%"
        ],
        [
         "private_data",
         "mcwethyssportsbar",
         6221,
         "2.19%"
        ],
        [
         "private_data",
         "de-index",
         6193,
         "2.18%"
        ]
       ],
       "datasetInfos": [],
       "dbfsResultPath": null,
       "isJsonSchema": true,
       "metadata": {},
       "overflow": false,
       "plotOptions": {
        "customPlotOptions": {},
        "displayType": "table",
        "pivotAggregation": null,
        "pivotColumns": null,
        "xColumns": null,
        "yColumns": null
       },
       "removedWidgets": [],
       "schema": [
        {
         "metadata": "{}",
         "name": "dataset",
         "type": "\"string\""
        },
        {
         "metadata": "{}",
         "name": "SLD",
         "type": "\"string\""
        },
        {
         "metadata": "{}",
         "name": "count",
         "type": "\"long\""
        },
        {
         "metadata": "{}",
         "name": "%",
         "type": "\"string\""
        }
       ],
       "type": "table"
      }
     },
     "output_type": "display_data"
    }
   ],
   "source": [
    "display(compute_sld_summary_all_datasets(all_datasets[all_datasets['label'] != 'benign'], top_n=5))"
   ]
  },
  {
   "cell_type": "markdown",
   "metadata": {
    "application/vnd.databricks.v1+cell": {
     "cellMetadata": {
      "byteLimit": 2048000,
      "rowLimit": 10000
     },
     "inputWidgets": {},
     "nuid": "77d0d7f0-7dd1-4560-9787-56fa6af2de21",
     "showTitle": false,
     "tableResultSettingsMap": {},
     "title": ""
    }
   },
   "source": [
    "## Can we just memorize SLD to get result?"
   ]
  },
  {
   "cell_type": "markdown",
   "metadata": {
    "application/vnd.databricks.v1+cell": {
     "cellMetadata": {
      "byteLimit": 2048000,
      "rowLimit": 10000
     },
     "inputWidgets": {},
     "nuid": "6d7934e0-5a41-4b56-bb5f-0c1350e93551",
     "showTitle": false,
     "tableResultSettingsMap": {},
     "title": ""
    }
   },
   "source": [
    "- Print SLDs that are representative (there is a lot of samples) and at the same time are the most malicious\n",
    "- We can see that most malicious are those SLDs that provide:\n",
    "    - free webhosting (000webhostapp, netlify, ...)\n",
    "    - free services for file sharing (google, sharepoint)\n",
    "    - pastebin, pastehtml - Attackers often use paste sites to store and distribute malware payloads, scripts, or C2 instructions.\n",
    "    - high-profile websites provide incentives to be exploited by hosting content there (googleapis, ...)"
   ]
  },
  {
   "cell_type": "code",
   "execution_count": 0,
   "metadata": {
    "application/vnd.databricks.v1+cell": {
     "cellMetadata": {
      "byteLimit": 2048000,
      "rowLimit": 10000
     },
     "inputWidgets": {},
     "nuid": "2a6a2ac3-69e0-4f0d-bca4-8c1a0c5b8642",
     "showTitle": false,
     "tableResultSettingsMap": {},
     "title": ""
    }
   },
   "outputs": [],
   "source": [
    "def create_domain_maliciousness_histogram(domain_stats):\n",
    "    plt.figure(figsize=(10, 6))\n",
    "    plt.hist(domain_stats[\"malicious_ratio\"], bins=20, edgecolor=\"black\")\n",
    "    plt.title(\"Distribution of malicious ratio per SLD\")\n",
    "    plt.xlabel(\"Malicious Ratio\")\n",
    "    plt.ylabel(\"Number of Domains\")\n",
    "    plt.grid(True)\n",
    "    plt.tight_layout()\n",
    "    plt.show()\n",
    "\n",
    "\n",
    "def create_domain_counts_histogram(domain_stats):\n",
    "    plt.figure(figsize=(10, 6))\n",
    "    plt.hist(domain_stats[\"total_records\"], bins=100, edgecolor=\"black\", log=True)\n",
    "    plt.title(\"Histogram of domain counts (only 100% Malicious SLD present)\")\n",
    "    plt.xlabel(\"Number of URLs per Domain (total_records)\")\n",
    "    plt.ylabel(\"Number of Domains (log scale)\")\n",
    "\n",
    "    # max_count = domain_stats[\"total_records\"].max()\n",
    "    # xticks = np.arange(0, max_count + 100, 100)\n",
    "    # plt.xticks(xticks, rotation=90)\n",
    "\n",
    "    plt.grid(True, alpha=0.3)\n",
    "    plt.tight_layout()\n",
    "    plt.show()\n",
    "\n",
    "\n",
    "def get_binary_named_dataset(df):\n",
    "    relabelled_df = df.copy()\n",
    "    relabelled_df[\"label\"] = np.where(df[\"label\"] == \"benign\", \"benign\", \"malicious\")\n",
    "    return relabelled_df"
   ]
  },
  {
   "cell_type": "code",
   "execution_count": 0,
   "metadata": {
    "application/vnd.databricks.v1+cell": {
     "cellMetadata": {
      "byteLimit": 2048000,
      "rowLimit": 10000
     },
     "inputWidgets": {},
     "nuid": "f4af4b20-5fc2-468a-bbc0-d2c81656561c",
     "showTitle": false,
     "tableResultSettingsMap": {},
     "title": ""
    }
   },
   "outputs": [],
   "source": [
    "from utils.dataset import get_domain_stats"
   ]
  },
  {
   "cell_type": "code",
   "execution_count": 0,
   "metadata": {
    "application/vnd.databricks.v1+cell": {
     "cellMetadata": {
      "byteLimit": 2048000,
      "rowLimit": 10000
     },
     "inputWidgets": {},
     "nuid": "3f41f52a-53f3-46bc-a7ab-292b05d04ac9",
     "showTitle": false,
     "tableResultSettingsMap": {},
     "title": ""
    }
   },
   "outputs": [],
   "source": [
    "domain_stats = {}\n",
    "\n",
    "for dataset_name in dataset_names:\n",
    "    dataset = get_dataset(dataset_name)\n",
    "\n",
    "    num_classes = len(set(dataset[\"label\"]))\n",
    "\n",
    "    if num_classes > 2:\n",
    "        dataset = get_binary_named_dataset(dataset)\n",
    "\n",
    "    domain_stats[dataset_name] = get_domain_stats(dataset)"
   ]
  },
  {
   "cell_type": "code",
   "execution_count": 0,
   "metadata": {
    "application/vnd.databricks.v1+cell": {
     "cellMetadata": {
      "byteLimit": 2048000,
      "rowLimit": 10000
     },
     "inputWidgets": {},
     "nuid": "82bdf029-6494-4a42-84f1-7802a07f1320",
     "showTitle": false,
     "tableResultSettingsMap": {},
     "title": ""
    }
   },
   "outputs": [],
   "source": [
    "def print_domain_statistics(name) -> pd.DataFrame:\n",
    "    \"\"\"\n",
    "    Given a DataFrame with columns ['url', 'domain', 'label'],\n",
    "    returns a new DataFrame with one row per domain, showing:\n",
    "    - total number of records for the domain\n",
    "    - number of label 0 entries\n",
    "    - number of label 1 entries\n",
    "    \"\"\"\n",
    "    print(f\"=== {name} ===\")\n",
    "    domain_stats_for_dataset = domain_stats[name]\n",
    "    create_domain_maliciousness_histogram(domain_stats_for_dataset)\n",
    "    total_domains = len(domain_stats_for_dataset)\n",
    "    print(f\"Number of domains in dataset: {total_domains}\")\n",
    "    domain_stats_sorted = domain_stats_for_dataset.sort_values(\n",
    "        by=[\"malicious_ratio\", \"total_records\"], ascending=[False, False]\n",
    "    )\n",
    "    display(domain_stats_sorted.head(10))\n",
    "\n",
    "    all_malicious = (domain_stats_for_dataset[\"malicious_ratio\"] == 1.0).sum()\n",
    "    all_benign = (domain_stats_for_dataset[\"malicious_ratio\"] == 0.0).sum()\n",
    "\n",
    "    print(f\"All malicious: {all_malicious},  All benign: {all_benign}, total: {total_domains}\")\n",
    "    percent_malicious = 100 * all_malicious / total_domains\n",
    "    percent_benign = 100 * all_benign / total_domains\n",
    "\n",
    "    print(f\"Domains with 100% malicious URLs: {all_malicious} ({percent_malicious:.2f}%)\")\n",
    "    print(f\"Domains with 100% benign URLs:    {all_benign} ({percent_benign:.2f}%)\")\n",
    "    not_100_percent = 100 - percent_malicious - percent_benign\n",
    "    print(f\"Not always 100%: {not_100_percent} %\")\n",
    "\n",
    "    create_domain_counts_histogram(\n",
    "        domain_stats_for_dataset[\n",
    "            (domain_stats_for_dataset[\"malicious_ratio\"] == 1.0) | (domain_stats_for_dataset[\"malicious_ratio\"] == 0.0)\n",
    "        ]\n",
    "    )"
   ]
  },
  {
   "cell_type": "code",
   "execution_count": 0,
   "metadata": {
    "application/vnd.databricks.v1+cell": {
     "cellMetadata": {
      "byteLimit": 2048000,
      "rowLimit": 10000
     },
     "inputWidgets": {},
     "nuid": "7ecee418-18d1-4258-8f67-9dadcbbf8582",
     "showTitle": false,
     "tableResultSettingsMap": {},
     "title": ""
    }
   },
   "outputs": [
    {
     "name": "stdout",
     "output_type": "stream",
     "text": [
      "=== grambeddings ===\n"
     ]
    },
    {
     "data": {
      "image/png": "[encoded data removed]",
      "text/plain": [
       "<Figure size 1000x600 with 1 Axes>"
      ]
     },
     "metadata": {},
     "output_type": "display_data"
    },
    {
     "name": "stdout",
     "output_type": "stream",
     "text": [
      "Number of domains in dataset: 388442\n"
     ]
    },
    {
     "data": {
      "text/html": [
       "<style scoped>\n",
       "  .table-result-container {\n",
       "    max-height: 300px;\n",
       "    overflow: auto;\n",
       "  }\n",
       "  table, th, td {\n",
       "    border: 1px solid black;\n",
       "    border-collapse: collapse;\n",
       "  }\n",
       "  th, td {\n",
       "    padding: 5px;\n",
       "  }\n",
       "  th {\n",
       "    text-align: left;\n",
       "  }\n",
       "</style><div class='table-result-container'><table class='table-result'><thead style='background-color: white'><tr><th>sld</th><th>benign</th><th>malicious</th><th>total_records</th><th>malicious_ratio</th></tr></thead><tbody><tr><td>gvirabi</td><td>0</td><td>1922</td><td>1922</td><td>1.0</td></tr><tr><td>platino</td><td>0</td><td>1903</td><td>1903</td><td>1.0</td></tr><tr><td>patraglobal</td><td>0</td><td>1823</td><td>1823</td><td>1.0</td></tr><tr><td>69.167.151.209</td><td>0</td><td>1753</td><td>1753</td><td>1.0</td></tr><tr><td>justns</td><td>0</td><td>1657</td><td>1657</td><td>1.0</td></tr><tr><td>richardvorisek</td><td>0</td><td>1124</td><td>1124</td><td>1.0</td></tr><tr><td>iteem-927321</td><td>0</td><td>1001</td><td>1001</td><td>1.0</td></tr><tr><td>hacheyou</td><td>0</td><td>868</td><td>868</td><td>1.0</td></tr><tr><td>djfreshtech</td><td>0</td><td>840</td><td>840</td><td>1.0</td></tr><tr><td>shadetreetechnology</td><td>0</td><td>772</td><td>772</td><td>1.0</td></tr></tbody></table></div>"
      ]
     },
     "metadata": {
      "application/vnd.databricks.v1+output": {
       "addedWidgets": {},
       "aggData": [],
       "aggError": "",
       "aggOverflow": false,
       "aggSchema": [],
       "aggSeriesLimitReached": false,
       "aggType": "",
       "arguments": {},
       "columnCustomDisplayInfos": {},
       "data": [
        [
         "gvirabi",
         0,
         1922,
         1922,
         1
        ],
        [
         "platino",
         0,
         1903,
         1903,
         1
        ],
        [
         "patraglobal",
         0,
         1823,
         1823,
         1
        ],
        [
         "69.167.151.209",
         0,
         1753,
         1753,
         1
        ],
        [
         "justns",
         0,
         1657,
         1657,
         1
        ],
        [
         "richardvorisek",
         0,
         1124,
         1124,
         1
        ],
        [
         "iteem-927321",
         0,
         1001,
         1001,
         1
        ],
        [
         "hacheyou",
         0,
         868,
         868,
         1
        ],
        [
         "djfreshtech",
         0,
         840,
         840,
         1
        ],
        [
         "shadetreetechnology",
         0,
         772,
         772,
         1
        ]
       ],
       "datasetInfos": [],
       "dbfsResultPath": null,
       "isJsonSchema": true,
       "metadata": {},
       "overflow": false,
       "plotOptions": {
        "customPlotOptions": {},
        "displayType": "table",
        "pivotAggregation": null,
        "pivotColumns": null,
        "xColumns": null,
        "yColumns": null
       },
       "removedWidgets": [],
       "schema": [
        {
         "metadata": "{}",
         "name": "sld",
         "type": "\"string\""
        },
        {
         "metadata": "{}",
         "name": "benign",
         "type": "\"long\""
        },
        {
         "metadata": "{}",
         "name": "malicious",
         "type": "\"long\""
        },
        {
         "metadata": "{}",
         "name": "total_records",
         "type": "\"long\""
        },
        {
         "metadata": "{}",
         "name": "malicious_ratio",
         "type": "\"double\""
        }
       ],
       "type": "table"
      }
     },
     "output_type": "display_data"
    },
    {
     "name": "stdout",
     "output_type": "stream",
     "text": [
      "All malicious: 113976,  All benign: 273136, total: 388442\n",
      "Domains with 100% malicious URLs: 113976 (29.34%)\n",
      "Domains with 100% benign URLs:    273136 (70.32%)\n",
      "Not always 100%: 0.34239345899774776 %\n"
     ]
    },
    {
     "data": {
      "image/png": "[encoded data removed]",
      "text/plain": [
       "<Figure size 1000x600 with 1 Axes>"
      ]
     },
     "metadata": {},
     "output_type": "display_data"
    }
   ],
   "source": [
    "print_domain_statistics(datasets[\"grambeddings\"])"
   ]
  },
  {
   "cell_type": "code",
   "execution_count": 0,
   "metadata": {
    "application/vnd.databricks.v1+cell": {
     "cellMetadata": {
      "byteLimit": 2048000,
      "rowLimit": 10000
     },
     "inputWidgets": {},
     "nuid": "a4d6fb0c-bb0c-4c76-b110-54b1c7004e45",
     "showTitle": false,
     "tableResultSettingsMap": {},
     "title": ""
    }
   },
   "outputs": [
    {
     "name": "stdout",
     "output_type": "stream",
     "text": [
      "=== mendeley ===\n"
     ]
    },
    {
     "data": {
      "image/png": "[encoded data removed]",
      "text/plain": [
       "<Figure size 1000x600 with 1 Axes>"
      ]
     },
     "metadata": {},
     "output_type": "display_data"
    },
    {
     "name": "stdout",
     "output_type": "stream",
     "text": [
      "Number of domains in dataset: 831531\n"
     ]
    },
    {
     "data": {
      "text/html": [
       "<style scoped>\n",
       "  .table-result-container {\n",
       "    max-height: 300px;\n",
       "    overflow: auto;\n",
       "  }\n",
       "  table, th, td {\n",
       "    border: 1px solid black;\n",
       "    border-collapse: collapse;\n",
       "  }\n",
       "  th, td {\n",
       "    padding: 5px;\n",
       "  }\n",
       "  th {\n",
       "    text-align: left;\n",
       "  }\n",
       "</style><div class='table-result-container'><table class='table-result'><thead style='background-color: white'><tr><th>sld</th><th>benign</th><th>malicious</th><th>total_records</th><th>malicious_ratio</th></tr></thead><tbody><tr><td>cherryboys</td><td>0</td><td>163</td><td>163</td><td>1.0</td></tr><tr><td>all-free-quality-pics</td><td>0</td><td>129</td><td>129</td><td>1.0</td></tr><tr><td>xyzbluebook</td><td>0</td><td>122</td><td>122</td><td>1.0</td></tr><tr><td>pornzite</td><td>0</td><td>107</td><td>107</td><td>1.0</td></tr><tr><td>tnasupermarket</td><td>0</td><td>106</td><td>106</td><td>1.0</td></tr><tr><td>thexxxarchive</td><td>0</td><td>97</td><td>97</td><td>1.0</td></tr><tr><td>avsring</td><td>0</td><td>81</td><td>81</td><td>1.0</td></tr><tr><td>sex-marks</td><td>0</td><td>77</td><td>77</td><td>1.0</td></tr><tr><td>worldsexguide</td><td>0</td><td>76</td><td>76</td><td>1.0</td></tr><tr><td>sexhosters</td><td>0</td><td>70</td><td>70</td><td>1.0</td></tr></tbody></table></div>"
      ]
     },
     "metadata": {
      "application/vnd.databricks.v1+output": {
       "addedWidgets": {},
       "aggData": [],
       "aggError": "",
       "aggOverflow": false,
       "aggSchema": [],
       "aggSeriesLimitReached": false,
       "aggType": "",
       "arguments": {},
       "columnCustomDisplayInfos": {},
       "data": [
        [
         "cherryboys",
         0,
         163,
         163,
         1
        ],
        [
         "all-free-quality-pics",
         0,
         129,
         129,
         1
        ],
        [
         "xyzbluebook",
         0,
         122,
         122,
         1
        ],
        [
         "pornzite",
         0,
         107,
         107,
         1
        ],
        [
         "tnasupermarket",
         0,
         106,
         106,
         1
        ],
        [
         "thexxxarchive",
         0,
         97,
         97,
         1
        ],
        [
         "avsring",
         0,
         81,
         81,
         1
        ],
        [
         "sex-marks",
         0,
         77,
         77,
         1
        ],
        [
         "worldsexguide",
         0,
         76,
         76,
         1
        ],
        [
         "sexhosters",
         0,
         70,
         70,
         1
        ]
       ],
       "datasetInfos": [],
       "dbfsResultPath": null,
       "isJsonSchema": true,
       "metadata": {},
       "overflow": false,
       "plotOptions": {
        "customPlotOptions": {},
        "displayType": "table",
        "pivotAggregation": null,
        "pivotColumns": null,
        "xColumns": null,
        "yColumns": null
       },
       "removedWidgets": [],
       "schema": [
        {
         "metadata": "{}",
         "name": "sld",
         "type": "\"string\""
        },
        {
         "metadata": "{}",
         "name": "benign",
         "type": "\"long\""
        },
        {
         "metadata": "{}",
         "name": "malicious",
         "type": "\"long\""
        },
        {
         "metadata": "{}",
         "name": "total_records",
         "type": "\"long\""
        },
        {
         "metadata": "{}",
         "name": "malicious_ratio",
         "type": "\"double\""
        }
       ],
       "type": "table"
      }
     },
     "output_type": "display_data"
    },
    {
     "name": "stdout",
     "output_type": "stream",
     "text": [
      "All malicious: 19627,  All benign: 810783, total: 831531\n",
      "Domains with 100% malicious URLs: 19627 (2.36%)\n",
      "Domains with 100% benign URLs:    810783 (97.50%)\n",
      "Not always 100%: 0.13481157046459202 %\n"
     ]
    },
    {
     "data": {
      "image/png": "[encoded data removed]",
      "text/plain": [
       "<Figure size 1000x600 with 1 Axes>"
      ]
     },
     "metadata": {},
     "output_type": "display_data"
    }
   ],
   "source": [
    "print_domain_statistics(datasets[\"mendeley\"])"
   ]
  },
  {
   "cell_type": "code",
   "execution_count": 0,
   "metadata": {
    "application/vnd.databricks.v1+cell": {
     "cellMetadata": {
      "byteLimit": 2048000,
      "rowLimit": 10000
     },
     "inputWidgets": {},
     "nuid": "cc32c4f9-4a9e-4eb8-ae37-e93d0d634c9c",
     "showTitle": false,
     "tableResultSettingsMap": {},
     "title": ""
    }
   },
   "outputs": [
    {
     "name": "stdout",
     "output_type": "stream",
     "text": [
      "=== kaggle_binary ===\n"
     ]
    },
    {
     "data": {
      "image/png": "[encoded data removed]",
      "text/plain": [
       "<Figure size 1000x600 with 1 Axes>"
      ]
     },
     "metadata": {},
     "output_type": "display_data"
    },
    {
     "name": "stdout",
     "output_type": "stream",
     "text": [
      "Number of domains in dataset: 172572\n"
     ]
    },
    {
     "data": {
      "text/html": [
       "<style scoped>\n",
       "  .table-result-container {\n",
       "    max-height: 300px;\n",
       "    overflow: auto;\n",
       "  }\n",
       "  table, th, td {\n",
       "    border: 1px solid black;\n",
       "    border-collapse: collapse;\n",
       "  }\n",
       "  th, td {\n",
       "    padding: 5px;\n",
       "  }\n",
       "  th {\n",
       "    text-align: left;\n",
       "  }\n",
       "</style><div class='table-result-container'><table class='table-result'><thead style='background-color: white'><tr><th>sld</th><th>benign</th><th>malicious</th><th>total_records</th><th>malicious_ratio</th></tr></thead><tbody><tr><td>ietf</td><td>0</td><td>3212</td><td>3212</td><td>1.0</td></tr><tr><td>mixh</td><td>0</td><td>2889</td><td>2889</td><td>1.0</td></tr><tr><td>000webhostapp</td><td>0</td><td>2168</td><td>2168</td><td>1.0</td></tr><tr><td>apbfiber</td><td>0</td><td>1147</td><td>1147</td><td>1.0</td></tr><tr><td>pastehtml</td><td>0</td><td>946</td><td>946</td><td>1.0</td></tr><tr><td>sharepoint</td><td>0</td><td>582</td><td>582</td><td>1.0</td></tr><tr><td>toulousa</td><td>0</td><td>501</td><td>501</td><td>1.0</td></tr><tr><td>9779</td><td>0</td><td>395</td><td>395</td><td>1.0</td></tr><tr><td>mhcable</td><td>0</td><td>381</td><td>381</td><td>1.0</td></tr><tr><td>beget</td><td>0</td><td>370</td><td>370</td><td>1.0</td></tr></tbody></table></div>"
      ]
     },
     "metadata": {
      "application/vnd.databricks.v1+output": {
       "addedWidgets": {},
       "aggData": [],
       "aggError": "",
       "aggOverflow": false,
       "aggSchema": [],
       "aggSeriesLimitReached": false,
       "aggType": "",
       "arguments": {},
       "columnCustomDisplayInfos": {},
       "data": [
        [
         "ietf",
         0,
         3212,
         3212,
         1
        ],
        [
         "mixh",
         0,
         2889,
         2889,
         1
        ],
        [
         "000webhostapp",
         0,
         2168,
         2168,
         1
        ],
        [
         "apbfiber",
         0,
         1147,
         1147,
         1
        ],
        [
         "pastehtml",
         0,
         946,
         946,
         1
        ],
        [
         "sharepoint",
         0,
         582,
         582,
         1
        ],
        [
         "toulousa",
         0,
         501,
         501,
         1
        ],
        [
         "9779",
         0,
         395,
         395,
         1
        ],
        [
         "mhcable",
         0,
         381,
         381,
         1
        ],
        [
         "beget",
         0,
         370,
         370,
         1
        ]
       ],
       "datasetInfos": [],
       "dbfsResultPath": null,
       "isJsonSchema": true,
       "metadata": {},
       "overflow": false,
       "plotOptions": {
        "customPlotOptions": {},
        "displayType": "table",
        "pivotAggregation": null,
        "pivotColumns": null,
        "xColumns": null,
        "yColumns": null
       },
       "removedWidgets": [],
       "schema": [
        {
         "metadata": "{}",
         "name": "sld",
         "type": "\"string\""
        },
        {
         "metadata": "{}",
         "name": "benign",
         "type": "\"long\""
        },
        {
         "metadata": "{}",
         "name": "malicious",
         "type": "\"long\""
        },
        {
         "metadata": "{}",
         "name": "total_records",
         "type": "\"long\""
        },
        {
         "metadata": "{}",
         "name": "malicious_ratio",
         "type": "\"double\""
        }
       ],
       "type": "table"
      }
     },
     "output_type": "display_data"
    },
    {
     "name": "stdout",
     "output_type": "stream",
     "text": [
      "All malicious: 92557,  All benign: 77257, total: 172572\n",
      "Domains with 100% malicious URLs: 92557 (53.63%)\n",
      "Domains with 100% benign URLs:    77257 (44.77%)\n",
      "Not always 100%: 1.5981735159817347 %\n"
     ]
    },
    {
     "data": {
      "image/png": "[encoded data removed]",
      "text/plain": [
       "<Figure size 1000x600 with 1 Axes>"
      ]
     },
     "metadata": {},
     "output_type": "display_data"
    }
   ],
   "source": [
    "print_domain_statistics(datasets[\"kaggle_binary\"])"
   ]
  },
  {
   "cell_type": "code",
   "execution_count": 0,
   "metadata": {
    "application/vnd.databricks.v1+cell": {
     "cellMetadata": {
      "byteLimit": 2048000,
      "rowLimit": 10000
     },
     "inputWidgets": {},
     "nuid": "21c75fd9-f95a-415e-808d-10a412fa3cc6",
     "showTitle": false,
     "tableResultSettingsMap": {},
     "title": ""
    }
   },
   "outputs": [
    {
     "name": "stdout",
     "output_type": "stream",
     "text": [
      "=== kaggle_multiple ===\n"
     ]
    },
    {
     "data": {
      "image/png": "[encoded data removed]",
      "text/plain": [
       "<Figure size 1000x600 with 1 Axes>"
      ]
     },
     "metadata": {},
     "output_type": "display_data"
    },
    {
     "name": "stdout",
     "output_type": "stream",
     "text": [
      "Number of domains in dataset: 126948\n"
     ]
    },
    {
     "data": {
      "text/html": [
       "<style scoped>\n",
       "  .table-result-container {\n",
       "    max-height: 300px;\n",
       "    overflow: auto;\n",
       "  }\n",
       "  table, th, td {\n",
       "    border: 1px solid black;\n",
       "    border-collapse: collapse;\n",
       "  }\n",
       "  th, td {\n",
       "    padding: 5px;\n",
       "  }\n",
       "  th {\n",
       "    text-align: left;\n",
       "  }\n",
       "</style><div class='table-result-container'><table class='table-result'><thead style='background-color: white'><tr><th>sld</th><th>benign</th><th>malicious</th><th>total_records</th><th>malicious_ratio</th></tr></thead><tbody><tr><td>ietf</td><td>0</td><td>2573</td><td>2573</td><td>1.0</td></tr><tr><td>mixh</td><td>0</td><td>2314</td><td>2314</td><td>1.0</td></tr><tr><td>000webhostapp</td><td>0</td><td>955</td><td>955</td><td>1.0</td></tr><tr><td>apbfiber</td><td>0</td><td>910</td><td>910</td><td>1.0</td></tr><tr><td>toulousa</td><td>0</td><td>419</td><td>419</td><td>1.0</td></tr><tr><td>9779</td><td>0</td><td>326</td><td>326</td><td>1.0</td></tr><tr><td>sharepoint</td><td>0</td><td>305</td><td>305</td><td>1.0</td></tr><tr><td>beget</td><td>0</td><td>235</td><td>235</td><td>1.0</td></tr><tr><td>spdtextile</td><td>0</td><td>208</td><td>208</td><td>1.0</td></tr><tr><td>googleapis</td><td>0</td><td>194</td><td>194</td><td>1.0</td></tr></tbody></table></div>"
      ]
     },
     "metadata": {
      "application/vnd.databricks.v1+output": {
       "addedWidgets": {},
       "aggData": [],
       "aggError": "",
       "aggOverflow": false,
       "aggSchema": [],
       "aggSeriesLimitReached": false,
       "aggType": "",
       "arguments": {},
       "columnCustomDisplayInfos": {},
       "data": [
        [
         "ietf",
         0,
         2573,
         2573,
         1
        ],
        [
         "mixh",
         0,
         2314,
         2314,
         1
        ],
        [
         "000webhostapp",
         0,
         955,
         955,
         1
        ],
        [
         "apbfiber",
         0,
         910,
         910,
         1
        ],
        [
         "toulousa",
         0,
         419,
         419,
         1
        ],
        [
         "9779",
         0,
         326,
         326,
         1
        ],
        [
         "sharepoint",
         0,
         305,
         305,
         1
        ],
        [
         "beget",
         0,
         235,
         235,
         1
        ],
        [
         "spdtextile",
         0,
         208,
         208,
         1
        ],
        [
         "googleapis",
         0,
         194,
         194,
         1
        ]
       ],
       "datasetInfos": [],
       "dbfsResultPath": null,
       "isJsonSchema": true,
       "metadata": {},
       "overflow": false,
       "plotOptions": {
        "customPlotOptions": {},
        "displayType": "table",
        "pivotAggregation": null,
        "pivotColumns": null,
        "xColumns": null,
        "yColumns": null
       },
       "removedWidgets": [],
       "schema": [
        {
         "metadata": "{}",
         "name": "sld",
         "type": "\"string\""
        },
        {
         "metadata": "{}",
         "name": "benign",
         "type": "\"long\""
        },
        {
         "metadata": "{}",
         "name": "malicious",
         "type": "\"long\""
        },
        {
         "metadata": "{}",
         "name": "total_records",
         "type": "\"long\""
        },
        {
         "metadata": "{}",
         "name": "malicious_ratio",
         "type": "\"double\""
        }
       ],
       "type": "table"
      }
     },
     "output_type": "display_data"
    },
    {
     "name": "stdout",
     "output_type": "stream",
     "text": [
      "All malicious: 39507,  All benign: 83821, total: 126948\n",
      "Domains with 100% malicious URLs: 39507 (31.12%)\n",
      "Domains with 100% benign URLs:    83821 (66.03%)\n",
      "Not always 100%: 2.851561269181076 %\n"
     ]
    },
    {
     "data": {
      "image/png": "[encoded data removed]",
      "text/plain": [
       "<Figure size 1000x600 with 1 Axes>"
      ]
     },
     "metadata": {},
     "output_type": "display_data"
    }
   ],
   "source": [
    "print_domain_statistics(datasets[\"kaggle_multiple\"])"
   ]
  },
  {
   "cell_type": "code",
   "execution_count": 0,
   "metadata": {
    "application/vnd.databricks.v1+cell": {
     "cellMetadata": {
      "byteLimit": 2048000,
      "rowLimit": 10000
     },
     "inputWidgets": {},
     "nuid": "5cf027aa-9415-4ca7-82df-8e75059d26e3",
     "showTitle": false,
     "tableResultSettingsMap": {},
     "title": ""
    }
   },
   "outputs": [
    {
     "name": "stdout",
     "output_type": "stream",
     "text": [
      "=== private_data ===\n"
     ]
    },
    {
     "data": {
      "image/png": "[encoded data removed]",
      "text/plain": [
       "<Figure size 1000x600 with 1 Axes>"
      ]
     },
     "metadata": {},
     "output_type": "display_data"
    },
    {
     "name": "stdout",
     "output_type": "stream",
     "text": [
      "Number of domains in dataset: 297416\n"
     ]
    },
    {
     "data": {
      "text/html": [
       "<style scoped>\n",
       "  .table-result-container {\n",
       "    max-height: 300px;\n",
       "    overflow: auto;\n",
       "  }\n",
       "  table, th, td {\n",
       "    border: 1px solid black;\n",
       "    border-collapse: collapse;\n",
       "  }\n",
       "  th, td {\n",
       "    padding: 5px;\n",
       "  }\n",
       "  th {\n",
       "    text-align: left;\n",
       "  }\n",
       "</style><div class='table-result-container'><table class='table-result'><thead style='background-color: white'><tr><th>sld</th><th>benign</th><th>malicious</th><th>total_records</th><th>malicious_ratio</th></tr></thead><tbody><tr><td>ipfs</td><td>0</td><td>8012</td><td>8012</td><td>1.0</td></tr><tr><td>mcwethyssportsbar</td><td>0</td><td>6221</td><td>6221</td><td>1.0</td></tr><tr><td>de-index</td><td>0</td><td>6193</td><td>6193</td><td>1.0</td></tr><tr><td>softwaresuggest-email</td><td>0</td><td>4523</td><td>4523</td><td>1.0</td></tr><tr><td>vyaav</td><td>0</td><td>4422</td><td>4422</td><td>1.0</td></tr><tr><td>tapestrynetworks</td><td>0</td><td>3115</td><td>3115</td><td>1.0</td></tr><tr><td>dudejafoundation</td><td>0</td><td>2939</td><td>2939</td><td>1.0</td></tr><tr><td>orangekids</td><td>0</td><td>2875</td><td>2875</td><td>1.0</td></tr><tr><td>139.224.15.219</td><td>0</td><td>2080</td><td>2080</td><td>1.0</td></tr><tr><td>202.74.109.148</td><td>0</td><td>1892</td><td>1892</td><td>1.0</td></tr></tbody></table></div>"
      ]
     },
     "metadata": {
      "application/vnd.databricks.v1+output": {
       "addedWidgets": {},
       "aggData": [],
       "aggError": "",
       "aggOverflow": false,
       "aggSchema": [],
       "aggSeriesLimitReached": false,
       "aggType": "",
       "arguments": {},
       "columnCustomDisplayInfos": {},
       "data": [
        [
         "ipfs",
         0,
         8012,
         8012,
         1
        ],
        [
         "mcwethyssportsbar",
         0,
         6221,
         6221,
         1
        ],
        [
         "de-index",
         0,
         6193,
         6193,
         1
        ],
        [
         "softwaresuggest-email",
         0,
         4523,
         4523,
         1
        ],
        [
         "vyaav",
         0,
         4422,
         4422,
         1
        ],
        [
         "tapestrynetworks",
         0,
         3115,
         3115,
         1
        ],
        [
         "dudejafoundation",
         0,
         2939,
         2939,
         1
        ],
        [
         "orangekids",
         0,
         2875,
         2875,
         1
        ],
        [
         "139.224.15.219",
         0,
         2080,
         2080,
         1
        ],
        [
         "202.74.109.148",
         0,
         1892,
         1892,
         1
        ]
       ],
       "datasetInfos": [],
       "dbfsResultPath": null,
       "isJsonSchema": true,
       "metadata": {},
       "overflow": false,
       "plotOptions": {
        "customPlotOptions": {},
        "displayType": "table",
        "pivotAggregation": null,
        "pivotColumns": null,
        "xColumns": null,
        "yColumns": null
       },
       "removedWidgets": [],
       "schema": [
        {
         "metadata": "{}",
         "name": "sld",
         "type": "\"string\""
        },
        {
         "metadata": "{}",
         "name": "benign",
         "type": "\"long\""
        },
        {
         "metadata": "{}",
         "name": "malicious",
         "type": "\"long\""
        },
        {
         "metadata": "{}",
         "name": "total_records",
         "type": "\"long\""
        },
        {
         "metadata": "{}",
         "name": "malicious_ratio",
         "type": "\"double\""
        }
       ],
       "type": "table"
      }
     },
     "output_type": "display_data"
    },
    {
     "name": "stdout",
     "output_type": "stream",
     "text": [
      "All malicious: 13999,  All benign: 282351, total: 297416\n",
      "Domains with 100% malicious URLs: 13999 (4.71%)\n",
      "Domains with 100% benign URLs:    282351 (94.93%)\n",
      "Not always 100%: 0.3584205288215827 %\n"
     ]
    },
    {
     "data": {
      "image/png": "[encoded data removed]",
      "text/plain": [
       "<Figure size 1000x600 with 1 Axes>"
      ]
     },
     "metadata": {},
     "output_type": "display_data"
    }
   ],
   "source": [
    "if not is_local_development():\n",
    "    print_domain_statistics(datasets[\"private_data\"])"
   ]
  },
  {
   "cell_type": "code",
   "execution_count": 0,
   "metadata": {
    "application/vnd.databricks.v1+cell": {
     "cellMetadata": {
      "byteLimit": 2048000,
      "rowLimit": 10000
     },
     "inputWidgets": {},
     "nuid": "273fb653-75f7-4bbc-9e93-8df641648865",
     "showTitle": false,
     "tableResultSettingsMap": {},
     "title": ""
    }
   },
   "outputs": [
    {
     "name": "stdout",
     "output_type": "stream",
     "text": [
      "=== joined ===\n"
     ]
    },
    {
     "data": {
      "image/png": "[encoded data removed]",
      "text/plain": [
       "<Figure size 1000x600 with 1 Axes>"
      ]
     },
     "metadata": {},
     "output_type": "display_data"
    },
    {
     "name": "stdout",
     "output_type": "stream",
     "text": [
      "Number of domains in dataset: 1320127\n"
     ]
    },
    {
     "data": {
      "text/html": [
       "<style scoped>\n",
       "  .table-result-container {\n",
       "    max-height: 300px;\n",
       "    overflow: auto;\n",
       "  }\n",
       "  table, th, td {\n",
       "    border: 1px solid black;\n",
       "    border-collapse: collapse;\n",
       "  }\n",
       "  th, td {\n",
       "    padding: 5px;\n",
       "  }\n",
       "  th {\n",
       "    text-align: left;\n",
       "  }\n",
       "</style><div class='table-result-container'><table class='table-result'><thead style='background-color: white'><tr><th>sld</th><th>benign</th><th>malicious</th><th>total_records</th><th>malicious_ratio</th></tr></thead><tbody><tr><td>mixh</td><td>0</td><td>2949</td><td>2949</td><td>1.0</td></tr><tr><td>gvirabi</td><td>0</td><td>1923</td><td>1923</td><td>1.0</td></tr><tr><td>platino</td><td>0</td><td>1903</td><td>1903</td><td>1.0</td></tr><tr><td>patraglobal</td><td>0</td><td>1823</td><td>1823</td><td>1.0</td></tr><tr><td>69.167.151.209</td><td>0</td><td>1754</td><td>1754</td><td>1.0</td></tr><tr><td>justns</td><td>0</td><td>1689</td><td>1689</td><td>1.0</td></tr><tr><td>apbfiber</td><td>0</td><td>1147</td><td>1147</td><td>1.0</td></tr><tr><td>richardvorisek</td><td>0</td><td>1124</td><td>1124</td><td>1.0</td></tr><tr><td>iteem-927321</td><td>0</td><td>1001</td><td>1001</td><td>1.0</td></tr><tr><td>pastehtml</td><td>0</td><td>946</td><td>946</td><td>1.0</td></tr></tbody></table></div>"
      ]
     },
     "metadata": {
      "application/vnd.databricks.v1+output": {
       "addedWidgets": {},
       "aggData": [],
       "aggError": "",
       "aggOverflow": false,
       "aggSchema": [],
       "aggSeriesLimitReached": false,
       "aggType": "",
       "arguments": {},
       "columnCustomDisplayInfos": {},
       "data": [
        [
         "mixh",
         0,
         2949,
         2949,
         1
        ],
        [
         "gvirabi",
         0,
         1923,
         1923,
         1
        ],
        [
         "platino",
         0,
         1903,
         1903,
         1
        ],
        [
         "patraglobal",
         0,
         1823,
         1823,
         1
        ],
        [
         "69.167.151.209",
         0,
         1754,
         1754,
         1
        ],
        [
         "justns",
         0,
         1689,
         1689,
         1
        ],
        [
         "apbfiber",
         0,
         1147,
         1147,
         1
        ],
        [
         "richardvorisek",
         0,
         1124,
         1124,
         1
        ],
        [
         "iteem-927321",
         0,
         1001,
         1001,
         1
        ],
        [
         "pastehtml",
         0,
         946,
         946,
         1
        ]
       ],
       "datasetInfos": [],
       "dbfsResultPath": null,
       "isJsonSchema": true,
       "metadata": {},
       "overflow": false,
       "plotOptions": {
        "customPlotOptions": {},
        "displayType": "table",
        "pivotAggregation": null,
        "pivotColumns": null,
        "xColumns": null,
        "yColumns": null
       },
       "removedWidgets": [],
       "schema": [
        {
         "metadata": "{}",
         "name": "sld",
         "type": "\"string\""
        },
        {
         "metadata": "{}",
         "name": "benign",
         "type": "\"long\""
        },
        {
         "metadata": "{}",
         "name": "malicious",
         "type": "\"long\""
        },
        {
         "metadata": "{}",
         "name": "total_records",
         "type": "\"long\""
        },
        {
         "metadata": "{}",
         "name": "malicious_ratio",
         "type": "\"double\""
        }
       ],
       "type": "table"
      }
     },
     "output_type": "display_data"
    },
    {
     "name": "stdout",
     "output_type": "stream",
     "text": [
      "All malicious: 202137,  All benign: 1094871, total: 1320127\n",
      "Domains with 100% malicious URLs: 202137 (15.31%)\n",
      "Domains with 100% benign URLs:    1094871 (82.94%)\n",
      "Not always 100%: 1.751270900451246 %\n"
     ]
    },
    {
     "data": {
      "image/png": "[encoded data removed]",
      "text/plain": [
       "<Figure size 1000x600 with 1 Axes>"
      ]
     },
     "metadata": {},
     "output_type": "display_data"
    }
   ],
   "source": [
    "print_domain_statistics(datasets[\"joined\"])"
   ]
  },
  {
   "cell_type": "markdown",
   "metadata": {
    "application/vnd.databricks.v1+cell": {
     "cellMetadata": {
      "byteLimit": 2048000,
      "rowLimit": 10000
     },
     "inputWidgets": {},
     "nuid": "2b1148cb-3892-40da-b153-d96cf5ff4c7c",
     "showTitle": false,
     "tableResultSettingsMap": {},
     "title": ""
    }
   },
   "source": [
    "### SLD repetition\n",
    "- we calculate the following\n",
    "- gini index\n",
    "    - Close to 0: SLDs are evenly distributed.\n",
    "    - Close to 1: A few SLDs are extremely dominant.\n",
    "- top-k dominance for k = 3,5,10\n",
    "    - from 0 to 1 similar meaning as gini index\n",
    "    - provides more granular insight\n",
    "- median, mean number of repetitions"
   ]
  },
  {
   "cell_type": "code",
   "execution_count": 0,
   "metadata": {
    "application/vnd.databricks.v1+cell": {
     "cellMetadata": {
      "byteLimit": 2048000,
      "rowLimit": 10000
     },
     "inputWidgets": {},
     "nuid": "7f587898-5cfd-4e50-b4bc-27a71f2a5bc7",
     "showTitle": false,
     "tableResultSettingsMap": {},
     "title": ""
    }
   },
   "outputs": [
    {
     "data": {
      "text/html": [
       "<style scoped>\n",
       "  .table-result-container {\n",
       "    max-height: 300px;\n",
       "    overflow: auto;\n",
       "  }\n",
       "  table, th, td {\n",
       "    border: 1px solid black;\n",
       "    border-collapse: collapse;\n",
       "  }\n",
       "  th, td {\n",
       "    padding: 5px;\n",
       "  }\n",
       "  th {\n",
       "    text-align: left;\n",
       "  }\n",
       "</style><div class='table-result-container'><table class='table-result'><thead style='background-color: white'><tr><th>gini_index</th><th>top_3_ratio</th><th>top_5_ratio</th><th>top_10_ratio</th><th>median</th><th>mean</th></tr></thead><tbody><tr><td>0.4582</td><td>4.74%</td><td>5.66%</td><td>6.97%</td><td>1.00</td><td>2.06</td></tr><tr><td>0.6482</td><td>5.04%</td><td>7.09%</td><td>10.33%</td><td>1.00</td><td>3.22</td></tr><tr><td>0.6787</td><td>5.60%</td><td>8.18%</td><td>11.84%</td><td>1.00</td><td>3.44</td></tr><tr><td>0.4434</td><td>6.30%</td><td>7.73%</td><td>9.72%</td><td>1.00</td><td>1.82</td></tr><tr><td>0.5147</td><td>3.44%</td><td>4.81%</td><td>7.09%</td><td>1.00</td><td>2.17</td></tr><tr><td>0.8661</td><td>3.23%</td><td>4.66%</td><td>7.47%</td><td>1.00</td><td>9.54</td></tr></tbody></table></div>"
      ]
     },
     "metadata": {
      "application/vnd.databricks.v1+output": {
       "addedWidgets": {},
       "aggData": [],
       "aggError": "",
       "aggOverflow": false,
       "aggSchema": [],
       "aggSeriesLimitReached": false,
       "aggType": "",
       "arguments": {},
       "columnCustomDisplayInfos": {},
       "data": [
        [
         "0.4582",
         "4.74%",
         "5.66%",
         "6.97%",
         "1.00",
         "2.06"
        ],
        [
         "0.6482",
         "5.04%",
         "7.09%",
         "10.33%",
         "1.00",
         "3.22"
        ],
        [
         "0.6787",
         "5.60%",
         "8.18%",
         "11.84%",
         "1.00",
         "3.44"
        ],
        [
         "0.4434",
         "6.30%",
         "7.73%",
         "9.72%",
         "1.00",
         "1.82"
        ],
        [
         "0.5147",
         "3.44%",
         "4.81%",
         "7.09%",
         "1.00",
         "2.17"
        ],
        [
         "0.8661",
         "3.23%",
         "4.66%",
         "7.47%",
         "1.00",
         "9.54"
        ]
       ],
       "datasetInfos": [],
       "dbfsResultPath": null,
       "isJsonSchema": true,
       "metadata": {},
       "overflow": false,
       "plotOptions": {
        "customPlotOptions": {},
        "displayType": "table",
        "pivotAggregation": null,
        "pivotColumns": null,
        "xColumns": null,
        "yColumns": null
       },
       "removedWidgets": [],
       "schema": [
        {
         "metadata": "{}",
         "name": "gini_index",
         "type": "\"string\""
        },
        {
         "metadata": "{}",
         "name": "top_3_ratio",
         "type": "\"string\""
        },
        {
         "metadata": "{}",
         "name": "top_5_ratio",
         "type": "\"string\""
        },
        {
         "metadata": "{}",
         "name": "top_10_ratio",
         "type": "\"string\""
        },
        {
         "metadata": "{}",
         "name": "median",
         "type": "\"string\""
        },
        {
         "metadata": "{}",
         "name": "mean",
         "type": "\"string\""
        }
       ],
       "type": "table"
      }
     },
     "output_type": "display_data"
    }
   ],
   "source": [
    "from utils.url_features import gini_coefficient\n",
    "\n",
    "results = []\n",
    "for ds in all_datasets[\"dataset\"].unique():\n",
    "    subset = all_datasets[all_datasets[\"dataset\"] == ds]\n",
    "    total = len(subset)\n",
    "    freq_counts = subset[\"sld\"].value_counts()\n",
    "    gini = gini_coefficient(freq_counts.values)\n",
    "    top3_ratio = freq_counts.head(3).sum() / total\n",
    "    top5_ratio = freq_counts.head(5).sum() / total\n",
    "    top10_ratio = freq_counts.head(10).sum() / total\n",
    "    median = freq_counts.median()\n",
    "    mean = freq_counts.mean()\n",
    "    results.append(\n",
    "        {\n",
    "            \"dataset\": ds,\n",
    "            \"gini_index\": f\"{gini:.4f}\",\n",
    "            \"top_3_ratio\": f\"{top3_ratio * 100:.2f}%\",\n",
    "            \"top_5_ratio\": f\"{top5_ratio * 100:.2f}%\",\n",
    "            \"top_10_ratio\": f\"{top10_ratio * 100:.2f}%\",\n",
    "            \"median\": f\"{median:.2f}\",\n",
    "            \"mean\": f\"{mean:.2f}\",\n",
    "        }\n",
    "    )\n",
    "\n",
    "result_df = pd.DataFrame(results).set_index(\"dataset\")\n",
    "display(result_df)"
   ]
  },
  {
   "cell_type": "markdown",
   "metadata": {
    "application/vnd.databricks.v1+cell": {
     "cellMetadata": {
      "byteLimit": 2048000,
      "rowLimit": 10000
     },
     "inputWidgets": {},
     "nuid": "3d1071f2-5ae5-4685-80ec-b3c732d3e4d3",
     "showTitle": false,
     "tableResultSettingsMap": {},
     "title": ""
    }
   },
   "source": [
    "## Folds"
   ]
  },
  {
   "cell_type": "code",
   "execution_count": 0,
   "metadata": {
    "application/vnd.databricks.v1+cell": {
     "cellMetadata": {
      "byteLimit": 2048000,
      "rowLimit": 10000
     },
     "inputWidgets": {},
     "nuid": "dff7c3cc-cde2-46a6-ad6b-1e246f3e8c98",
     "showTitle": false,
     "tableResultSettingsMap": {},
     "title": ""
    }
   },
   "outputs": [],
   "source": [
    "from utils.dataset import analyze_folds"
   ]
  },
  {
   "cell_type": "code",
   "execution_count": 0,
   "metadata": {
    "application/vnd.databricks.v1+cell": {
     "cellMetadata": {
      "byteLimit": 2048000,
      "rowLimit": 10000
     },
     "inputWidgets": {},
     "nuid": "9eba6570-398d-4ea8-82bf-cb4375edc519",
     "showTitle": false,
     "tableResultSettingsMap": {},
     "title": ""
    }
   },
   "outputs": [
    {
     "name": "stdout",
     "output_type": "stream",
     "text": [
      "=== grambeddings ===\n"
     ]
    },
    {
     "data": {
      "text/html": [
       "<style scoped>\n",
       "  .table-result-container {\n",
       "    max-height: 300px;\n",
       "    overflow: auto;\n",
       "  }\n",
       "  table, th, td {\n",
       "    border: 1px solid black;\n",
       "    border-collapse: collapse;\n",
       "  }\n",
       "  th, td {\n",
       "    padding: 5px;\n",
       "  }\n",
       "  th {\n",
       "    text-align: left;\n",
       "  }\n",
       "</style><div class='table-result-container'><table class='table-result'><thead style='background-color: white'><tr><th>fold</th><th>total</th><th>unique_domains</th><th>benign</th><th>benign_pct</th><th>malicious</th><th>malicious_pct</th><th>top_1</th><th>top_2</th><th>top_3</th></tr></thead><tbody><tr><td>1.0</td><td>296978</td><td>31015</td><td>273269</td><td>92.01658035275341</td><td>23709</td><td>7.983419647246598</td><td>ravsend1 (8.2%)</td><td>n-c4 (2.6%)</td><td>canva (2.2%)</td></tr><tr><td>2.0</td><td>289023</td><td>30998</td><td>258626</td><td>89.48284392591593</td><td>30397</td><td>10.517156074084069</td><td>gstatic (9.0%)</td><td>r2 (2.7%)</td><td>farmersinsurance (2.6%)</td></tr><tr><td>3.0</td><td>307560</td><td>30882</td><td>264309</td><td>85.9373780725712</td><td>43251</td><td>14.062621927428795</td><td>box (5.8%)</td><td>wordpress (5.0%)</td><td>ru (3.2%)</td></tr><tr><td>4.0</td><td>260281</td><td>31105</td><td>236487</td><td>90.85834156161994</td><td>23794</td><td>9.141658438380059</td><td>bubbleapps (1.8%)</td><td>vyaav (1.7%)</td><td>live (1.4%)</td></tr><tr><td>5.0</td><td>288840</td><td>30990</td><td>260775</td><td>90.28354798504363</td><td>28065</td><td>9.716452014956376</td><td>163 (5.6%)</td><td>wix (4.5%)</td><td>de-index (2.1%)</td></tr><tr><td>6.0</td><td>297071</td><td>31966</td><td>263351</td><td>88.6491781425989</td><td>33720</td><td>11.350821857401092</td><td>googleapis (6.1%)</td><td>amazonaws (3.6%)</td><td>srv (1.0%)</td></tr><tr><td>7.0</td><td>311723</td><td>30913</td><td>285874</td><td>91.7077020303282</td><td>25849</td><td>8.292297969671791</td><td>google (12.4%)</td><td>weebly (4.0%)</td><td>tapestrynetworks (1.0%)</td></tr><tr><td>8.0</td><td>248426</td><td>31311</td><td>218466</td><td>87.94007068503296</td><td>29960</td><td>12.059929314967032</td><td>fujitsu (4.8%)</td><td>ipfs (3.2%)</td><td>walgreens (2.0%)</td></tr><tr><td>9.0</td><td>273325</td><td>31310</td><td>247994</td><td>90.73227842312266</td><td>25331</td><td>9.267721576877344</td><td>subway (2.2%)</td><td>blogspot (2.1%)</td><td>whatsapp (1.6%)</td></tr><tr><td>10.0</td><td>262820</td><td>31036</td><td>243280</td><td>92.56525378586105</td><td>19540</td><td>7.434746214138954</td><td>amazonaws (2.7%)</td><td>gitlab (1.2%)</td><td>azure (1.2%)</td></tr></tbody></table></div>"
      ]
     },
     "metadata": {
      "application/vnd.databricks.v1+output": {
       "addedWidgets": {},
       "aggData": [],
       "aggError": "",
       "aggOverflow": false,
       "aggSchema": [],
       "aggSeriesLimitReached": false,
       "aggType": "",
       "arguments": {},
       "columnCustomDisplayInfos": {},
       "data": [
        [
         1,
         296978,
         31015,
         273269,
         92.01658035275341,
         23709,
         7.983419647246598,
         "ravsend1 (8.2%)",
         "n-c4 (2.6%)",
         "canva (2.2%)"
        ],
        [
         2,
         289023,
         30998,
         258626,
         89.48284392591593,
         30397,
         10.517156074084069,
         "gstatic (9.0%)",
         "r2 (2.7%)",
         "farmersinsurance (2.6%)"
        ],
        [
         3,
         307560,
         30882,
         264309,
         85.9373780725712,
         43251,
         14.062621927428795,
         "box (5.8%)",
         "wordpress (5.0%)",
         "ru (3.2%)"
        ],
        [
         4,
         260281,
         31105,
         236487,
         90.85834156161994,
         23794,
         9.141658438380059,
         "bubbleapps (1.8%)",
         "vyaav (1.7%)",
         "live (1.4%)"
        ],
        [
         5,
         288840,
         30990,
         260775,
         90.28354798504363,
         28065,
         9.716452014956376,
         "163 (5.6%)",
         "wix (4.5%)",
         "de-index (2.1%)"
        ],
        [
         6,
         297071,
         31966,
         263351,
         88.6491781425989,
         33720,
         11.350821857401092,
         "googleapis (6.1%)",
         "amazonaws (3.6%)",
         "srv (1.0%)"
        ],
        [
         7,
         311723,
         30913,
         285874,
         91.7077020303282,
         25849,
         8.292297969671791,
         "google (12.4%)",
         "weebly (4.0%)",
         "tapestrynetworks (1.0%)"
        ],
        [
         8,
         248426,
         31311,
         218466,
         87.94007068503296,
         29960,
         12.059929314967032,
         "fujitsu (4.8%)",
         "ipfs (3.2%)",
         "walgreens (2.0%)"
        ],
        [
         9,
         273325,
         31310,
         247994,
         90.73227842312266,
         25331,
         9.267721576877344,
         "subway (2.2%)",
         "blogspot (2.1%)",
         "whatsapp (1.6%)"
        ],
        [
         10,
         262820,
         31036,
         243280,
         92.56525378586105,
         19540,
         7.434746214138954,
         "amazonaws (2.7%)",
         "gitlab (1.2%)",
         "azure (1.2%)"
        ]
       ],
       "datasetInfos": [],
       "dbfsResultPath": null,
       "isJsonSchema": true,
       "metadata": {},
       "overflow": false,
       "plotOptions": {
        "customPlotOptions": {},
        "displayType": "table",
        "pivotAggregation": null,
        "pivotColumns": null,
        "xColumns": null,
        "yColumns": null
       },
       "removedWidgets": [],
       "schema": [
        {
         "metadata": "{}",
         "name": "fold",
         "type": "\"double\""
        },
        {
         "metadata": "{}",
         "name": "total",
         "type": "\"long\""
        },
        {
         "metadata": "{}",
         "name": "unique_domains",
         "type": "\"long\""
        },
        {
         "metadata": "{}",
         "name": "benign",
         "type": "\"long\""
        },
        {
         "metadata": "{}",
         "name": "benign_pct",
         "type": "\"double\""
        },
        {
         "metadata": "{}",
         "name": "malicious",
         "type": "\"long\""
        },
        {
         "metadata": "{}",
         "name": "malicious_pct",
         "type": "\"double\""
        },
        {
         "metadata": "{}",
         "name": "top_1",
         "type": "\"string\""
        },
        {
         "metadata": "{}",
         "name": "top_2",
         "type": "\"string\""
        },
        {
         "metadata": "{}",
         "name": "top_3",
         "type": "\"string\""
        }
       ],
       "type": "table"
      }
     },
     "output_type": "display_data"
    },
    {
     "name": "stdout",
     "output_type": "stream",
     "text": [
      "=== kaggle_binary ===\n"
     ]
    },
    {
     "data": {
      "text/html": [
       "<style scoped>\n",
       "  .table-result-container {\n",
       "    max-height: 300px;\n",
       "    overflow: auto;\n",
       "  }\n",
       "  table, th, td {\n",
       "    border: 1px solid black;\n",
       "    border-collapse: collapse;\n",
       "  }\n",
       "  th, td {\n",
       "    padding: 5px;\n",
       "  }\n",
       "  th {\n",
       "    text-align: left;\n",
       "  }\n",
       "</style><div class='table-result-container'><table class='table-result'><thead style='background-color: white'><tr><th>fold</th><th>total</th><th>unique_domains</th><th>benign</th><th>benign_pct</th><th>malicious</th><th>malicious_pct</th><th>top_1</th><th>top_2</th><th>top_3</th></tr></thead><tbody><tr><td>1.0</td><td>296978</td><td>31015</td><td>273269</td><td>92.01658035275341</td><td>23709</td><td>7.983419647246598</td><td>ravsend1 (8.2%)</td><td>n-c4 (2.6%)</td><td>canva (2.2%)</td></tr><tr><td>2.0</td><td>289023</td><td>30998</td><td>258626</td><td>89.48284392591593</td><td>30397</td><td>10.517156074084069</td><td>gstatic (9.0%)</td><td>r2 (2.7%)</td><td>farmersinsurance (2.6%)</td></tr><tr><td>3.0</td><td>307560</td><td>30882</td><td>264309</td><td>85.9373780725712</td><td>43251</td><td>14.062621927428795</td><td>box (5.8%)</td><td>wordpress (5.0%)</td><td>ru (3.2%)</td></tr><tr><td>4.0</td><td>260281</td><td>31105</td><td>236487</td><td>90.85834156161994</td><td>23794</td><td>9.141658438380059</td><td>bubbleapps (1.8%)</td><td>vyaav (1.7%)</td><td>live (1.4%)</td></tr><tr><td>5.0</td><td>288840</td><td>30990</td><td>260775</td><td>90.28354798504363</td><td>28065</td><td>9.716452014956376</td><td>163 (5.6%)</td><td>wix (4.5%)</td><td>de-index (2.1%)</td></tr><tr><td>6.0</td><td>297071</td><td>31966</td><td>263351</td><td>88.6491781425989</td><td>33720</td><td>11.350821857401092</td><td>googleapis (6.1%)</td><td>amazonaws (3.6%)</td><td>srv (1.0%)</td></tr><tr><td>7.0</td><td>311723</td><td>30913</td><td>285874</td><td>91.7077020303282</td><td>25849</td><td>8.292297969671791</td><td>google (12.4%)</td><td>weebly (4.0%)</td><td>tapestrynetworks (1.0%)</td></tr><tr><td>8.0</td><td>248426</td><td>31311</td><td>218466</td><td>87.94007068503296</td><td>29960</td><td>12.059929314967032</td><td>fujitsu (4.8%)</td><td>ipfs (3.2%)</td><td>walgreens (2.0%)</td></tr><tr><td>9.0</td><td>273325</td><td>31310</td><td>247994</td><td>90.73227842312266</td><td>25331</td><td>9.267721576877344</td><td>subway (2.2%)</td><td>blogspot (2.1%)</td><td>whatsapp (1.6%)</td></tr><tr><td>10.0</td><td>262820</td><td>31036</td><td>243280</td><td>92.56525378586105</td><td>19540</td><td>7.434746214138954</td><td>amazonaws (2.7%)</td><td>gitlab (1.2%)</td><td>azure (1.2%)</td></tr></tbody></table></div>"
      ]
     },
     "metadata": {
      "application/vnd.databricks.v1+output": {
       "addedWidgets": {},
       "aggData": [],
       "aggError": "",
       "aggOverflow": false,
       "aggSchema": [],
       "aggSeriesLimitReached": false,
       "aggType": "",
       "arguments": {},
       "columnCustomDisplayInfos": {},
       "data": [
        [
         1,
         296978,
         31015,
         273269,
         92.01658035275341,
         23709,
         7.983419647246598,
         "ravsend1 (8.2%)",
         "n-c4 (2.6%)",
         "canva (2.2%)"
        ],
        [
         2,
         289023,
         30998,
         258626,
         89.48284392591593,
         30397,
         10.517156074084069,
         "gstatic (9.0%)",
         "r2 (2.7%)",
         "farmersinsurance (2.6%)"
        ],
        [
         3,
         307560,
         30882,
         264309,
         85.9373780725712,
         43251,
         14.062621927428795,
         "box (5.8%)",
         "wordpress (5.0%)",
         "ru (3.2%)"
        ],
        [
         4,
         260281,
         31105,
         236487,
         90.85834156161994,
         23794,
         9.141658438380059,
         "bubbleapps (1.8%)",
         "vyaav (1.7%)",
         "live (1.4%)"
        ],
        [
         5,
         288840,
         30990,
         260775,
         90.28354798504363,
         28065,
         9.716452014956376,
         "163 (5.6%)",
         "wix (4.5%)",
         "de-index (2.1%)"
        ],
        [
         6,
         297071,
         31966,
         263351,
         88.6491781425989,
         33720,
         11.350821857401092,
         "googleapis (6.1%)",
         "amazonaws (3.6%)",
         "srv (1.0%)"
        ],
        [
         7,
         311723,
         30913,
         285874,
         91.7077020303282,
         25849,
         8.292297969671791,
         "google (12.4%)",
         "weebly (4.0%)",
         "tapestrynetworks (1.0%)"
        ],
        [
         8,
         248426,
         31311,
         218466,
         87.94007068503296,
         29960,
         12.059929314967032,
         "fujitsu (4.8%)",
         "ipfs (3.2%)",
         "walgreens (2.0%)"
        ],
        [
         9,
         273325,
         31310,
         247994,
         90.73227842312266,
         25331,
         9.267721576877344,
         "subway (2.2%)",
         "blogspot (2.1%)",
         "whatsapp (1.6%)"
        ],
        [
         10,
         262820,
         31036,
         243280,
         92.56525378586105,
         19540,
         7.434746214138954,
         "amazonaws (2.7%)",
         "gitlab (1.2%)",
         "azure (1.2%)"
        ]
       ],
       "datasetInfos": [],
       "dbfsResultPath": null,
       "isJsonSchema": true,
       "metadata": {},
       "overflow": false,
       "plotOptions": {
        "customPlotOptions": {},
        "displayType": "table",
        "pivotAggregation": null,
        "pivotColumns": null,
        "xColumns": null,
        "yColumns": null
       },
       "removedWidgets": [],
       "schema": [
        {
         "metadata": "{}",
         "name": "fold",
         "type": "\"double\""
        },
        {
         "metadata": "{}",
         "name": "total",
         "type": "\"long\""
        },
        {
         "metadata": "{}",
         "name": "unique_domains",
         "type": "\"long\""
        },
        {
         "metadata": "{}",
         "name": "benign",
         "type": "\"long\""
        },
        {
         "metadata": "{}",
         "name": "benign_pct",
         "type": "\"double\""
        },
        {
         "metadata": "{}",
         "name": "malicious",
         "type": "\"long\""
        },
        {
         "metadata": "{}",
         "name": "malicious_pct",
         "type": "\"double\""
        },
        {
         "metadata": "{}",
         "name": "top_1",
         "type": "\"string\""
        },
        {
         "metadata": "{}",
         "name": "top_2",
         "type": "\"string\""
        },
        {
         "metadata": "{}",
         "name": "top_3",
         "type": "\"string\""
        }
       ],
       "type": "table"
      }
     },
     "output_type": "display_data"
    },
    {
     "name": "stdout",
     "output_type": "stream",
     "text": [
      "=== kaggle_multiple ===\n"
     ]
    },
    {
     "data": {
      "text/html": [
       "<style scoped>\n",
       "  .table-result-container {\n",
       "    max-height: 300px;\n",
       "    overflow: auto;\n",
       "  }\n",
       "  table, th, td {\n",
       "    border: 1px solid black;\n",
       "    border-collapse: collapse;\n",
       "  }\n",
       "  th, td {\n",
       "    padding: 5px;\n",
       "  }\n",
       "  th {\n",
       "    text-align: left;\n",
       "  }\n",
       "</style><div class='table-result-container'><table class='table-result'><thead style='background-color: white'><tr><th>fold</th><th>total</th><th>unique_domains</th><th>benign</th><th>benign_pct</th><th>malicious</th><th>malicious_pct</th><th>top_1</th><th>top_2</th><th>top_3</th></tr></thead><tbody><tr><td>1.0</td><td>296978</td><td>31015</td><td>273269</td><td>92.01658035275341</td><td>23709</td><td>7.983419647246598</td><td>ravsend1 (8.2%)</td><td>n-c4 (2.6%)</td><td>canva (2.2%)</td></tr><tr><td>2.0</td><td>289023</td><td>30998</td><td>258626</td><td>89.48284392591593</td><td>30397</td><td>10.517156074084069</td><td>gstatic (9.0%)</td><td>r2 (2.7%)</td><td>farmersinsurance (2.6%)</td></tr><tr><td>3.0</td><td>307560</td><td>30882</td><td>264309</td><td>85.9373780725712</td><td>43251</td><td>14.062621927428795</td><td>box (5.8%)</td><td>wordpress (5.0%)</td><td>ru (3.2%)</td></tr><tr><td>4.0</td><td>260281</td><td>31105</td><td>236487</td><td>90.85834156161994</td><td>23794</td><td>9.141658438380059</td><td>bubbleapps (1.8%)</td><td>vyaav (1.7%)</td><td>live (1.4%)</td></tr><tr><td>5.0</td><td>288840</td><td>30990</td><td>260775</td><td>90.28354798504363</td><td>28065</td><td>9.716452014956376</td><td>163 (5.6%)</td><td>wix (4.5%)</td><td>de-index (2.1%)</td></tr><tr><td>6.0</td><td>297071</td><td>31966</td><td>263351</td><td>88.6491781425989</td><td>33720</td><td>11.350821857401092</td><td>googleapis (6.1%)</td><td>amazonaws (3.6%)</td><td>srv (1.0%)</td></tr><tr><td>7.0</td><td>311723</td><td>30913</td><td>285874</td><td>91.7077020303282</td><td>25849</td><td>8.292297969671791</td><td>google (12.4%)</td><td>weebly (4.0%)</td><td>tapestrynetworks (1.0%)</td></tr><tr><td>8.0</td><td>248426</td><td>31311</td><td>218466</td><td>87.94007068503296</td><td>29960</td><td>12.059929314967032</td><td>fujitsu (4.8%)</td><td>ipfs (3.2%)</td><td>walgreens (2.0%)</td></tr><tr><td>9.0</td><td>273325</td><td>31310</td><td>247994</td><td>90.73227842312266</td><td>25331</td><td>9.267721576877344</td><td>subway (2.2%)</td><td>blogspot (2.1%)</td><td>whatsapp (1.6%)</td></tr><tr><td>10.0</td><td>262820</td><td>31036</td><td>243280</td><td>92.56525378586105</td><td>19540</td><td>7.434746214138954</td><td>amazonaws (2.7%)</td><td>gitlab (1.2%)</td><td>azure (1.2%)</td></tr></tbody></table></div>"
      ]
     },
     "metadata": {
      "application/vnd.databricks.v1+output": {
       "addedWidgets": {},
       "aggData": [],
       "aggError": "",
       "aggOverflow": false,
       "aggSchema": [],
       "aggSeriesLimitReached": false,
       "aggType": "",
       "arguments": {},
       "columnCustomDisplayInfos": {},
       "data": [
        [
         1,
         296978,
         31015,
         273269,
         92.01658035275341,
         23709,
         7.983419647246598,
         "ravsend1 (8.2%)",
         "n-c4 (2.6%)",
         "canva (2.2%)"
        ],
        [
         2,
         289023,
         30998,
         258626,
         89.48284392591593,
         30397,
         10.517156074084069,
         "gstatic (9.0%)",
         "r2 (2.7%)",
         "farmersinsurance (2.6%)"
        ],
        [
         3,
         307560,
         30882,
         264309,
         85.9373780725712,
         43251,
         14.062621927428795,
         "box (5.8%)",
         "wordpress (5.0%)",
         "ru (3.2%)"
        ],
        [
         4,
         260281,
         31105,
         236487,
         90.85834156161994,
         23794,
         9.141658438380059,
         "bubbleapps (1.8%)",
         "vyaav (1.7%)",
         "live (1.4%)"
        ],
        [
         5,
         288840,
         30990,
         260775,
         90.28354798504363,
         28065,
         9.716452014956376,
         "163 (5.6%)",
         "wix (4.5%)",
         "de-index (2.1%)"
        ],
        [
         6,
         297071,
         31966,
         263351,
         88.6491781425989,
         33720,
         11.350821857401092,
         "googleapis (6.1%)",
         "amazonaws (3.6%)",
         "srv (1.0%)"
        ],
        [
         7,
         311723,
         30913,
         285874,
         91.7077020303282,
         25849,
         8.292297969671791,
         "google (12.4%)",
         "weebly (4.0%)",
         "tapestrynetworks (1.0%)"
        ],
        [
         8,
         248426,
         31311,
         218466,
         87.94007068503296,
         29960,
         12.059929314967032,
         "fujitsu (4.8%)",
         "ipfs (3.2%)",
         "walgreens (2.0%)"
        ],
        [
         9,
         273325,
         31310,
         247994,
         90.73227842312266,
         25331,
         9.267721576877344,
         "subway (2.2%)",
         "blogspot (2.1%)",
         "whatsapp (1.6%)"
        ],
        [
         10,
         262820,
         31036,
         243280,
         92.56525378586105,
         19540,
         7.434746214138954,
         "amazonaws (2.7%)",
         "gitlab (1.2%)",
         "azure (1.2%)"
        ]
       ],
       "datasetInfos": [],
       "dbfsResultPath": null,
       "isJsonSchema": true,
       "metadata": {},
       "overflow": false,
       "plotOptions": {
        "customPlotOptions": {},
        "displayType": "table",
        "pivotAggregation": null,
        "pivotColumns": null,
        "xColumns": null,
        "yColumns": null
       },
       "removedWidgets": [],
       "schema": [
        {
         "metadata": "{}",
         "name": "fold",
         "type": "\"double\""
        },
        {
         "metadata": "{}",
         "name": "total",
         "type": "\"long\""
        },
        {
         "metadata": "{}",
         "name": "unique_domains",
         "type": "\"long\""
        },
        {
         "metadata": "{}",
         "name": "benign",
         "type": "\"long\""
        },
        {
         "metadata": "{}",
         "name": "benign_pct",
         "type": "\"double\""
        },
        {
         "metadata": "{}",
         "name": "malicious",
         "type": "\"long\""
        },
        {
         "metadata": "{}",
         "name": "malicious_pct",
         "type": "\"double\""
        },
        {
         "metadata": "{}",
         "name": "top_1",
         "type": "\"string\""
        },
        {
         "metadata": "{}",
         "name": "top_2",
         "type": "\"string\""
        },
        {
         "metadata": "{}",
         "name": "top_3",
         "type": "\"string\""
        }
       ],
       "type": "table"
      }
     },
     "output_type": "display_data"
    },
    {
     "name": "stdout",
     "output_type": "stream",
     "text": [
      "=== mendeley ===\n"
     ]
    },
    {
     "data": {
      "text/html": [
       "<style scoped>\n",
       "  .table-result-container {\n",
       "    max-height: 300px;\n",
       "    overflow: auto;\n",
       "  }\n",
       "  table, th, td {\n",
       "    border: 1px solid black;\n",
       "    border-collapse: collapse;\n",
       "  }\n",
       "  th, td {\n",
       "    padding: 5px;\n",
       "  }\n",
       "  th {\n",
       "    text-align: left;\n",
       "  }\n",
       "</style><div class='table-result-container'><table class='table-result'><thead style='background-color: white'><tr><th>fold</th><th>total</th><th>unique_domains</th><th>benign</th><th>benign_pct</th><th>malicious</th><th>malicious_pct</th><th>top_1</th><th>top_2</th><th>top_3</th></tr></thead><tbody><tr><td>1.0</td><td>296978</td><td>31015</td><td>273269</td><td>92.01658035275341</td><td>23709</td><td>7.983419647246598</td><td>ravsend1 (8.2%)</td><td>n-c4 (2.6%)</td><td>canva (2.2%)</td></tr><tr><td>2.0</td><td>289023</td><td>30998</td><td>258626</td><td>89.48284392591593</td><td>30397</td><td>10.517156074084069</td><td>gstatic (9.0%)</td><td>r2 (2.7%)</td><td>farmersinsurance (2.6%)</td></tr><tr><td>3.0</td><td>307560</td><td>30882</td><td>264309</td><td>85.9373780725712</td><td>43251</td><td>14.062621927428795</td><td>box (5.8%)</td><td>wordpress (5.0%)</td><td>ru (3.2%)</td></tr><tr><td>4.0</td><td>260281</td><td>31105</td><td>236487</td><td>90.85834156161994</td><td>23794</td><td>9.141658438380059</td><td>bubbleapps (1.8%)</td><td>vyaav (1.7%)</td><td>live (1.4%)</td></tr><tr><td>5.0</td><td>288840</td><td>30990</td><td>260775</td><td>90.28354798504363</td><td>28065</td><td>9.716452014956376</td><td>163 (5.6%)</td><td>wix (4.5%)</td><td>de-index (2.1%)</td></tr><tr><td>6.0</td><td>297071</td><td>31966</td><td>263351</td><td>88.6491781425989</td><td>33720</td><td>11.350821857401092</td><td>googleapis (6.1%)</td><td>amazonaws (3.6%)</td><td>srv (1.0%)</td></tr><tr><td>7.0</td><td>311723</td><td>30913</td><td>285874</td><td>91.7077020303282</td><td>25849</td><td>8.292297969671791</td><td>google (12.4%)</td><td>weebly (4.0%)</td><td>tapestrynetworks (1.0%)</td></tr><tr><td>8.0</td><td>248426</td><td>31311</td><td>218466</td><td>87.94007068503296</td><td>29960</td><td>12.059929314967032</td><td>fujitsu (4.8%)</td><td>ipfs (3.2%)</td><td>walgreens (2.0%)</td></tr><tr><td>9.0</td><td>273325</td><td>31310</td><td>247994</td><td>90.73227842312266</td><td>25331</td><td>9.267721576877344</td><td>subway (2.2%)</td><td>blogspot (2.1%)</td><td>whatsapp (1.6%)</td></tr><tr><td>10.0</td><td>262820</td><td>31036</td><td>243280</td><td>92.56525378586105</td><td>19540</td><td>7.434746214138954</td><td>amazonaws (2.7%)</td><td>gitlab (1.2%)</td><td>azure (1.2%)</td></tr></tbody></table></div>"
      ]
     },
     "metadata": {
      "application/vnd.databricks.v1+output": {
       "addedWidgets": {},
       "aggData": [],
       "aggError": "",
       "aggOverflow": false,
       "aggSchema": [],
       "aggSeriesLimitReached": false,
       "aggType": "",
       "arguments": {},
       "columnCustomDisplayInfos": {},
       "data": [
        [
         1,
         296978,
         31015,
         273269,
         92.01658035275341,
         23709,
         7.983419647246598,
         "ravsend1 (8.2%)",
         "n-c4 (2.6%)",
         "canva (2.2%)"
        ],
        [
         2,
         289023,
         30998,
         258626,
         89.48284392591593,
         30397,
         10.517156074084069,
         "gstatic (9.0%)",
         "r2 (2.7%)",
         "farmersinsurance (2.6%)"
        ],
        [
         3,
         307560,
         30882,
         264309,
         85.9373780725712,
         43251,
         14.062621927428795,
         "box (5.8%)",
         "wordpress (5.0%)",
         "ru (3.2%)"
        ],
        [
         4,
         260281,
         31105,
         236487,
         90.85834156161994,
         23794,
         9.141658438380059,
         "bubbleapps (1.8%)",
         "vyaav (1.7%)",
         "live (1.4%)"
        ],
        [
         5,
         288840,
         30990,
         260775,
         90.28354798504363,
         28065,
         9.716452014956376,
         "163 (5.6%)",
         "wix (4.5%)",
         "de-index (2.1%)"
        ],
        [
         6,
         297071,
         31966,
         263351,
         88.6491781425989,
         33720,
         11.350821857401092,
         "googleapis (6.1%)",
         "amazonaws (3.6%)",
         "srv (1.0%)"
        ],
        [
         7,
         311723,
         30913,
         285874,
         91.7077020303282,
         25849,
         8.292297969671791,
         "google (12.4%)",
         "weebly (4.0%)",
         "tapestrynetworks (1.0%)"
        ],
        [
         8,
         248426,
         31311,
         218466,
         87.94007068503296,
         29960,
         12.059929314967032,
         "fujitsu (4.8%)",
         "ipfs (3.2%)",
         "walgreens (2.0%)"
        ],
        [
         9,
         273325,
         31310,
         247994,
         90.73227842312266,
         25331,
         9.267721576877344,
         "subway (2.2%)",
         "blogspot (2.1%)",
         "whatsapp (1.6%)"
        ],
        [
         10,
         262820,
         31036,
         243280,
         92.56525378586105,
         19540,
         7.434746214138954,
         "amazonaws (2.7%)",
         "gitlab (1.2%)",
         "azure (1.2%)"
        ]
       ],
       "datasetInfos": [],
       "dbfsResultPath": null,
       "isJsonSchema": true,
       "metadata": {},
       "overflow": false,
       "plotOptions": {
        "customPlotOptions": {},
        "displayType": "table",
        "pivotAggregation": null,
        "pivotColumns": null,
        "xColumns": null,
        "yColumns": null
       },
       "removedWidgets": [],
       "schema": [
        {
         "metadata": "{}",
         "name": "fold",
         "type": "\"double\""
        },
        {
         "metadata": "{}",
         "name": "total",
         "type": "\"long\""
        },
        {
         "metadata": "{}",
         "name": "unique_domains",
         "type": "\"long\""
        },
        {
         "metadata": "{}",
         "name": "benign",
         "type": "\"long\""
        },
        {
         "metadata": "{}",
         "name": "benign_pct",
         "type": "\"double\""
        },
        {
         "metadata": "{}",
         "name": "malicious",
         "type": "\"long\""
        },
        {
         "metadata": "{}",
         "name": "malicious_pct",
         "type": "\"double\""
        },
        {
         "metadata": "{}",
         "name": "top_1",
         "type": "\"string\""
        },
        {
         "metadata": "{}",
         "name": "top_2",
         "type": "\"string\""
        },
        {
         "metadata": "{}",
         "name": "top_3",
         "type": "\"string\""
        }
       ],
       "type": "table"
      }
     },
     "output_type": "display_data"
    },
    {
     "name": "stdout",
     "output_type": "stream",
     "text": [
      "=== joined ===\n"
     ]
    },
    {
     "data": {
      "text/html": [
       "<style scoped>\n",
       "  .table-result-container {\n",
       "    max-height: 300px;\n",
       "    overflow: auto;\n",
       "  }\n",
       "  table, th, td {\n",
       "    border: 1px solid black;\n",
       "    border-collapse: collapse;\n",
       "  }\n",
       "  th, td {\n",
       "    padding: 5px;\n",
       "  }\n",
       "  th {\n",
       "    text-align: left;\n",
       "  }\n",
       "</style><div class='table-result-container'><table class='table-result'><thead style='background-color: white'><tr><th>fold</th><th>total</th><th>unique_domains</th><th>benign</th><th>benign_pct</th><th>malicious</th><th>malicious_pct</th><th>top_1</th><th>top_2</th><th>top_3</th></tr></thead><tbody><tr><td>1.0</td><td>296978</td><td>31015</td><td>273269</td><td>92.01658035275341</td><td>23709</td><td>7.983419647246598</td><td>ravsend1 (8.2%)</td><td>n-c4 (2.6%)</td><td>canva (2.2%)</td></tr><tr><td>2.0</td><td>289023</td><td>30998</td><td>258626</td><td>89.48284392591593</td><td>30397</td><td>10.517156074084069</td><td>gstatic (9.0%)</td><td>r2 (2.7%)</td><td>farmersinsurance (2.6%)</td></tr><tr><td>3.0</td><td>307560</td><td>30882</td><td>264309</td><td>85.9373780725712</td><td>43251</td><td>14.062621927428795</td><td>box (5.8%)</td><td>wordpress (5.0%)</td><td>ru (3.2%)</td></tr><tr><td>4.0</td><td>260281</td><td>31105</td><td>236487</td><td>90.85834156161994</td><td>23794</td><td>9.141658438380059</td><td>bubbleapps (1.8%)</td><td>vyaav (1.7%)</td><td>live (1.4%)</td></tr><tr><td>5.0</td><td>288840</td><td>30990</td><td>260775</td><td>90.28354798504363</td><td>28065</td><td>9.716452014956376</td><td>163 (5.6%)</td><td>wix (4.5%)</td><td>de-index (2.1%)</td></tr><tr><td>6.0</td><td>297071</td><td>31966</td><td>263351</td><td>88.6491781425989</td><td>33720</td><td>11.350821857401092</td><td>googleapis (6.1%)</td><td>amazonaws (3.6%)</td><td>srv (1.0%)</td></tr><tr><td>7.0</td><td>311723</td><td>30913</td><td>285874</td><td>91.7077020303282</td><td>25849</td><td>8.292297969671791</td><td>google (12.4%)</td><td>weebly (4.0%)</td><td>tapestrynetworks (1.0%)</td></tr><tr><td>8.0</td><td>248426</td><td>31311</td><td>218466</td><td>87.94007068503296</td><td>29960</td><td>12.059929314967032</td><td>fujitsu (4.8%)</td><td>ipfs (3.2%)</td><td>walgreens (2.0%)</td></tr><tr><td>9.0</td><td>273325</td><td>31310</td><td>247994</td><td>90.73227842312266</td><td>25331</td><td>9.267721576877344</td><td>subway (2.2%)</td><td>blogspot (2.1%)</td><td>whatsapp (1.6%)</td></tr><tr><td>10.0</td><td>262820</td><td>31036</td><td>243280</td><td>92.56525378586105</td><td>19540</td><td>7.434746214138954</td><td>amazonaws (2.7%)</td><td>gitlab (1.2%)</td><td>azure (1.2%)</td></tr></tbody></table></div>"
      ]
     },
     "metadata": {
      "application/vnd.databricks.v1+output": {
       "addedWidgets": {},
       "aggData": [],
       "aggError": "",
       "aggOverflow": false,
       "aggSchema": [],
       "aggSeriesLimitReached": false,
       "aggType": "",
       "arguments": {},
       "columnCustomDisplayInfos": {},
       "data": [
        [
         1,
         296978,
         31015,
         273269,
         92.01658035275341,
         23709,
         7.983419647246598,
         "ravsend1 (8.2%)",
         "n-c4 (2.6%)",
         "canva (2.2%)"
        ],
        [
         2,
         289023,
         30998,
         258626,
         89.48284392591593,
         30397,
         10.517156074084069,
         "gstatic (9.0%)",
         "r2 (2.7%)",
         "farmersinsurance (2.6%)"
        ],
        [
         3,
         307560,
         30882,
         264309,
         85.9373780725712,
         43251,
         14.062621927428795,
         "box (5.8%)",
         "wordpress (5.0%)",
         "ru (3.2%)"
        ],
        [
         4,
         260281,
         31105,
         236487,
         90.85834156161994,
         23794,
         9.141658438380059,
         "bubbleapps (1.8%)",
         "vyaav (1.7%)",
         "live (1.4%)"
        ],
        [
         5,
         288840,
         30990,
         260775,
         90.28354798504363,
         28065,
         9.716452014956376,
         "163 (5.6%)",
         "wix (4.5%)",
         "de-index (2.1%)"
        ],
        [
         6,
         297071,
         31966,
         263351,
         88.6491781425989,
         33720,
         11.350821857401092,
         "googleapis (6.1%)",
         "amazonaws (3.6%)",
         "srv (1.0%)"
        ],
        [
         7,
         311723,
         30913,
         285874,
         91.7077020303282,
         25849,
         8.292297969671791,
         "google (12.4%)",
         "weebly (4.0%)",
         "tapestrynetworks (1.0%)"
        ],
        [
         8,
         248426,
         31311,
         218466,
         87.94007068503296,
         29960,
         12.059929314967032,
         "fujitsu (4.8%)",
         "ipfs (3.2%)",
         "walgreens (2.0%)"
        ],
        [
         9,
         273325,
         31310,
         247994,
         90.73227842312266,
         25331,
         9.267721576877344,
         "subway (2.2%)",
         "blogspot (2.1%)",
         "whatsapp (1.6%)"
        ],
        [
         10,
         262820,
         31036,
         243280,
         92.56525378586105,
         19540,
         7.434746214138954,
         "amazonaws (2.7%)",
         "gitlab (1.2%)",
         "azure (1.2%)"
        ]
       ],
       "datasetInfos": [],
       "dbfsResultPath": null,
       "isJsonSchema": true,
       "metadata": {},
       "overflow": false,
       "plotOptions": {
        "customPlotOptions": {},
        "displayType": "table",
        "pivotAggregation": null,
        "pivotColumns": null,
        "xColumns": null,
        "yColumns": null
       },
       "removedWidgets": [],
       "schema": [
        {
         "metadata": "{}",
         "name": "fold",
         "type": "\"double\""
        },
        {
         "metadata": "{}",
         "name": "total",
         "type": "\"long\""
        },
        {
         "metadata": "{}",
         "name": "unique_domains",
         "type": "\"long\""
        },
        {
         "metadata": "{}",
         "name": "benign",
         "type": "\"long\""
        },
        {
         "metadata": "{}",
         "name": "benign_pct",
         "type": "\"double\""
        },
        {
         "metadata": "{}",
         "name": "malicious",
         "type": "\"long\""
        },
        {
         "metadata": "{}",
         "name": "malicious_pct",
         "type": "\"double\""
        },
        {
         "metadata": "{}",
         "name": "top_1",
         "type": "\"string\""
        },
        {
         "metadata": "{}",
         "name": "top_2",
         "type": "\"string\""
        },
        {
         "metadata": "{}",
         "name": "top_3",
         "type": "\"string\""
        }
       ],
       "type": "table"
      }
     },
     "output_type": "display_data"
    },
    {
     "name": "stdout",
     "output_type": "stream",
     "text": [
      "=== private_data ===\n"
     ]
    },
    {
     "data": {
      "text/html": [
       "<style scoped>\n",
       "  .table-result-container {\n",
       "    max-height: 300px;\n",
       "    overflow: auto;\n",
       "  }\n",
       "  table, th, td {\n",
       "    border: 1px solid black;\n",
       "    border-collapse: collapse;\n",
       "  }\n",
       "  th, td {\n",
       "    padding: 5px;\n",
       "  }\n",
       "  th {\n",
       "    text-align: left;\n",
       "  }\n",
       "</style><div class='table-result-container'><table class='table-result'><thead style='background-color: white'><tr><th>fold</th><th>total</th><th>unique_domains</th><th>benign</th><th>benign_pct</th><th>malicious</th><th>malicious_pct</th><th>top_1</th><th>top_2</th><th>top_3</th></tr></thead><tbody><tr><td>1.0</td><td>296978</td><td>31015</td><td>273269</td><td>92.01658035275341</td><td>23709</td><td>7.983419647246598</td><td>ravsend1 (8.2%)</td><td>n-c4 (2.6%)</td><td>canva (2.2%)</td></tr><tr><td>2.0</td><td>289023</td><td>30998</td><td>258626</td><td>89.48284392591593</td><td>30397</td><td>10.517156074084069</td><td>gstatic (9.0%)</td><td>r2 (2.7%)</td><td>farmersinsurance (2.6%)</td></tr><tr><td>3.0</td><td>307560</td><td>30882</td><td>264309</td><td>85.9373780725712</td><td>43251</td><td>14.062621927428795</td><td>box (5.8%)</td><td>wordpress (5.0%)</td><td>ru (3.2%)</td></tr><tr><td>4.0</td><td>260281</td><td>31105</td><td>236487</td><td>90.85834156161994</td><td>23794</td><td>9.141658438380059</td><td>bubbleapps (1.8%)</td><td>vyaav (1.7%)</td><td>live (1.4%)</td></tr><tr><td>5.0</td><td>288840</td><td>30990</td><td>260775</td><td>90.28354798504363</td><td>28065</td><td>9.716452014956376</td><td>163 (5.6%)</td><td>wix (4.5%)</td><td>de-index (2.1%)</td></tr><tr><td>6.0</td><td>297071</td><td>31966</td><td>263351</td><td>88.6491781425989</td><td>33720</td><td>11.350821857401092</td><td>googleapis (6.1%)</td><td>amazonaws (3.6%)</td><td>srv (1.0%)</td></tr><tr><td>7.0</td><td>311723</td><td>30913</td><td>285874</td><td>91.7077020303282</td><td>25849</td><td>8.292297969671791</td><td>google (12.4%)</td><td>weebly (4.0%)</td><td>tapestrynetworks (1.0%)</td></tr><tr><td>8.0</td><td>248426</td><td>31311</td><td>218466</td><td>87.94007068503296</td><td>29960</td><td>12.059929314967032</td><td>fujitsu (4.8%)</td><td>ipfs (3.2%)</td><td>walgreens (2.0%)</td></tr><tr><td>9.0</td><td>273325</td><td>31310</td><td>247994</td><td>90.73227842312266</td><td>25331</td><td>9.267721576877344</td><td>subway (2.2%)</td><td>blogspot (2.1%)</td><td>whatsapp (1.6%)</td></tr><tr><td>10.0</td><td>262820</td><td>31036</td><td>243280</td><td>92.56525378586105</td><td>19540</td><td>7.434746214138954</td><td>amazonaws (2.7%)</td><td>gitlab (1.2%)</td><td>azure (1.2%)</td></tr></tbody></table></div>"
      ]
     },
     "metadata": {
      "application/vnd.databricks.v1+output": {
       "addedWidgets": {},
       "aggData": [],
       "aggError": "",
       "aggOverflow": false,
       "aggSchema": [],
       "aggSeriesLimitReached": false,
       "aggType": "",
       "arguments": {},
       "columnCustomDisplayInfos": {},
       "data": [
        [
         1,
         296978,
         31015,
         273269,
         92.01658035275341,
         23709,
         7.983419647246598,
         "ravsend1 (8.2%)",
         "n-c4 (2.6%)",
         "canva (2.2%)"
        ],
        [
         2,
         289023,
         30998,
         258626,
         89.48284392591593,
         30397,
         10.517156074084069,
         "gstatic (9.0%)",
         "r2 (2.7%)",
         "farmersinsurance (2.6%)"
        ],
        [
         3,
         307560,
         30882,
         264309,
         85.9373780725712,
         43251,
         14.062621927428795,
         "box (5.8%)",
         "wordpress (5.0%)",
         "ru (3.2%)"
        ],
        [
         4,
         260281,
         31105,
         236487,
         90.85834156161994,
         23794,
         9.141658438380059,
         "bubbleapps (1.8%)",
         "vyaav (1.7%)",
         "live (1.4%)"
        ],
        [
         5,
         288840,
         30990,
         260775,
         90.28354798504363,
         28065,
         9.716452014956376,
         "163 (5.6%)",
         "wix (4.5%)",
         "de-index (2.1%)"
        ],
        [
         6,
         297071,
         31966,
         263351,
         88.6491781425989,
         33720,
         11.350821857401092,
         "googleapis (6.1%)",
         "amazonaws (3.6%)",
         "srv (1.0%)"
        ],
        [
         7,
         311723,
         30913,
         285874,
         91.7077020303282,
         25849,
         8.292297969671791,
         "google (12.4%)",
         "weebly (4.0%)",
         "tapestrynetworks (1.0%)"
        ],
        [
         8,
         248426,
         31311,
         218466,
         87.94007068503296,
         29960,
         12.059929314967032,
         "fujitsu (4.8%)",
         "ipfs (3.2%)",
         "walgreens (2.0%)"
        ],
        [
         9,
         273325,
         31310,
         247994,
         90.73227842312266,
         25331,
         9.267721576877344,
         "subway (2.2%)",
         "blogspot (2.1%)",
         "whatsapp (1.6%)"
        ],
        [
         10,
         262820,
         31036,
         243280,
         92.56525378586105,
         19540,
         7.434746214138954,
         "amazonaws (2.7%)",
         "gitlab (1.2%)",
         "azure (1.2%)"
        ]
       ],
       "datasetInfos": [],
       "dbfsResultPath": null,
       "isJsonSchema": true,
       "metadata": {},
       "overflow": false,
       "plotOptions": {
        "customPlotOptions": {},
        "displayType": "table",
        "pivotAggregation": null,
        "pivotColumns": null,
        "xColumns": null,
        "yColumns": null
       },
       "removedWidgets": [],
       "schema": [
        {
         "metadata": "{}",
         "name": "fold",
         "type": "\"double\""
        },
        {
         "metadata": "{}",
         "name": "total",
         "type": "\"long\""
        },
        {
         "metadata": "{}",
         "name": "unique_domains",
         "type": "\"long\""
        },
        {
         "metadata": "{}",
         "name": "benign",
         "type": "\"long\""
        },
        {
         "metadata": "{}",
         "name": "benign_pct",
         "type": "\"double\""
        },
        {
         "metadata": "{}",
         "name": "malicious",
         "type": "\"long\""
        },
        {
         "metadata": "{}",
         "name": "malicious_pct",
         "type": "\"double\""
        },
        {
         "metadata": "{}",
         "name": "top_1",
         "type": "\"string\""
        },
        {
         "metadata": "{}",
         "name": "top_2",
         "type": "\"string\""
        },
        {
         "metadata": "{}",
         "name": "top_3",
         "type": "\"string\""
        }
       ],
       "type": "table"
      }
     },
     "output_type": "display_data"
    }
   ],
   "source": [
    "all_datasets_copy = []\n",
    "for dataset_name in dataset_names:\n",
    "    print(f\"=== {dataset_name} ===\")\n",
    "    display(analyze_folds(dataset))"
   ]
  },
  {
   "cell_type": "markdown",
   "metadata": {
    "application/vnd.databricks.v1+cell": {
     "cellMetadata": {
      "byteLimit": 2048000,
      "rowLimit": 10000
     },
     "inputWidgets": {},
     "nuid": "e78c487b-9d20-43c7-904c-a960ce9f1bd2",
     "showTitle": false,
     "tableResultSettingsMap": {},
     "title": ""
    }
   },
   "source": [
    "# String analysis"
   ]
  },
  {
   "cell_type": "code",
   "execution_count": 0,
   "metadata": {
    "application/vnd.databricks.v1+cell": {
     "cellMetadata": {
      "byteLimit": 2048000,
      "rowLimit": 10000
     },
     "inputWidgets": {},
     "nuid": "7da3bff4-8b67-420c-aab8-7c5cbaf778d0",
     "showTitle": false,
     "tableResultSettingsMap": {},
     "title": ""
    }
   },
   "outputs": [],
   "source": [
    "from utils.url_features import extract_all_vec"
   ]
  },
  {
   "cell_type": "code",
   "execution_count": 0,
   "metadata": {
    "application/vnd.databricks.v1+cell": {
     "cellMetadata": {
      "byteLimit": 2048000,
      "rowLimit": 10000
     },
     "inputWidgets": {},
     "nuid": "c428f4fa-6091-4062-ac6c-73f7b4198bc5",
     "showTitle": false,
     "tableResultSettingsMap": {},
     "title": ""
    }
   },
   "outputs": [],
   "source": [
    "pd.set_option(\"display.max_columns\", None)"
   ]
  },
  {
   "cell_type": "code",
   "execution_count": 0,
   "metadata": {
    "application/vnd.databricks.v1+cell": {
     "cellMetadata": {
      "byteLimit": 2048000,
      "rowLimit": 10000
     },
     "inputWidgets": {},
     "nuid": "7f3dd54c-f77a-4435-b05d-032f74433226",
     "showTitle": false,
     "tableResultSettingsMap": {},
     "title": ""
    }
   },
   "outputs": [
    {
     "data": {
      "text/html": [
       "<div>\n",
       "<style scoped>\n",
       "    .dataframe tbody tr th:only-of-type {\n",
       "        vertical-align: middle;\n",
       "    }\n",
       "\n",
       "    .dataframe tbody tr th {\n",
       "        vertical-align: top;\n",
       "    }\n",
       "\n",
       "    .dataframe thead th {\n",
       "        text-align: right;\n",
       "    }\n",
       "</style>\n",
       "<table border=\"1\" class=\"dataframe\">\n",
       "  <thead>\n",
       "    <tr style=\"text-align: right;\">\n",
       "      <th></th>\n",
       "      <th></th>\n",
       "      <th>fold</th>\n",
       "      <th>num_semicolons</th>\n",
       "      <th>num_underscores</th>\n",
       "      <th>num_question_marks</th>\n",
       "      <th>num_equals</th>\n",
       "      <th>num_ampersands</th>\n",
       "      <th>length</th>\n",
       "      <th>num_digits</th>\n",
       "      <th>non_alnum_cnt</th>\n",
       "      <th>hyphen_cnt</th>\n",
       "      <th>at_cnt</th>\n",
       "      <th>digit_letter_ratio</th>\n",
       "      <th>urlentropy</th>\n",
       "      <th>urlkolmogorov_complexity_cplx</th>\n",
       "      <th>sld_contains_ip</th>\n",
       "      <th>sld_length</th>\n",
       "      <th>sld_num_digits</th>\n",
       "      <th>sld_non_alnum_cnt</th>\n",
       "      <th>sld_hyphen_cnt</th>\n",
       "      <th>sld_at_cnt</th>\n",
       "      <th>tld_is_suspicious</th>\n",
       "      <th>subdomain_dot_cnt</th>\n",
       "      <th>num_subdomains</th>\n",
       "      <th>path_double_slash_cnt</th>\n",
       "      <th>path_subdir_cnt</th>\n",
       "      <th>path_contains_%20</th>\n",
       "      <th>path_has_upper_dirs</th>\n",
       "      <th>path_has_singlechar_dir</th>\n",
       "      <th>path_special_char_cnt</th>\n",
       "      <th>path_zero_cnt</th>\n",
       "      <th>path_upper_lower_ratio</th>\n",
       "      <th>query_total_len</th>\n",
       "      <th>query_cnt</th>\n",
       "      <th>query_var_cnt</th>\n",
       "      <th>kw_login</th>\n",
       "      <th>kw_secure</th>\n",
       "      <th>kw_cmd</th>\n",
       "      <th>kw_redirect</th>\n",
       "      <th>kw_confirm</th>\n",
       "      <th>kw_update</th>\n",
       "      <th>kw_verify</th>\n",
       "      <th>kw_account</th>\n",
       "      <th>kw_bank</th>\n",
       "      <th>kw_challenge</th>\n",
       "    </tr>\n",
       "    <tr>\n",
       "      <th>dataset</th>\n",
       "      <th>label</th>\n",
       "      <th></th>\n",
       "      <th></th>\n",
       "      <th></th>\n",
       "      <th></th>\n",
       "      <th></th>\n",
       "      <th></th>\n",
       "      <th></th>\n",
       "      <th></th>\n",
       "      <th></th>\n",
       "      <th></th>\n",
       "      <th></th>\n",
       "      <th></th>\n",
       "      <th></th>\n",
       "      <th></th>\n",
       "      <th></th>\n",
       "      <th></th>\n",
       "      <th></th>\n",
       "      <th></th>\n",
       "      <th></th>\n",
       "      <th></th>\n",
       "      <th></th>\n",
       "      <th></th>\n",
       "      <th></th>\n",
       "      <th></th>\n",
       "      <th></th>\n",
       "      <th></th>\n",
       "      <th></th>\n",
       "      <th></th>\n",
       "      <th></th>\n",
       "      <th></th>\n",
       "      <th></th>\n",
       "      <th></th>\n",
       "      <th></th>\n",
       "      <th></th>\n",
       "      <th></th>\n",
       "      <th></th>\n",
       "      <th></th>\n",
       "      <th></th>\n",
       "      <th></th>\n",
       "      <th></th>\n",
       "      <th></th>\n",
       "      <th></th>\n",
       "      <th></th>\n",
       "      <th></th>\n",
       "    </tr>\n",
       "  </thead>\n",
       "  <tbody>\n",
       "    <tr>\n",
       "      <th rowspan=\"2\" valign=\"top\">private_data</th>\n",
       "      <th>benign</th>\n",
       "      <td>5.417176</td>\n",
       "      <td>0.206269</td>\n",
       "      <td>1.536730</td>\n",
       "      <td>0.466315</td>\n",
       "      <td>1.479172</td>\n",
       "      <td>0.945545</td>\n",
       "      <td>186.473079</td>\n",
       "      <td>38.720126</td>\n",
       "      <td>17.599489</td>\n",
       "      <td>2.516188</td>\n",
       "      <td>0.086787</td>\n",
       "      <td>0.345672</td>\n",
       "      <td>4.898869</td>\n",
       "      <td>0.972120</td>\n",
       "      <td>0.060965</td>\n",
       "      <td>10.321958</td>\n",
       "      <td>0.537801</td>\n",
       "      <td>0.285746</td>\n",
       "      <td>0.162568</td>\n",
       "      <td>0.0</td>\n",
       "      <td>0.016585</td>\n",
       "      <td>0.224906</td>\n",
       "      <td>0.909880</td>\n",
       "      <td>0.028937</td>\n",
       "      <td>3.942046</td>\n",
       "      <td>0.026570</td>\n",
       "      <td>0.265400</td>\n",
       "      <td>0.193531</td>\n",
       "      <td>4.871545</td>\n",
       "      <td>1.679769</td>\n",
       "      <td>0.192618</td>\n",
       "      <td>91.472458</td>\n",
       "      <td>1.302387</td>\n",
       "      <td>1.285247</td>\n",
       "      <td>0.017450</td>\n",
       "      <td>0.005305</td>\n",
       "      <td>0.001524</td>\n",
       "      <td>0.002342</td>\n",
       "      <td>0.005832</td>\n",
       "      <td>0.008339</td>\n",
       "      <td>0.003020</td>\n",
       "      <td>0.007211</td>\n",
       "      <td>0.008540</td>\n",
       "      <td>0.002596</td>\n",
       "    </tr>\n",
       "    <tr>\n",
       "      <th>malicious</th>\n",
       "      <td>5.275016</td>\n",
       "      <td>0.066435</td>\n",
       "      <td>0.831117</td>\n",
       "      <td>0.663171</td>\n",
       "      <td>1.132813</td>\n",
       "      <td>0.494122</td>\n",
       "      <td>121.641801</td>\n",
       "      <td>18.904332</td>\n",
       "      <td>12.817718</td>\n",
       "      <td>1.947464</td>\n",
       "      <td>0.376717</td>\n",
       "      <td>0.218079</td>\n",
       "      <td>4.715502</td>\n",
       "      <td>1.045433</td>\n",
       "      <td>0.058385</td>\n",
       "      <td>10.168703</td>\n",
       "      <td>0.583578</td>\n",
       "      <td>0.286807</td>\n",
       "      <td>0.164592</td>\n",
       "      <td>0.0</td>\n",
       "      <td>0.039102</td>\n",
       "      <td>0.078701</td>\n",
       "      <td>0.484345</td>\n",
       "      <td>0.010031</td>\n",
       "      <td>3.277252</td>\n",
       "      <td>0.006174</td>\n",
       "      <td>0.197905</td>\n",
       "      <td>0.086776</td>\n",
       "      <td>4.205256</td>\n",
       "      <td>1.237335</td>\n",
       "      <td>0.121433</td>\n",
       "      <td>43.660460</td>\n",
       "      <td>1.048795</td>\n",
       "      <td>1.026575</td>\n",
       "      <td>0.054256</td>\n",
       "      <td>0.006241</td>\n",
       "      <td>0.000018</td>\n",
       "      <td>0.000194</td>\n",
       "      <td>0.000899</td>\n",
       "      <td>0.014213</td>\n",
       "      <td>0.000610</td>\n",
       "      <td>0.007450</td>\n",
       "      <td>0.005631</td>\n",
       "      <td>0.006960</td>\n",
       "    </tr>\n",
       "    <tr>\n",
       "      <th rowspan=\"2\" valign=\"top\">grambeddings</th>\n",
       "      <th>benign</th>\n",
       "      <td>2.063105</td>\n",
       "      <td>0.034115</td>\n",
       "      <td>0.108946</td>\n",
       "      <td>0.066740</td>\n",
       "      <td>0.120593</td>\n",
       "      <td>0.052733</td>\n",
       "      <td>46.430752</td>\n",
       "      <td>1.822514</td>\n",
       "      <td>8.683673</td>\n",
       "      <td>1.119306</td>\n",
       "      <td>0.000548</td>\n",
       "      <td>0.047662</td>\n",
       "      <td>4.099045</td>\n",
       "      <td>1.166744</td>\n",
       "      <td>0.000533</td>\n",
       "      <td>10.585520</td>\n",
       "      <td>0.108393</td>\n",
       "      <td>0.112743</td>\n",
       "      <td>0.112448</td>\n",
       "      <td>0.0</td>\n",
       "      <td>0.001735</td>\n",
       "      <td>0.034105</td>\n",
       "      <td>0.646966</td>\n",
       "      <td>0.001680</td>\n",
       "      <td>1.410447</td>\n",
       "      <td>0.003235</td>\n",
       "      <td>0.042973</td>\n",
       "      <td>0.019843</td>\n",
       "      <td>1.238669</td>\n",
       "      <td>0.226879</td>\n",
       "      <td>0.022053</td>\n",
       "      <td>2.114898</td>\n",
       "      <td>0.118168</td>\n",
       "      <td>0.116893</td>\n",
       "      <td>0.005410</td>\n",
       "      <td>0.000723</td>\n",
       "      <td>0.000053</td>\n",
       "      <td>0.000285</td>\n",
       "      <td>0.000090</td>\n",
       "      <td>0.001368</td>\n",
       "      <td>0.000028</td>\n",
       "      <td>0.002363</td>\n",
       "      <td>0.002273</td>\n",
       "      <td>0.000578</td>\n",
       "    </tr>\n",
       "    <tr>\n",
       "      <th>malicious</th>\n",
       "      <td>1.936899</td>\n",
       "      <td>0.031403</td>\n",
       "      <td>0.289839</td>\n",
       "      <td>0.235098</td>\n",
       "      <td>0.587947</td>\n",
       "      <td>0.321589</td>\n",
       "      <td>86.209255</td>\n",
       "      <td>14.981677</td>\n",
       "      <td>11.827613</td>\n",
       "      <td>0.976727</td>\n",
       "      <td>0.032475</td>\n",
       "      <td>0.203287</td>\n",
       "      <td>4.457297</td>\n",
       "      <td>1.042118</td>\n",
       "      <td>0.033575</td>\n",
       "      <td>11.657386</td>\n",
       "      <td>0.692244</td>\n",
       "      <td>0.292334</td>\n",
       "      <td>0.224385</td>\n",
       "      <td>0.0</td>\n",
       "      <td>0.071766</td>\n",
       "      <td>0.249003</td>\n",
       "      <td>0.743292</td>\n",
       "      <td>0.000960</td>\n",
       "      <td>2.864058</td>\n",
       "      <td>0.022123</td>\n",
       "      <td>0.249761</td>\n",
       "      <td>0.049041</td>\n",
       "      <td>1.412730</td>\n",
       "      <td>0.640258</td>\n",
       "      <td>0.091924</td>\n",
       "      <td>20.761597</td>\n",
       "      <td>0.512416</td>\n",
       "      <td>0.498764</td>\n",
       "      <td>0.173620</td>\n",
       "      <td>0.053378</td>\n",
       "      <td>0.051198</td>\n",
       "      <td>0.000155</td>\n",
       "      <td>0.017360</td>\n",
       "      <td>0.031270</td>\n",
       "      <td>0.016013</td>\n",
       "      <td>0.070691</td>\n",
       "      <td>0.070201</td>\n",
       "      <td>0.005900</td>\n",
       "    </tr>\n",
       "    <tr>\n",
       "      <th rowspan=\"2\" valign=\"top\">joined</th>\n",
       "      <th>benign</th>\n",
       "      <td>1.982214</td>\n",
       "      <td>0.021118</td>\n",
       "      <td>0.150568</td>\n",
       "      <td>0.054690</td>\n",
       "      <td>0.088270</td>\n",
       "      <td>0.034376</td>\n",
       "      <td>41.008294</td>\n",
       "      <td>1.332135</td>\n",
       "      <td>7.954491</td>\n",
       "      <td>0.513870</td>\n",
       "      <td>0.000422</td>\n",
       "      <td>0.035490</td>\n",
       "      <td>4.034610</td>\n",
       "      <td>1.203029</td>\n",
       "      <td>0.000400</td>\n",
       "      <td>9.900511</td>\n",
       "      <td>0.059454</td>\n",
       "      <td>0.079813</td>\n",
       "      <td>0.079759</td>\n",
       "      <td>0.0</td>\n",
       "      <td>0.000339</td>\n",
       "      <td>0.080945</td>\n",
       "      <td>0.968697</td>\n",
       "      <td>0.000622</td>\n",
       "      <td>1.157798</td>\n",
       "      <td>0.002493</td>\n",
       "      <td>0.045605</td>\n",
       "      <td>0.018957</td>\n",
       "      <td>0.839404</td>\n",
       "      <td>0.188122</td>\n",
       "      <td>0.014288</td>\n",
       "      <td>1.379167</td>\n",
       "      <td>0.088292</td>\n",
       "      <td>0.087847</td>\n",
       "      <td>0.001071</td>\n",
       "      <td>0.000303</td>\n",
       "      <td>0.000072</td>\n",
       "      <td>0.000056</td>\n",
       "      <td>0.000042</td>\n",
       "      <td>0.000471</td>\n",
       "      <td>0.000010</td>\n",
       "      <td>0.000867</td>\n",
       "      <td>0.002136</td>\n",
       "      <td>0.000307</td>\n",
       "    </tr>\n",
       "    <tr>\n",
       "      <th>malicious</th>\n",
       "      <td>2.057574</td>\n",
       "      <td>0.056441</td>\n",
       "      <td>0.259104</td>\n",
       "      <td>0.204750</td>\n",
       "      <td>0.510412</td>\n",
       "      <td>0.298679</td>\n",
       "      <td>73.544862</td>\n",
       "      <td>11.056770</td>\n",
       "      <td>10.717800</td>\n",
       "      <td>0.834539</td>\n",
       "      <td>0.024462</td>\n",
       "      <td>0.186294</td>\n",
       "      <td>4.335705</td>\n",
       "      <td>1.089494</td>\n",
       "      <td>0.046971</td>\n",
       "      <td>11.269836</td>\n",
       "      <td>0.723233</td>\n",
       "      <td>0.319205</td>\n",
       "      <td>0.203943</td>\n",
       "      <td>0.0</td>\n",
       "      <td>0.048808</td>\n",
       "      <td>0.188560</td>\n",
       "      <td>0.703578</td>\n",
       "      <td>0.001544</td>\n",
       "      <td>2.579314</td>\n",
       "      <td>0.015869</td>\n",
       "      <td>0.205531</td>\n",
       "      <td>0.039920</td>\n",
       "      <td>1.486091</td>\n",
       "      <td>0.500798</td>\n",
       "      <td>0.082606</td>\n",
       "      <td>16.300647</td>\n",
       "      <td>0.467911</td>\n",
       "      <td>0.456647</td>\n",
       "      <td>0.124321</td>\n",
       "      <td>0.038553</td>\n",
       "      <td>0.034361</td>\n",
       "      <td>0.000208</td>\n",
       "      <td>0.012325</td>\n",
       "      <td>0.024579</td>\n",
       "      <td>0.012145</td>\n",
       "      <td>0.048939</td>\n",
       "      <td>0.045042</td>\n",
       "      <td>0.003642</td>\n",
       "    </tr>\n",
       "    <tr>\n",
       "      <th rowspan=\"2\" valign=\"top\">kaggle_binary</th>\n",
       "      <th>benign</th>\n",
       "      <td>1.953755</td>\n",
       "      <td>0.005341</td>\n",
       "      <td>0.454590</td>\n",
       "      <td>0.136821</td>\n",
       "      <td>0.212694</td>\n",
       "      <td>0.075952</td>\n",
       "      <td>58.296684</td>\n",
       "      <td>3.263119</td>\n",
       "      <td>10.458403</td>\n",
       "      <td>1.450230</td>\n",
       "      <td>0.000661</td>\n",
       "      <td>0.072222</td>\n",
       "      <td>4.318284</td>\n",
       "      <td>1.109562</td>\n",
       "      <td>0.000930</td>\n",
       "      <td>9.512525</td>\n",
       "      <td>0.066295</td>\n",
       "      <td>0.048455</td>\n",
       "      <td>0.048455</td>\n",
       "      <td>0.0</td>\n",
       "      <td>0.000019</td>\n",
       "      <td>0.220321</td>\n",
       "      <td>1.219262</td>\n",
       "      <td>0.000051</td>\n",
       "      <td>2.021549</td>\n",
       "      <td>0.006925</td>\n",
       "      <td>0.262155</td>\n",
       "      <td>0.056310</td>\n",
       "      <td>2.229573</td>\n",
       "      <td>0.479779</td>\n",
       "      <td>0.071269</td>\n",
       "      <td>3.204407</td>\n",
       "      <td>0.211486</td>\n",
       "      <td>0.210516</td>\n",
       "      <td>0.000269</td>\n",
       "      <td>0.000240</td>\n",
       "      <td>0.000098</td>\n",
       "      <td>0.000016</td>\n",
       "      <td>0.000133</td>\n",
       "      <td>0.000809</td>\n",
       "      <td>0.000006</td>\n",
       "      <td>0.000579</td>\n",
       "      <td>0.003997</td>\n",
       "      <td>0.000443</td>\n",
       "    </tr>\n",
       "    <tr>\n",
       "      <th>malicious</th>\n",
       "      <td>2.061235</td>\n",
       "      <td>0.107413</td>\n",
       "      <td>0.229921</td>\n",
       "      <td>0.182431</td>\n",
       "      <td>0.451016</td>\n",
       "      <td>0.300285</td>\n",
       "      <td>57.799303</td>\n",
       "      <td>6.011641</td>\n",
       "      <td>9.326434</td>\n",
       "      <td>0.594303</td>\n",
       "      <td>0.015154</td>\n",
       "      <td>0.181537</td>\n",
       "      <td>4.185927</td>\n",
       "      <td>1.149879</td>\n",
       "      <td>0.075197</td>\n",
       "      <td>10.496836</td>\n",
       "      <td>0.854822</td>\n",
       "      <td>0.321880</td>\n",
       "      <td>0.113212</td>\n",
       "      <td>0.0</td>\n",
       "      <td>0.016720</td>\n",
       "      <td>0.109763</td>\n",
       "      <td>0.595690</td>\n",
       "      <td>0.002779</td>\n",
       "      <td>2.376478</td>\n",
       "      <td>0.007921</td>\n",
       "      <td>0.163515</td>\n",
       "      <td>0.028945</td>\n",
       "      <td>1.737847</td>\n",
       "      <td>0.332846</td>\n",
       "      <td>0.079950</td>\n",
       "      <td>11.159982</td>\n",
       "      <td>0.457329</td>\n",
       "      <td>0.448492</td>\n",
       "      <td>0.061389</td>\n",
       "      <td>0.019716</td>\n",
       "      <td>0.010704</td>\n",
       "      <td>0.000321</td>\n",
       "      <td>0.005562</td>\n",
       "      <td>0.017029</td>\n",
       "      <td>0.007475</td>\n",
       "      <td>0.019724</td>\n",
       "      <td>0.008925</td>\n",
       "      <td>0.000379</td>\n",
       "    </tr>\n",
       "    <tr>\n",
       "      <th rowspan=\"3\" valign=\"top\">kaggle_multiple</th>\n",
       "      <th>benign</th>\n",
       "      <td>1.992555</td>\n",
       "      <td>0.043640</td>\n",
       "      <td>0.474353</td>\n",
       "      <td>0.180863</td>\n",
       "      <td>0.322219</td>\n",
       "      <td>0.147035</td>\n",
       "      <td>57.686216</td>\n",
       "      <td>5.603407</td>\n",
       "      <td>8.506421</td>\n",
       "      <td>1.835612</td>\n",
       "      <td>0.001535</td>\n",
       "      <td>0.114005</td>\n",
       "      <td>4.209618</td>\n",
       "      <td>1.135485</td>\n",
       "      <td>0.001354</td>\n",
       "      <td>9.434148</td>\n",
       "      <td>0.090146</td>\n",
       "      <td>0.055217</td>\n",
       "      <td>0.053501</td>\n",
       "      <td>0.0</td>\n",
       "      <td>0.001626</td>\n",
       "      <td>0.111342</td>\n",
       "      <td>0.378843</td>\n",
       "      <td>0.001748</td>\n",
       "      <td>3.133035</td>\n",
       "      <td>0.007611</td>\n",
       "      <td>0.239801</td>\n",
       "      <td>0.054263</td>\n",
       "      <td>4.038054</td>\n",
       "      <td>0.591447</td>\n",
       "      <td>0.036985</td>\n",
       "      <td>7.842088</td>\n",
       "      <td>0.312451</td>\n",
       "      <td>0.310087</td>\n",
       "      <td>0.036577</td>\n",
       "      <td>0.008046</td>\n",
       "      <td>0.009657</td>\n",
       "      <td>0.000029</td>\n",
       "      <td>0.003543</td>\n",
       "      <td>0.006283</td>\n",
       "      <td>0.000823</td>\n",
       "      <td>0.007553</td>\n",
       "      <td>0.006797</td>\n",
       "      <td>0.000490</td>\n",
       "    </tr>\n",
       "    <tr>\n",
       "      <th>malware</th>\n",
       "      <td>2.111683</td>\n",
       "      <td>0.003288</td>\n",
       "      <td>0.128971</td>\n",
       "      <td>0.058652</td>\n",
       "      <td>0.168585</td>\n",
       "      <td>0.108978</td>\n",
       "      <td>46.554330</td>\n",
       "      <td>11.070372</td>\n",
       "      <td>9.397253</td>\n",
       "      <td>0.349207</td>\n",
       "      <td>0.001432</td>\n",
       "      <td>0.775615</td>\n",
       "      <td>4.219710</td>\n",
       "      <td>1.172931</td>\n",
       "      <td>0.498966</td>\n",
       "      <td>10.578830</td>\n",
       "      <td>5.333192</td>\n",
       "      <td>1.510633</td>\n",
       "      <td>0.018985</td>\n",
       "      <td>0.0</td>\n",
       "      <td>0.010871</td>\n",
       "      <td>0.032137</td>\n",
       "      <td>0.256563</td>\n",
       "      <td>0.002811</td>\n",
       "      <td>1.759082</td>\n",
       "      <td>0.004030</td>\n",
       "      <td>0.330699</td>\n",
       "      <td>0.020894</td>\n",
       "      <td>1.200350</td>\n",
       "      <td>0.395980</td>\n",
       "      <td>0.303508</td>\n",
       "      <td>2.937265</td>\n",
       "      <td>0.161532</td>\n",
       "      <td>0.161160</td>\n",
       "      <td>0.002068</td>\n",
       "      <td>0.003129</td>\n",
       "      <td>0.000212</td>\n",
       "      <td>0.000000</td>\n",
       "      <td>0.000159</td>\n",
       "      <td>0.002121</td>\n",
       "      <td>0.000053</td>\n",
       "      <td>0.001326</td>\n",
       "      <td>0.000583</td>\n",
       "      <td>0.000000</td>\n",
       "    </tr>\n",
       "    <tr>\n",
       "      <th>phishing</th>\n",
       "      <td>2.007799</td>\n",
       "      <td>0.065762</td>\n",
       "      <td>0.156691</td>\n",
       "      <td>0.098037</td>\n",
       "      <td>0.184481</td>\n",
       "      <td>0.089026</td>\n",
       "      <td>45.976855</td>\n",
       "      <td>3.692487</td>\n",
       "      <td>6.778053</td>\n",
       "      <td>0.472829</td>\n",
       "      <td>0.007786</td>\n",
       "      <td>0.076088</td>\n",
       "      <td>4.011330</td>\n",
       "      <td>1.216089</td>\n",
       "      <td>0.005590</td>\n",
       "      <td>9.508658</td>\n",
       "      <td>0.185440</td>\n",
       "      <td>0.162814</td>\n",
       "      <td>0.124003</td>\n",
       "      <td>0.0</td>\n",
       "      <td>0.018833</td>\n",
       "      <td>0.203154</td>\n",
       "      <td>0.885979</td>\n",
       "      <td>0.001717</td>\n",
       "      <td>2.486484</td>\n",
       "      <td>0.004459</td>\n",
       "      <td>0.129341</td>\n",
       "      <td>0.025687</td>\n",
       "      <td>2.409623</td>\n",
       "      <td>0.322566</td>\n",
       "      <td>0.039720</td>\n",
       "      <td>5.661383</td>\n",
       "      <td>0.170640</td>\n",
       "      <td>0.166487</td>\n",
       "      <td>0.049418</td>\n",
       "      <td>0.011992</td>\n",
       "      <td>0.010754</td>\n",
       "      <td>0.000040</td>\n",
       "      <td>0.004459</td>\n",
       "      <td>0.013842</td>\n",
       "      <td>0.010222</td>\n",
       "      <td>0.022932</td>\n",
       "      <td>0.011925</td>\n",
       "      <td>0.000532</td>\n",
       "    </tr>\n",
       "    <tr>\n",
       "      <th rowspan=\"2\" valign=\"top\">mendeley</th>\n",
       "      <th>benign</th>\n",
       "      <td>1.995857</td>\n",
       "      <td>0.020970</td>\n",
       "      <td>0.096778</td>\n",
       "      <td>0.033855</td>\n",
       "      <td>0.052899</td>\n",
       "      <td>0.020512</td>\n",
       "      <td>35.840997</td>\n",
       "      <td>0.786267</td>\n",
       "      <td>7.221389</td>\n",
       "      <td>0.149802</td>\n",
       "      <td>0.000337</td>\n",
       "      <td>0.024335</td>\n",
       "      <td>3.956444</td>\n",
       "      <td>1.232860</td>\n",
       "      <td>0.000250</td>\n",
       "      <td>9.797635</td>\n",
       "      <td>0.044745</td>\n",
       "      <td>0.077603</td>\n",
       "      <td>0.077603</td>\n",
       "      <td>0.0</td>\n",
       "      <td>0.000030</td>\n",
       "      <td>0.063816</td>\n",
       "      <td>1.002152</td>\n",
       "      <td>0.000458</td>\n",
       "      <td>0.904494</td>\n",
       "      <td>0.001343</td>\n",
       "      <td>0.000004</td>\n",
       "      <td>0.010725</td>\n",
       "      <td>0.433963</td>\n",
       "      <td>0.115225</td>\n",
       "      <td>0.000000</td>\n",
       "      <td>0.789529</td>\n",
       "      <td>0.053846</td>\n",
       "      <td>0.053738</td>\n",
       "      <td>0.000069</td>\n",
       "      <td>0.000204</td>\n",
       "      <td>0.000072</td>\n",
       "      <td>0.000002</td>\n",
       "      <td>0.000009</td>\n",
       "      <td>0.000156</td>\n",
       "      <td>0.000007</td>\n",
       "      <td>0.000525</td>\n",
       "      <td>0.001702</td>\n",
       "      <td>0.000205</td>\n",
       "    </tr>\n",
       "    <tr>\n",
       "      <th>malicious</th>\n",
       "      <td>2.034095</td>\n",
       "      <td>0.005168</td>\n",
       "      <td>0.117933</td>\n",
       "      <td>0.006225</td>\n",
       "      <td>0.008652</td>\n",
       "      <td>0.002599</td>\n",
       "      <td>37.200286</td>\n",
       "      <td>0.291176</td>\n",
       "      <td>7.681553</td>\n",
       "      <td>0.838607</td>\n",
       "      <td>0.000143</td>\n",
       "      <td>0.010635</td>\n",
       "      <td>3.981368</td>\n",
       "      <td>1.212800</td>\n",
       "      <td>0.000029</td>\n",
       "      <td>12.132638</td>\n",
       "      <td>0.086436</td>\n",
       "      <td>0.573901</td>\n",
       "      <td>0.573901</td>\n",
       "      <td>0.0</td>\n",
       "      <td>0.000114</td>\n",
       "      <td>0.017476</td>\n",
       "      <td>0.944003</td>\n",
       "      <td>0.000143</td>\n",
       "      <td>0.820188</td>\n",
       "      <td>0.000086</td>\n",
       "      <td>0.000000</td>\n",
       "      <td>0.014991</td>\n",
       "      <td>0.574872</td>\n",
       "      <td>0.044232</td>\n",
       "      <td>0.000000</td>\n",
       "      <td>0.136750</td>\n",
       "      <td>0.008424</td>\n",
       "      <td>0.008395</td>\n",
       "      <td>0.000114</td>\n",
       "      <td>0.000057</td>\n",
       "      <td>0.000000</td>\n",
       "      <td>0.000000</td>\n",
       "      <td>0.000000</td>\n",
       "      <td>0.000057</td>\n",
       "      <td>0.000057</td>\n",
       "      <td>0.000029</td>\n",
       "      <td>0.001285</td>\n",
       "      <td>0.000000</td>\n",
       "    </tr>\n",
       "  </tbody>\n",
       "</table>\n",
       "</div>"
      ],
      "text/plain": [
       "                               fold  num_semicolons  num_underscores  \\\n",
       "dataset         label                                                  \n",
       "private_data      benign     5.417176        0.206269         1.536730   \n",
       "                malicious  5.275016        0.066435         0.831117   \n",
       "grambeddings    benign     2.063105        0.034115         0.108946   \n",
       "                malicious  1.936899        0.031403         0.289839   \n",
       "joined          benign     1.982214        0.021118         0.150568   \n",
       "                malicious  2.057574        0.056441         0.259104   \n",
       "kaggle_binary   benign     1.953755        0.005341         0.454590   \n",
       "                malicious  2.061235        0.107413         0.229921   \n",
       "kaggle_multiple benign     1.992555        0.043640         0.474353   \n",
       "                malware    2.111683        0.003288         0.128971   \n",
       "                phishing   2.007799        0.065762         0.156691   \n",
       "mendeley        benign     1.995857        0.020970         0.096778   \n",
       "                malicious  2.034095        0.005168         0.117933   \n",
       "\n",
       "                           num_question_marks  num_equals  num_ampersands  \\\n",
       "dataset         label                                                       \n",
       "private_data      benign               0.466315    1.479172        0.945545   \n",
       "                malicious            0.663171    1.132813        0.494122   \n",
       "grambeddings    benign               0.066740    0.120593        0.052733   \n",
       "                malicious            0.235098    0.587947        0.321589   \n",
       "joined          benign               0.054690    0.088270        0.034376   \n",
       "                malicious            0.204750    0.510412        0.298679   \n",
       "kaggle_binary   benign               0.136821    0.212694        0.075952   \n",
       "                malicious            0.182431    0.451016        0.300285   \n",
       "kaggle_multiple benign               0.180863    0.322219        0.147035   \n",
       "                malware              0.058652    0.168585        0.108978   \n",
       "                phishing             0.098037    0.184481        0.089026   \n",
       "mendeley        benign               0.033855    0.052899        0.020512   \n",
       "                malicious            0.006225    0.008652        0.002599   \n",
       "\n",
       "                               length  num_digits  non_alnum_cnt  hyphen_cnt  \\\n",
       "dataset         label                                                          \n",
       "private_data      benign     186.473079   38.720126      17.599489    2.516188   \n",
       "                malicious  121.641801   18.904332      12.817718    1.947464   \n",
       "grambeddings    benign      46.430752    1.822514       8.683673    1.119306   \n",
       "                malicious   86.209255   14.981677      11.827613    0.976727   \n",
       "joined          benign      41.008294    1.332135       7.954491    0.513870   \n",
       "                malicious   73.544862   11.056770      10.717800    0.834539   \n",
       "kaggle_binary   benign      58.296684    3.263119      10.458403    1.450230   \n",
       "                malicious   57.799303    6.011641       9.326434    0.594303   \n",
       "kaggle_multiple benign      57.686216    5.603407       8.506421    1.835612   \n",
       "                malware     46.554330   11.070372       9.397253    0.349207   \n",
       "                phishing    45.976855    3.692487       6.778053    0.472829   \n",
       "mendeley        benign      35.840997    0.786267       7.221389    0.149802   \n",
       "                malicious   37.200286    0.291176       7.681553    0.838607   \n",
       "\n",
       "                             at_cnt  digit_letter_ratio  urlentropy  \\\n",
       "dataset         label                                                 \n",
       "private_data      benign     0.086787            0.345672    4.898869   \n",
       "                malicious  0.376717            0.218079    4.715502   \n",
       "grambeddings    benign     0.000548            0.047662    4.099045   \n",
       "                malicious  0.032475            0.203287    4.457297   \n",
       "joined          benign     0.000422            0.035490    4.034610   \n",
       "                malicious  0.024462            0.186294    4.335705   \n",
       "kaggle_binary   benign     0.000661            0.072222    4.318284   \n",
       "                malicious  0.015154            0.181537    4.185927   \n",
       "kaggle_multiple benign     0.001535            0.114005    4.209618   \n",
       "                malware    0.001432            0.775615    4.219710   \n",
       "                phishing   0.007786            0.076088    4.011330   \n",
       "mendeley        benign     0.000337            0.024335    3.956444   \n",
       "                malicious  0.000143            0.010635    3.981368   \n",
       "\n",
       "                           urlkolmogorov_complexity_cplx  sld_contains_ip  \\\n",
       "dataset         label                                                       \n",
       "private_data      benign                          0.972120         0.060965   \n",
       "                malicious                       1.045433         0.058385   \n",
       "grambeddings    benign                          1.166744         0.000533   \n",
       "                malicious                       1.042118         0.033575   \n",
       "joined          benign                          1.203029         0.000400   \n",
       "                malicious                       1.089494         0.046971   \n",
       "kaggle_binary   benign                          1.109562         0.000930   \n",
       "                malicious                       1.149879         0.075197   \n",
       "kaggle_multiple benign                          1.135485         0.001354   \n",
       "                malware                         1.172931         0.498966   \n",
       "                phishing                        1.216089         0.005590   \n",
       "mendeley        benign                          1.232860         0.000250   \n",
       "                malicious                       1.212800         0.000029   \n",
       "\n",
       "                           sld_length  sld_num_digits  sld_non_alnum_cnt  \\\n",
       "dataset         label                                                      \n",
       "private_data      benign      10.321958        0.537801           0.285746   \n",
       "                malicious   10.168703        0.583578           0.286807   \n",
       "grambeddings    benign      10.585520        0.108393           0.112743   \n",
       "                malicious   11.657386        0.692244           0.292334   \n",
       "joined          benign       9.900511        0.059454           0.079813   \n",
       "                malicious   11.269836        0.723233           0.319205   \n",
       "kaggle_binary   benign       9.512525        0.066295           0.048455   \n",
       "                malicious   10.496836        0.854822           0.321880   \n",
       "kaggle_multiple benign       9.434148        0.090146           0.055217   \n",
       "                malware     10.578830        5.333192           1.510633   \n",
       "                phishing     9.508658        0.185440           0.162814   \n",
       "mendeley        benign       9.797635        0.044745           0.077603   \n",
       "                malicious   12.132638        0.086436           0.573901   \n",
       "\n",
       "                           sld_hyphen_cnt  sld_at_cnt  tld_is_suspicious  \\\n",
       "dataset         label                                                      \n",
       "private_data      benign           0.162568         0.0           0.016585   \n",
       "                malicious        0.164592         0.0           0.039102   \n",
       "grambeddings    benign           0.112448         0.0           0.001735   \n",
       "                malicious        0.224385         0.0           0.071766   \n",
       "joined          benign           0.079759         0.0           0.000339   \n",
       "                malicious        0.203943         0.0           0.048808   \n",
       "kaggle_binary   benign           0.048455         0.0           0.000019   \n",
       "                malicious        0.113212         0.0           0.016720   \n",
       "kaggle_multiple benign           0.053501         0.0           0.001626   \n",
       "                malware          0.018985         0.0           0.010871   \n",
       "                phishing         0.124003         0.0           0.018833   \n",
       "mendeley        benign           0.077603         0.0           0.000030   \n",
       "                malicious        0.573901         0.0           0.000114   \n",
       "\n",
       "                           subdomain_dot_cnt  num_subdomains  \\\n",
       "dataset         label                                          \n",
       "private_data      benign              0.224906        0.909880   \n",
       "                malicious           0.078701        0.484345   \n",
       "grambeddings    benign              0.034105        0.646966   \n",
       "                malicious           0.249003        0.743292   \n",
       "joined          benign              0.080945        0.968697   \n",
       "                malicious           0.188560        0.703578   \n",
       "kaggle_binary   benign              0.220321        1.219262   \n",
       "                malicious           0.109763        0.595690   \n",
       "kaggle_multiple benign              0.111342        0.378843   \n",
       "                malware             0.032137        0.256563   \n",
       "                phishing            0.203154        0.885979   \n",
       "mendeley        benign              0.063816        1.002152   \n",
       "                malicious           0.017476        0.944003   \n",
       "\n",
       "                           path_double_slash_cnt  path_subdir_cnt  \\\n",
       "dataset         label                                               \n",
       "private_data      benign                  0.028937         3.942046   \n",
       "                malicious               0.010031         3.277252   \n",
       "grambeddings    benign                  0.001680         1.410447   \n",
       "                malicious               0.000960         2.864058   \n",
       "joined          benign                  0.000622         1.157798   \n",
       "                malicious               0.001544         2.579314   \n",
       "kaggle_binary   benign                  0.000051         2.021549   \n",
       "                malicious               0.002779         2.376478   \n",
       "kaggle_multiple benign                  0.001748         3.133035   \n",
       "                malware                 0.002811         1.759082   \n",
       "                phishing                0.001717         2.486484   \n",
       "mendeley        benign                  0.000458         0.904494   \n",
       "                malicious               0.000143         0.820188   \n",
       "\n",
       "                           path_contains_%20  path_has_upper_dirs  \\\n",
       "dataset         label                                               \n",
       "private_data      benign              0.026570             0.265400   \n",
       "                malicious           0.006174             0.197905   \n",
       "grambeddings    benign              0.003235             0.042973   \n",
       "                malicious           0.022123             0.249761   \n",
       "joined          benign              0.002493             0.045605   \n",
       "                malicious           0.015869             0.205531   \n",
       "kaggle_binary   benign              0.006925             0.262155   \n",
       "                malicious           0.007921             0.163515   \n",
       "kaggle_multiple benign              0.007611             0.239801   \n",
       "                malware             0.004030             0.330699   \n",
       "                phishing            0.004459             0.129341   \n",
       "mendeley        benign              0.001343             0.000004   \n",
       "                malicious           0.000086             0.000000   \n",
       "\n",
       "                           path_has_singlechar_dir  path_special_char_cnt  \\\n",
       "dataset         label                                                       \n",
       "private_data      benign                    0.193531               4.871545   \n",
       "                malicious                 0.086776               4.205256   \n",
       "grambeddings    benign                    0.019843               1.238669   \n",
       "                malicious                 0.049041               1.412730   \n",
       "joined          benign                    0.018957               0.839404   \n",
       "                malicious                 0.039920               1.486091   \n",
       "kaggle_binary   benign                    0.056310               2.229573   \n",
       "                malicious                 0.028945               1.737847   \n",
       "kaggle_multiple benign                    0.054263               4.038054   \n",
       "                malware                   0.020894               1.200350   \n",
       "                phishing                  0.025687               2.409623   \n",
       "mendeley        benign                    0.010725               0.433963   \n",
       "                malicious                 0.014991               0.574872   \n",
       "\n",
       "                           path_zero_cnt  path_upper_lower_ratio  \\\n",
       "dataset         label                                              \n",
       "private_data      benign          1.679769                0.192618   \n",
       "                malicious       1.237335                0.121433   \n",
       "grambeddings    benign          0.226879                0.022053   \n",
       "                malicious       0.640258                0.091924   \n",
       "joined          benign          0.188122                0.014288   \n",
       "                malicious       0.500798                0.082606   \n",
       "kaggle_binary   benign          0.479779                0.071269   \n",
       "                malicious       0.332846                0.079950   \n",
       "kaggle_multiple benign          0.591447                0.036985   \n",
       "                malware         0.395980                0.303508   \n",
       "                phishing        0.322566                0.039720   \n",
       "mendeley        benign          0.115225                0.000000   \n",
       "                malicious       0.044232                0.000000   \n",
       "\n",
       "                           query_total_len  query_cnt  query_var_cnt  \\\n",
       "dataset         label                                                  \n",
       "private_data      benign           91.472458   1.302387       1.285247   \n",
       "                malicious        43.660460   1.048795       1.026575   \n",
       "grambeddings    benign            2.114898   0.118168       0.116893   \n",
       "                malicious        20.761597   0.512416       0.498764   \n",
       "joined          benign            1.379167   0.088292       0.087847   \n",
       "                malicious        16.300647   0.467911       0.456647   \n",
       "kaggle_binary   benign            3.204407   0.211486       0.210516   \n",
       "                malicious        11.159982   0.457329       0.448492   \n",
       "kaggle_multiple benign            7.842088   0.312451       0.310087   \n",
       "                malware           2.937265   0.161532       0.161160   \n",
       "                phishing          5.661383   0.170640       0.166487   \n",
       "mendeley        benign            0.789529   0.053846       0.053738   \n",
       "                malicious         0.136750   0.008424       0.008395   \n",
       "\n",
       "                           kw_login  kw_secure    kw_cmd  kw_redirect  \\\n",
       "dataset         label                                                   \n",
       "private_data      benign     0.017450   0.005305  0.001524     0.002342   \n",
       "                malicious  0.054256   0.006241  0.000018     0.000194   \n",
       "grambeddings    benign     0.005410   0.000723  0.000053     0.000285   \n",
       "                malicious  0.173620   0.053378  0.051198     0.000155   \n",
       "joined          benign     0.001071   0.000303  0.000072     0.000056   \n",
       "                malicious  0.124321   0.038553  0.034361     0.000208   \n",
       "kaggle_binary   benign     0.000269   0.000240  0.000098     0.000016   \n",
       "                malicious  0.061389   0.019716  0.010704     0.000321   \n",
       "kaggle_multiple benign     0.036577   0.008046  0.009657     0.000029   \n",
       "                malware    0.002068   0.003129  0.000212     0.000000   \n",
       "                phishing   0.049418   0.011992  0.010754     0.000040   \n",
       "mendeley        benign     0.000069   0.000204  0.000072     0.000002   \n",
       "                malicious  0.000114   0.000057  0.000000     0.000000   \n",
       "\n",
       "                           kw_confirm  kw_update  kw_verify  kw_account  \\\n",
       "dataset         label                                                     \n",
       "private_data      benign       0.005832   0.008339   0.003020    0.007211   \n",
       "                malicious    0.000899   0.014213   0.000610    0.007450   \n",
       "grambeddings    benign       0.000090   0.001368   0.000028    0.002363   \n",
       "                malicious    0.017360   0.031270   0.016013    0.070691   \n",
       "joined          benign       0.000042   0.000471   0.000010    0.000867   \n",
       "                malicious    0.012325   0.024579   0.012145    0.048939   \n",
       "kaggle_binary   benign       0.000133   0.000809   0.000006    0.000579   \n",
       "                malicious    0.005562   0.017029   0.007475    0.019724   \n",
       "kaggle_multiple benign       0.003543   0.006283   0.000823    0.007553   \n",
       "                malware      0.000159   0.002121   0.000053    0.001326   \n",
       "                phishing     0.004459   0.013842   0.010222    0.022932   \n",
       "mendeley        benign       0.000009   0.000156   0.000007    0.000525   \n",
       "                malicious    0.000000   0.000057   0.000057    0.000029   \n",
       "\n",
       "                            kw_bank  kw_challenge  \n",
       "dataset         label                              \n",
       "private_data      benign     0.008540      0.002596  \n",
       "                malicious  0.005631      0.006960  \n",
       "grambeddings    benign     0.002273      0.000578  \n",
       "                malicious  0.070201      0.005900  \n",
       "joined          benign     0.002136      0.000307  \n",
       "                malicious  0.045042      0.003642  \n",
       "kaggle_binary   benign     0.003997      0.000443  \n",
       "                malicious  0.008925      0.000379  \n",
       "kaggle_multiple benign     0.006797      0.000490  \n",
       "                malware    0.000583      0.000000  \n",
       "                phishing   0.011925      0.000532  \n",
       "mendeley        benign     0.001702      0.000205  \n",
       "                malicious  0.001285      0.000000  "
      ]
     },
     "execution_count": 39,
     "metadata": {},
     "output_type": "execute_result"
    }
   ],
   "source": [
    "features = extract_all_vec(all_datasets[\"url\"])\n",
    "result = pd.concat([all_datasets, features], axis=1)\n",
    "result.groupby([\"dataset\", \"label\"]).mean(numeric_only=True)"
   ]
  },
  {
   "cell_type": "code",
   "execution_count": null,
   "metadata": {},
   "outputs": [],
   "source": [
    "for dataset_name in dataset_names:\n",
    "    df = result[result[\"dataset\"] == dataset_name]\n",
    "    print(df[\"length\"].describe().round(3))\n",
    "    print()\n",
    "\n",
    "# === grambeddings ===\n",
    "# count    799993.000\n",
    "# mean         66.322\n",
    "# std          59.071\n",
    "# min           9.000\n",
    "# 25%          36.000\n",
    "# 50%          49.000\n",
    "# 75%          74.000\n",
    "# max        7833.000\n",
    "# Name: url_length, dtype: float64\n",
    "\n",
    "# === kaggle_multiple ===\n",
    "# count    436638.000\n",
    "# mean         55.191\n",
    "# std          43.944\n",
    "# min           2.000\n",
    "# 25%          31.000\n",
    "# 50%          43.000\n",
    "# 75%          67.000\n",
    "# max        2175.000\n",
    "# Name: url_length, dtype: float64\n",
    "\n",
    "# === joined ===\n",
    "# count    2862060.000\n",
    "# mean          48.593\n",
    "# std           39.577\n",
    "# min            2.000\n",
    "# 25%           29.000\n",
    "# 50%           38.000\n",
    "# 75%           55.000\n",
    "# max         7833.000\n",
    "# Name: url_length, dtype: float64\n",
    "\n",
    "# === kaggle_binary ===\n",
    "# count    556261.000\n",
    "# mean         58.082\n",
    "# std          39.542\n",
    "# min           2.000\n",
    "# 25%          36.000\n",
    "# 50%          49.000\n",
    "# 75%          69.000\n",
    "# max        2314.000\n",
    "# Name: url_length, dtype: float64\n",
    "\n",
    "# === mendeley ===\n",
    "# count    1514102.000\n",
    "# mean          35.872\n",
    "# std           14.440\n",
    "# min           12.000\n",
    "# 25%           26.000\n",
    "# 50%           32.000\n",
    "# 75%           42.000\n",
    "# max          721.000\n",
    "# Name: url_length, dtype: float64\n",
    "\n",
    "# === private_data ===\n",
    "# count        2836160\n",
    "# mean         179.990\n",
    "# std          291.134\n",
    "# min            1.000\n",
    "# 25%           63.000\n",
    "# 50%          107.000\n",
    "# 75%          192.000\n",
    "# max       110511.000\n",
    "# Name: url_length, dtype: float64"
   ]
  }
 ],
 "metadata": {
  "application/vnd.databricks.v1+notebook": {
   "computePreferences": null,
   "dashboards": [],
   "environmentMetadata": null,
   "inputWidgetPreferences": null,
   "language": "python",
   "notebookMetadata": {
    "pythonIndentUnit": 4
   },
   "notebookName": "data_exploration",
   "widgets": {}
  },
  "kernelspec": {
   "display_name": "bp",
   "language": "python",
   "name": "python3"
  },
  "language_info": {
   "name": "python"
  }
 },
 "nbformat": 4,
 "nbformat_minor": 0
}
